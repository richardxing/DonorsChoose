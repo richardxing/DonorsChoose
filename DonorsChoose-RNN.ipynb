{
 "cells": [
  {
   "cell_type": "code",
   "execution_count": 1,
   "metadata": {},
   "outputs": [],
   "source": [
    "import numpy as np\n",
    "import pandas as pd\n",
    "import matplotlib.pyplot as plt\n",
    "from textblob import TextBlob\n",
    "#import os"
   ]
  },
  {
   "cell_type": "code",
   "execution_count": 2,
   "metadata": {
    "collapsed": true
   },
   "outputs": [
    {
     "name": "stderr",
     "output_type": "stream",
     "text": [
      "D:\\Anaconda3\\envs\\tensorflow\\lib\\site-packages\\IPython\\core\\interactiveshell.py:2728: DtypeWarning: Columns (11,12) have mixed types. Specify dtype option on import or set low_memory=False.\n",
      "  interactivity=interactivity, compiler=compiler, result=result)\n"
     ]
    }
   ],
   "source": [
    "mainpath='d:/Deep Learning 2018/DonorsChoose/'\n",
    "trainpath='d:/Deep Learning 2018/DonorsChoose/train/'\n",
    "testpath='d:/Deep Learning 2018/DonorsChoose/test/'\n",
    "\n",
    "train=pd.read_csv(trainpath+'train.csv')\n",
    "resources=pd.read_csv(trainpath+'resources.csv')\n",
    "test=pd.read_csv(testpath+'test.csv')\n",
    "\n"
   ]
  },
  {
   "cell_type": "markdown",
   "metadata": {},
   "source": [
    "## create these features for each proposal:\n",
    "- total price\n",
    "- highest single item price"
   ]
  },
  {
   "cell_type": "code",
   "execution_count": 3,
   "metadata": {},
   "outputs": [],
   "source": [
    "resources['total_price']=resources['price']*resources['quantity'];\n",
    "                    #if as_index=True by default, these are series; otherwise, it returns a DataFrame\n",
    "#rg2=resources.groupby(by='id')['total_price'].agg('sum')#same\n",
    "rg1=resources.groupby(by='id', as_index=False)['total_price'].sum();\n",
    "rg2=resources.groupby(by='id',as_index=False)['price'].max();\n",
    "rg2.rename({'price':'highest_single_item_price'},axis='columns',inplace=True);#rename column name\n",
    "rg12=pd.merge(rg1,rg2,how='inner',on='id');"
   ]
  },
  {
   "cell_type": "markdown",
   "metadata": {},
   "source": [
    "## Join the tables got from resources.csv & train.csv; resources.csv & test.csv"
   ]
  },
  {
   "cell_type": "code",
   "execution_count": 5,
   "metadata": {},
   "outputs": [],
   "source": [
    "#print('Projests before 2016-05-17:',np.sum(train1['project_submitted_datetime'] < pd.Timestamp('2016-05-18')))\n",
    "train1=pd.merge(train,rg12,how='left',on='id')\n",
    "test1=pd.merge(test,rg12,how='left',on='id')\n",
    "train1.loc[:,'project_submitted_datetime']=pd.to_datetime(train1.loc[:,'project_submitted_datetime'])\n",
    "test1.loc[:,'project_submitted_datetime']=pd.to_datetime(test1.loc[:,'project_submitted_datetime'])"
   ]
  },
  {
   "cell_type": "code",
   "execution_count": 6,
   "metadata": {
    "scrolled": true
   },
   "outputs": [
    {
     "name": "stdout",
     "output_type": "stream",
     "text": [
      "Index(['id', 'teacher_id', 'teacher_prefix', 'school_state',\n",
      "       'project_submitted_datetime', 'project_grade_category',\n",
      "       'project_subject_categories', 'project_subject_subcategories',\n",
      "       'project_title', 'project_essay_1', 'project_essay_2',\n",
      "       'project_essay_3', 'project_essay_4', 'project_resource_summary',\n",
      "       'teacher_number_of_previously_posted_projects', 'project_is_approved',\n",
      "       'total_price', 'highest_single_item_price'],\n",
      "      dtype='object')\n"
     ]
    }
   ],
   "source": [
    "print(train1.columns)"
   ]
  },
  {
   "cell_type": "code",
   "execution_count": 7,
   "metadata": {},
   "outputs": [],
   "source": [
    "train1['project_submitted_datetime']=train1['project_submitted_datetime'].dt.date\n",
    "test1['project_submitted_datetime']=test1['project_submitted_datetime'].dt.date\n",
    "y_train=train1['project_is_approved']\n",
    "X_train1=train1.drop(['project_is_approved'],axis=1)\n",
    "X_test1=test1\n"
   ]
  },
  {
   "cell_type": "markdown",
   "metadata": {},
   "source": [
    "## text cleaning"
   ]
  },
  {
   "cell_type": "code",
   "execution_count": 8,
   "metadata": {},
   "outputs": [],
   "source": [
    "X_train1.loc[X_train1['project_essay_3'].notna(), 'new_essay_policy'] = 0 \n",
    "X_train1.loc[X_train1['project_essay_3'].isna(), 'new_essay_policy'] = 1 \n",
    "X_train1.loc[X_train1['project_essay_3'].notna(), 'project_essay_1'] = X_train1.loc[X_train1['project_essay_3'].notna(), 'project_essay_1'] + ' ' + train.loc[X_train1['project_essay_3'].notna(), 'project_essay_2']\n",
    "X_train1.loc[X_train1['project_essay_3'].notna(), 'project_essay_2'] = X_train1.loc[X_train1['project_essay_3'].notna(), 'project_essay_3'] + ' ' + train.loc[X_train1['project_essay_3'].notna(), 'project_essay_4']\n",
    "\n",
    "\n"
   ]
  },
  {
   "cell_type": "code",
   "execution_count": 9,
   "metadata": {},
   "outputs": [],
   "source": [
    "X_test1.loc[X_test1['project_essay_3'].notna(), 'new_essay_policy'] = 0 \n",
    "X_test1.loc[X_test1['project_essay_3'].isna(), 'new_essay_policy'] = 1 \n",
    "X_test1.loc[X_test1['project_essay_3'].notna(), 'project_essay_1'] = X_test1.loc[X_test1['project_essay_3'].notna(), 'project_essay_1'] + ' ' + test.loc[X_test1['project_essay_3'].notna(), 'project_essay_2']\n",
    "X_test1.loc[X_test1['project_essay_3'].notna(), 'project_essay_2'] = X_test1.loc[X_test1['project_essay_3'].notna(), 'project_essay_3'] + ' ' + test.loc[X_test1['project_essay_3'].notna(), 'project_essay_4']\n",
    "\n"
   ]
  },
  {
   "cell_type": "code",
   "execution_count": 10,
   "metadata": {},
   "outputs": [],
   "source": [
    "X_train1.drop(['project_essay_3', 'project_essay_4'], axis=1, inplace=True)\n",
    "X_test1.drop(['project_essay_3', 'project_essay_4'], axis=1, inplace=True)"
   ]
  },
  {
   "cell_type": "code",
   "execution_count": 11,
   "metadata": {},
   "outputs": [],
   "source": [
    "X_train1['project_essay_1'] = X_train1['project_essay_1'].apply(lambda x: x.replace('\\\\r', ' ').replace('\\\\n', ' ').replace('\\\\', ' ').replace('  ', ' '))\n",
    "X_train1['project_essay_2'] = X_train1['project_essay_2'].apply(lambda x: x.replace('\\\\r', ' ').replace('\\\\n', ' ').replace('\\\\', ' ').replace('  ', ' '))\n"
   ]
  },
  {
   "cell_type": "code",
   "execution_count": 12,
   "metadata": {},
   "outputs": [],
   "source": [
    "X_test1['project_essay_1'] = X_test1['project_essay_1'].apply(lambda x: x.replace('\\\\r', ' ').replace('\\\\n', ' ').replace('\\\\', ' ').replace('  ', ' '))\n",
    "X_test1['project_essay_2'] = X_test1['project_essay_2'].apply(lambda x: x.replace('\\\\r', ' ').replace('\\\\n', ' ').replace('\\\\', ' ').replace('  ', ' '))\n"
   ]
  },
  {
   "cell_type": "markdown",
   "metadata": {},
   "source": [
    "## tokenize lemmatize"
   ]
  },
  {
   "cell_type": "code",
   "execution_count": 13,
   "metadata": {},
   "outputs": [],
   "source": [
    "from nltk import sent_tokenize, word_tokenize\n",
    "\n",
    "'''\n",
    "def count_sent(text):\n",
    "    if text == \"nan\" or not text:\n",
    "        return 0\n",
    "    sents = sent_tokenize(text)\n",
    "    return len(sents)\n",
    "def count_word(text):\n",
    "    if text=='nan' or not text:\n",
    "        return 0\n",
    "    words=word_tokenize(text)\n",
    "    return len(words)\n",
    "# these two functions are not used\n",
    "'''\n",
    "X_train1['word_length_title'] = X_train1['project_title'].apply(lambda x: len(x.split()))\n",
    "X_train1['word_project_essay_1'] = X_train1['project_essay_1'].apply(lambda x: len(x.split()))\n",
    "X_train1['word_project_essay_2'] = X_train1['project_essay_2'].apply(lambda x: len(x.split()))"
   ]
  },
  {
   "cell_type": "code",
   "execution_count": 14,
   "metadata": {},
   "outputs": [],
   "source": [
    "X_test1['word_length_title'] = X_test1['project_title'].apply(lambda x: len(x.split()))\n",
    "X_test1['word_project_essay_1'] = X_test1['project_essay_1'].apply(lambda x: len(x.split()))\n",
    "X_test1['word_project_essay_2'] = X_test1['p ject_essay_2'].apply(lambda x: len(x.split()))"
   ]
  },
  {
   "cell_type": "markdown",
   "metadata": {},
   "source": [
    "## get sentiment features "
   ]
  },
  {
   "cell_type": "code",
   "execution_count": 15,
   "metadata": {},
   "outputs": [],
   "source": [
    "# functions to get polatiy and subjectivity\n",
    "\n",
    "\n",
    "def get_polarity(text):\n",
    "    textblob = TextBlob(text)\n",
    "    pol = textblob.sentiment.polarity\n",
    "    return round(pol,3)\n",
    "\n",
    "def get_subjectivity(text):\n",
    "    textblob = TextBlob(text)\n",
    "    subj = textblob.sentiment.subjectivity\n",
    "    return round(subj,3)\n",
    "X_train1['title_polarity'] = X_train1['project_title'].apply(get_polarity)\n",
    "X_train1['title_subjectivity'] = X_train1['project_title'].apply(get_subjectivity)\n",
    "X_train1['essay_1_polarity'] = X_train1['project_essay_1'].apply(get_polarity)\n",
    "X_train1['essay_1_subjectivity'] = X_train1['project_essay_1'].apply(get_subjectivity)\n",
    "X_train1['essay_2_polarity'] = X_train1['project_essay_2'].apply(get_polarity)\n",
    "X_train1['essay_2_subjectivity'] = X_train1['project_essay_2'].apply(get_subjectivity)\n"
   ]
  },
  {
   "cell_type": "code",
   "execution_count": 16,
   "metadata": {},
   "outputs": [],
   "source": [
    "X_test1['title_polarity'] = X_test1['project_title'].apply(get_polarity)\n",
    "X_test1['title_subjectivity'] = X_test1['project_title'].apply(get_subjectivity)\n",
    "X_test1['essay_1_polarity'] = X_test1['project_essay_1'].apply(get_polarity)\n",
    "X_test1['essay_1_subjectivity'] = X_test1['project_essay_1'].apply(get_subjectivity)\n",
    "X_test1['essay_2_polarity'] = X_test1['project_essay_2'].apply(get_polarity)\n",
    "X_test1['essay_2_subjectivity'] = X_test1['project_essay_2'].apply(get_subjectivity)"
   ]
  },
  {
   "cell_type": "code",
   "execution_count": 17,
   "metadata": {},
   "outputs": [],
   "source": [
    "X_train1.to_csv(\"DonorChoose_processed_train.csv\")\n",
    "X_test1.to_csv(\"DonorChoose_processed_test.csv\")"
   ]
  },
  {
   "cell_type": "code",
   "execution_count": 18,
   "metadata": {},
   "outputs": [],
   "source": [
    "from nltk.corpus import stopwords\n",
    "def text_process(mess):\n",
    "    \"\"\"\n",
    "    Takes in a string of text, then performs the following:\n",
    "    1. Remove all punctuation\n",
    "    2. Remove all stopwords\n",
    "    3. Returns a list of the cleaned text\n",
    "    \"\"\"\n",
    "    # Check characters to see if they are in punctuation\n",
    "    nopunc = [char for char in mess if char not in string.punctuation]\n",
    "\n",
    "    # Join the characters again to form the string.\n",
    "    nopunc = ''.join(nopunc)\n",
    "    \n",
    "    # Now just remove any stopwords\n",
    "    return [word for word in nopunc.split() if word.lower() not in stopwords.words('english')]"
   ]
  },
  {
   "cell_type": "raw",
   "metadata": {},
   "source": [
    "'''\n",
    "X_train1['project_essay_1'].apply(text_process)\n",
    "print('check')\n",
    "X_train1['project_essay_2'].apply(text_process)\n",
    "print('check')\n",
    "X_train1['project_resources_summary'].apply(text_process)\n",
    "print('check')\n",
    "X_train1['project_title'].apply(text_process)\n",
    "print('check')\n",
    "'''"
   ]
  },
  {
   "cell_type": "code",
   "execution_count": 19,
   "metadata": {},
   "outputs": [
    {
     "name": "stdout",
     "output_type": "stream",
     "text": [
      "[nltk_data] Downloading package punkt to\n",
      "[nltk_data]     C:\\Users\\lifei\\AppData\\Roaming\\nltk_data...\n",
      "[nltk_data]   Package punkt is already up-to-date!\n"
     ]
    },
    {
     "data": {
      "text/plain": [
       "True"
      ]
     },
     "execution_count": 19,
     "metadata": {},
     "output_type": "execute_result"
    }
   ],
   "source": [
    "import gc\n",
    "import tqdm\n",
    "import nltk\n",
    "nltk.download(\"punkt\")"
   ]
  },
  {
   "cell_type": "code",
   "execution_count": 20,
   "metadata": {},
   "outputs": [
    {
     "name": "stderr",
     "output_type": "stream",
     "text": [
      "Using TensorFlow backend.\n"
     ]
    }
   ],
   "source": [
    "def tokenize_sentences(sentences, words_dict):\n",
    "    tokenized_sentences = []\n",
    "    for sentence in tqdm.tqdm(sentences):\n",
    "        if hasattr(sentence, \"decode\"):\n",
    "            sentence = sentence.decode(\"utf-8\")\n",
    "        tokens = nltk.tokenize.word_tokenize(sentence)\n",
    "        result = []\n",
    "        for word in tokens:\n",
    "            word = word.lower()\n",
    "            if word not in words_dict:\n",
    "                words_dict[word] = len(words_dict)\n",
    "            word_index = words_dict[word]\n",
    "            result.append(word_index)\n",
    "        tokenized_sentences.append(result)\n",
    "    return tokenized_sentences, words_dict\n",
    "#embedding\n",
    "def read_embedding_list(file_path):\n",
    "    embedding_word_dict = {}\n",
    "    embedding_list = []\n",
    "    f = open(file_path, encoding=\"utf8\")\n",
    "    #f = open(file_path)\n",
    "    for index, line in enumerate(f):\n",
    "        if index == 0:\n",
    "            continue\n",
    "        values = line.split()\n",
    "        word = values[0]\n",
    "        try:\n",
    "            coefs = np.asarray(values[1:], dtype='float32')\n",
    "        except:\n",
    "            continue\n",
    "        embedding_list.append(coefs)\n",
    "        embedding_word_dict[word] = len(embedding_word_dict)\n",
    "    f.close()\n",
    "    embedding_list = np.array(embedding_list)\n",
    "    return embedding_list, embedding_word_dict\n",
    "\n",
    "def clear_embedding_list(embedding_list, embedding_word_dict, words_dict):\n",
    "    cleared_embedding_list = []\n",
    "    cleared_embedding_word_dict = {}\n",
    "\n",
    "    for word in words_dict:\n",
    "        if word not in embedding_word_dict:\n",
    "            continue\n",
    "        word_id = embedding_word_dict[word]\n",
    "        row = embedding_list[word_id]\n",
    "        cleared_embedding_list.append(row)\n",
    "        cleared_embedding_word_dict[word] = len(cleared_embedding_word_dict)\n",
    "\n",
    "    return cleared_embedding_list, cleared_embedding_word_dict\n",
    "\n",
    "def convert_tokens_to_ids(tokenized_sentences, words_list, embedding_word_dict, sentences_length):\n",
    "    words_train = []\n",
    "\n",
    "    for sentence in tokenized_sentences:\n",
    "        current_words = []\n",
    "        for word_index in sentence:\n",
    "            word = words_list[word_index]\n",
    "            word_id = embedding_word_dict.get(word, len(embedding_word_dict) - 2)\n",
    "            current_words.append(word_id)\n",
    "\n",
    "        if len(current_words) >= sentences_length:\n",
    "            current_words = current_words[:sentences_length]\n",
    "        else:\n",
    "            current_words += [len(embedding_word_dict) - 1] * (sentences_length - len(current_words))\n",
    "        words_train.append(current_words)\n",
    "    return words_train\n",
    "\n",
    "from keras.callbacks import Callback, EarlyStopping, ModelCheckpoint\n",
    "from keras.engine import Layer\n",
    "from keras.layers import Activation, Add, Bidirectional, Conv1D, Dense, Dropout, Embedding, Flatten\n",
    "from keras.layers import concatenate, GRU, Input, K, LSTM, MaxPooling1D\n",
    "from keras.layers import GlobalAveragePooling1D,  GlobalMaxPooling1D, SpatialDropout1D\n",
    "from keras.models import Model\n",
    "from keras.optimizers import Adam\n",
    "from keras.preprocessing import text, sequence\n",
    "from sklearn.metrics import accuracy_score, roc_auc_score, log_loss\n",
    "from sklearn.model_selection import train_test_split\n",
    "from keras import initializers, regularizers, constraints, optimizers, layers, callbacks\n",
    "\n",
    "gru_len = 128\n",
    "Routings = 5\n",
    "Num_capsule = 10\n",
    "Dim_capsule = 16\n",
    "dropout_p = 0.3\n",
    "rate_drop_dense = 0.3\n",
    "\n",
    "def squash(x, axis=-1):\n",
    "    s_squared_norm = K.sum(K.square(x), axis, keepdims=True)\n",
    "    scale = K.sqrt(s_squared_norm + K.epsilon())\n",
    "    return x / scale\n",
    "\n",
    "# capsule layer\n",
    "\n",
    "class Capsule(Layer):\n",
    "    def __init__(self, num_capsule, dim_capsule, routings=3, kernel_size=(9, 1), share_weights=True,\n",
    "                 activation='default', **kwargs):\n",
    "        super(Capsule, self).__init__(**kwargs)\n",
    "        self.num_capsule = num_capsule\n",
    "        self.dim_capsule = dim_capsule\n",
    "        self.routings = routings\n",
    "        self.kernel_size = kernel_size\n",
    "        self.share_weights = share_weights\n",
    "        if activation == 'default':\n",
    "            self.activation = squash\n",
    "        else:\n",
    "            self.activation = Activation(activation)\n",
    "\n",
    "    def build(self, input_shape):\n",
    "        super(Capsule, self).build(input_shape)\n",
    "        input_dim_capsule = input_shape[-1]\n",
    "        if self.share_weights:\n",
    "            self.W = self.add_weight(name='capsule_kernel',\n",
    "                                     shape=(1, input_dim_capsule,\n",
    "                                            self.num_capsule * self.dim_capsule),\n",
    "                                     # shape=self.kernel_size,\n",
    "                                     initializer='glorot_uniform',\n",
    "                                     trainable=True)\n",
    "        else:\n",
    "            input_num_capsule = input_shape[-2]\n",
    "            self.W = self.add_weight(name='capsule_kernel',\n",
    "                                     shape=(input_num_capsule,\n",
    "                                            input_dim_capsule,\n",
    "                                            self.num_capsule * self.dim_capsule),\n",
    "                                     initializer='glorot_uniform',\n",
    "                                     trainable=True)\n",
    "\n",
    "    def call(self, u_vecs):\n",
    "        if self.share_weights:\n",
    "            u_hat_vecs = K.conv1d(u_vecs, self.W)\n",
    "        else:\n",
    "            u_hat_vecs = K.local_conv1d(u_vecs, self.W, [1], [1])\n",
    "\n",
    "        batch_size = K.shape(u_vecs)[0]\n",
    "        input_num_capsule = K.shape(u_vecs)[1]\n",
    "        u_hat_vecs = K.reshape(u_hat_vecs, (batch_size, input_num_capsule,\n",
    "                                            self.num_capsule, self.dim_capsule))\n",
    "        u_hat_vecs = K.permute_dimensions(u_hat_vecs, (0, 2, 1, 3))\n",
    "        # final u_hat_vecs.shape = [None, num_capsule, input_num_capsule, dim_capsule]\n",
    "\n",
    "        b = K.zeros_like(u_hat_vecs[:, :, :, 0])  # shape = [None, num_capsule, input_num_capsule]\n",
    "        for i in range(self.routings):\n",
    "            b = K.permute_dimensions(b, (0, 2, 1))  # shape = [None, input_num_capsule, num_capsule]\n",
    "            c = K.softmax(b)\n",
    "            c = K.permute_dimensions(c, (0, 2, 1))\n",
    "            b = K.permute_dimensions(b, (0, 2, 1))\n",
    "            outputs = self.activation(K.batch_dot(c, u_hat_vecs, [2, 2]))\n",
    "            if i < self.routings - 1:\n",
    "                b = K.batch_dot(outputs, u_hat_vecs, [2, 3])\n",
    "\n",
    "        return outputs\n",
    "\n",
    "    def compute_output_shape(self, input_shape):\n",
    "        return (None, self.num_capsule, self.dim_capsule)"
   ]
  },
  {
   "cell_type": "code",
   "execution_count": 21,
   "metadata": {},
   "outputs": [],
   "source": [
    "UNKNOWN_WORD = \"_UNK_\"\n",
    "END_WORD = \"_END_\"\n",
    "NAN_WORD = \"_NAN_\"\n",
    "CLASSES = [\"project_is_approved\"]"
   ]
  },
  {
   "cell_type": "code",
   "execution_count": 22,
   "metadata": {},
   "outputs": [],
   "source": [
    "X_train1['application_text']=X_train1.apply(lambda row: ' '.join([\n",
    "    str(row['project_title']),\n",
    "    str(row['project_essay_1']),\n",
    "    str(row['project_essay_2']),   \n",
    "    ]),axis=1)"
   ]
  },
  {
   "cell_type": "code",
   "execution_count": 23,
   "metadata": {},
   "outputs": [],
   "source": [
    "X_test1['application_text']=X_test1.apply(lambda row: ' '.join([\n",
    "    str(row['project_title']),\n",
    "    str(row['project_essay_1']),\n",
    "    str(row['project_essay_2']),   \n",
    "    ]),axis=1)"
   ]
  },
  {
   "cell_type": "code",
   "execution_count": 24,
   "metadata": {},
   "outputs": [
    {
     "name": "stdout",
     "output_type": "stream",
     "text": [
      "Loading data...\n",
      "Done.\n"
     ]
    }
   ],
   "source": [
    "print(\"Loading data...\")\n",
    "X_train1_data = X_train1\n",
    "list_sentences_X_train1 = X_train1_data[\"application_text\"].fillna(NAN_WORD).values\n",
    "X_test1_data = X_test1\n",
    "list_sentences_X_test1 = X_test1_data[\"application_text\"].fillna(NAN_WORD).values\n",
    "\n",
    "y_train = y_train.values\n",
    "print(\"Done.\")"
   ]
  },
  {
   "cell_type": "code",
   "execution_count": 25,
   "metadata": {},
   "outputs": [
    {
     "name": "stdout",
     "output_type": "stream",
     "text": [
      "Tokenizing sentences in train set...\n"
     ]
    },
    {
     "name": "stderr",
     "output_type": "stream",
     "text": [
      "100%|█████████████████████████████████████████████████████████████████████████| 182080/182080 [13:57<00:00, 217.28it/s]\n"
     ]
    },
    {
     "name": "stdout",
     "output_type": "stream",
     "text": [
      "Tokenizing sentences in test set...\n"
     ]
    },
    {
     "name": "stderr",
     "output_type": "stream",
     "text": [
      "100%|███████████████████████████████████████████████████████████████████████████| 78035/78035 [06:00<00:00, 216.58it/s]\n"
     ]
    }
   ],
   "source": [
    "print(\"Tokenizing sentences in train set...\")\n",
    "tokenized_sentences_train, words_dict = tokenize_sentences(list_sentences_X_train1, {})\n",
    "print(\"Tokenizing sentences in test set...\")\n",
    "tokenized_sentences_test, words_dict = tokenize_sentences(list_sentences_X_test1, words_dict)"
   ]
  },
  {
   "cell_type": "code",
   "execution_count": 26,
   "metadata": {},
   "outputs": [
    {
     "name": "stdout",
     "output_type": "stream",
     "text": [
      "Loading embeddings...\n",
      "Done\n"
     ]
    }
   ],
   "source": [
    "len(words_dict)\n",
    "# Embedding\n",
    "\n",
    "embedding_path = \"d:/Deep Learning 2018/embeddings/crawl-300d-2M.vec\"\n",
    "\n",
    "#embedding_path = \"F:/Deep Learning 2018/DonorsChoose/embeddings_small.vec\"\n",
    "\n",
    "words_dict[UNKNOWN_WORD] = len(words_dict)\n",
    "print(\"Loading embeddings...\")\n",
    "embedding_list, embedding_word_dict = read_embedding_list(embedding_path)\n",
    "embedding_size = len(embedding_list[0])\n",
    "print(\"Done\")"
   ]
  },
  {
   "cell_type": "code",
   "execution_count": 27,
   "metadata": {},
   "outputs": [],
   "source": [
    "batch_size = 256\n",
    "recurrent_units = 64\n",
    "dropout_rate = 0.3 \n",
    "dense_size = 32\n",
    "sentences_length = 320\n",
    "fold_count = 5"
   ]
  },
  {
   "cell_type": "code",
   "execution_count": 28,
   "metadata": {},
   "outputs": [
    {
     "name": "stdout",
     "output_type": "stream",
     "text": [
      "Preparing data...\n",
      "Done\n"
     ]
    }
   ],
   "source": [
    "print(\"Preparing data...\")\n",
    "embedding_list, embedding_word_dict = clear_embedding_list(embedding_list, embedding_word_dict, words_dict)\n",
    "\n",
    "embedding_word_dict[UNKNOWN_WORD] = len(embedding_word_dict)\n",
    "embedding_list.append([0.] * embedding_size)\n",
    "embedding_word_dict[END_WORD] = len(embedding_word_dict)\n",
    "embedding_list.append([-1.] * embedding_size)\n",
    "\n",
    "embedding_matrix = np.array(embedding_list)\n",
    "\n",
    "id_to_word = dict((id, word) for word, id in words_dict.items())\n",
    "train_list_of_token_ids = convert_tokens_to_ids(\n",
    "    tokenized_sentences_train,\n",
    "    id_to_word,\n",
    "    embedding_word_dict,\n",
    "    sentences_length)\n",
    "test_list_of_token_ids = convert_tokens_to_ids(\n",
    "    tokenized_sentences_test,\n",
    "    id_to_word,\n",
    "    embedding_word_dict,\n",
    "    sentences_length)\n",
    "X_train_text = np.array(train_list_of_token_ids)\n",
    "X_test_text = np.array(test_list_of_token_ids)\n",
    "print(\"Done\")"
   ]
  },
  {
   "cell_type": "markdown",
   "metadata": {},
   "source": [
    "## save intermediate model "
   ]
  },
  {
   "cell_type": "code",
   "execution_count": 29,
   "metadata": {},
   "outputs": [
    {
     "name": "stdout",
     "output_type": "stream",
     "text": [
      "142444\n"
     ]
    }
   ],
   "source": [
    "print(len(words_dict))\n",
    "\n",
    "import pickle\n",
    "\n",
    "\n",
    "def save_obj(obj, fname):\n",
    "    with open(fname, 'wb') as f:\n",
    "        pickle.dump(obj, f, pickle.HIGHEST_PROTOCOL)\n",
    "\n",
    "\n",
    "def load_obj(fname):\n",
    "    with open(fname, 'rb') as f:\n",
    "        return pickle.load(f)\n",
    "    \n",
    "save_obj(X_train_text,'X_train_text.pkl')\n",
    "X_train1.to_csv('DonorChoose_processed_train_combined_text.csv')\n"
   ]
  },
  {
   "cell_type": "code",
   "execution_count": 30,
   "metadata": {},
   "outputs": [],
   "source": [
    "save_obj(X_test_text,'X_test_text.pkl')\n",
    "X_test1.to_csv('DonorChoose_processed_test_combined_text.csv')"
   ]
  },
  {
   "cell_type": "code",
   "execution_count": 31,
   "metadata": {},
   "outputs": [],
   "source": [
    "from sklearn.base import BaseEstimator, TransformerMixin\n",
    "from sklearn.preprocessing import StandardScaler\n",
    "\n",
    "class add_features(BaseEstimator, TransformerMixin):\n",
    "    \"\"\"Takes in dataframe, extracts road name column, outputs average word length\"\"\"\n",
    "\n",
    "    def __init__(self):\n",
    "        pass #self.vars = vars  # e.g. pass in a column name to extract\n",
    "\n",
    "    def convert_log(self, previous_proposals):#passed in is a Series?no datapoint\n",
    "        #return np.mean([len(word) for word in name.split()])\n",
    "        result=np.log(1+float(previous_proposals))\n",
    "        #print(result)\n",
    "        return result\n",
    "\n",
    "    def transform(self, df, y=None):\n",
    "        \"\"\"The workhorse of this feature extractor\"\"\"\n",
    "        \"\"\"features about reject pressure. project viewers need to reject certain percentage\n",
    "        of proposals due to limited resources. \n",
    "        This is probably a better way to use datetime info\"\"\"\n",
    "        pd.options.mode.chained_assignment = None#ignore SettingWithCopyWarning because it's false positive, everything I do here is on a copy and I return a copy. if I change the names of df to df1,df2 etc, the warning should be gone.\n",
    "\n",
    "        df.loc[:,'reject_pressure_by_funds']=df.groupby('project_submitted_datetime')['total_price'].transform(lambda x: x.sum())\n",
    "        df.loc[:,'reject_pressure_by_projects']=df.groupby('project_submitted_datetime')['total_price'].transform(lambda x: x.count())\n",
    "        df.loc[:,'log_previously_posted_projects']=df['teacher_number_of_previously_posted_projects'].apply(self.convert_log)\n",
    "        #create DataFrames that contain categorical information\n",
    "        prefix = pd.get_dummies(df['teacher_prefix'],drop_first=False)\n",
    "        state=pd.get_dummies(df['school_state'],drop_first=False)\n",
    "        grade= pd.get_dummies(df['project_grade_category'],drop_first=False)\n",
    "        category= pd.get_dummies(df['project_subject_categories'],drop_first=False)\n",
    "        #sub_category=pd.get_dummies(df['project_subject_subcategories'],drop_first=False)\n",
    "        missing_cols_main=set(complete_prefix+complete_state+complete_grade+complete_category)-(set(list(prefix))|set(list(state))|set(list(grade))|set(list(category)))\n",
    "        #missing_cols_extra=set(complete_sub_category)-set(list(sub_category))\n",
    "        #set(complete_category)&set(complete_sub_category) not empty\n",
    "        #print (missing_cols_main)\n",
    "        #print (missing_cols_extra)\n",
    "        df=pd.concat([df,prefix],axis=1)\n",
    "        df=pd.concat([df,state],axis=1)\n",
    "        df=pd.concat([df,grade],axis=1)\n",
    "        df=pd.concat([df,category],axis=1)\n",
    "        #df=pd.concat([df,sub_category],axis=1)\n",
    "        for c1 in missing_cols_main:\n",
    "            df.loc[:,c1] = 0\n",
    "        #for c2 in missing_cols_extra:\n",
    "        #    df.loc[:,c2] = 0\n",
    "        #del prefix,state,grade,category#,sub_category\n",
    "        #del missing_cols_main\n",
    "        #del missing_cols_extra\n",
    "\n",
    "        to_be_dropped_sure=['id',\n",
    "         'teacher_id',\n",
    "         'teacher_prefix',\n",
    "         'school_state',\n",
    "         'project_submitted_datetime',\n",
    "         'project_grade_category',\n",
    "         'project_subject_categories',\n",
    "         'project_subject_subcategories',\n",
    "         'project_title',\n",
    "         'project_essay_1',\n",
    "         'project_essay_2',\n",
    "         'project_resource_summary',\n",
    "         'teacher_number_of_previously_posted_projects','application_text']\n",
    "        to_be_dropped=to_be_dropped_sure#+complete_prefix+complete_state+complete_grade+complete_category#+complete_sub_category\n",
    "        #print(df.drop(to_be_dropped,axis=1).head(1))\n",
    "        df.drop(to_be_dropped,axis=1,inplace=True)\n",
    "        return df\n",
    "\n",
    "    def fit(self, df, y=None,**fit_params):\n",
    "        \"\"\"Returns `self` unless something different happens in train and test\"\"\"\n",
    "        return self\n"
   ]
  },
  {
   "cell_type": "code",
   "execution_count": 32,
   "metadata": {},
   "outputs": [],
   "source": [
    "complete_prefix=list(X_train1['teacher_prefix'].dropna(axis=0, how='any').unique())\n",
    "complete_state=list(X_train1['school_state'].unique())\n",
    "complete_grade=list(X_train1['project_grade_category'].unique())\n",
    "complete_category=list(X_train1['project_subject_categories'].unique())#51 categories\n",
    "#complete_sub_category=list(X_train1['project_subject_subcategories'].unique())#407 sub-categories\n",
    "\n",
    "X_train_nontextpart=StandardScaler().fit_transform(add_features().transform(X_train1))"
   ]
  },
  {
   "cell_type": "code",
   "execution_count": 33,
   "metadata": {},
   "outputs": [],
   "source": [
    "complete_prefix=list(X_test1['teacher_prefix'].dropna(axis=0, how='any').unique())\n",
    "complete_state=list(X_test1['school_state'].unique())\n",
    "complete_grade=list(X_test1['project_grade_category'].unique())\n",
    "complete_category=list(X_test1['project_subject_categories'].unique())#51 categories\n",
    "#complete_sub_category=list(X_test1['project_subject_subcategories'].unique())#407 sub-categories\n",
    "\n",
    "X_test_nontextpart=StandardScaler().fit_transform(add_features().transform(X_test1))"
   ]
  },
  {
   "cell_type": "code",
   "execution_count": 34,
   "metadata": {},
   "outputs": [
    {
     "name": "stdout",
     "output_type": "stream",
     "text": [
      "(182080, 126)\n",
      "(182080, 320)\n"
     ]
    }
   ],
   "source": [
    "print(X_train_nontextpart.shape)\n",
    "print(X_train_text.shape)\n",
    "#print(X_test_nontextpart.shape)\n",
    "#X_train_formodel=np.concatenate((X_train_nontextpart,X_train_text),axis=1)\n",
    "#X_test_formodel=np.concatenate((X_test_nontextpart,X_test_text),axis=1)\n",
    "#print(X_train_formodel.shape)"
   ]
  },
  {
   "cell_type": "code",
   "execution_count": 35,
   "metadata": {},
   "outputs": [
    {
     "name": "stdout",
     "output_type": "stream",
     "text": [
      "__________________________________________________________________________________________________\n",
      "Layer (type)                    Output Shape         Param #     Connected to                     \n",
      "==================================================================================================\n",
      "text (InputLayer)               (None, 320)          0                                            \n",
      "__________________________________________________________________________________________________\n",
      "embedding_1 (Embedding)         (None, 320, 300)     23672400    text[0][0]                       \n",
      "__________________________________________________________________________________________________\n",
      "spatial_dropout1d_1 (SpatialDro (None, 320, 300)     0           embedding_1[0][0]                \n",
      "__________________________________________________________________________________________________\n",
      "bidirectional_1 (Bidirectional) (None, 320, 256)     329472      spatial_dropout1d_1[0][0]        \n",
      "__________________________________________________________________________________________________\n",
      "nontext (InputLayer)            (None, 126)          0                                            \n",
      "__________________________________________________________________________________________________\n",
      "capsule_1 (Capsule)             (None, 10, 16)       40960       bidirectional_1[0][0]            \n",
      "__________________________________________________________________________________________________\n",
      "dense_1 (Dense)                 (None, 64)           8128        nontext[0][0]                    \n",
      "__________________________________________________________________________________________________\n",
      "flatten_1 (Flatten)             (None, 160)          0           capsule_1[0][0]                  \n",
      "__________________________________________________________________________________________________\n",
      "dense_2 (Dense)                 (None, 128)          8320        dense_1[0][0]                    \n",
      "__________________________________________________________________________________________________\n",
      "dropout_1 (Dropout)             (None, 160)          0           flatten_1[0][0]                  \n",
      "__________________________________________________________________________________________________\n",
      "concatenate_1 (Concatenate)     (None, 288)          0           dense_2[0][0]                    \n",
      "                                                                 dropout_1[0][0]                  \n",
      "__________________________________________________________________________________________________\n",
      "dense_3 (Dense)                 (None, 1)            289         concatenate_1[0][0]              \n",
      "==================================================================================================\n",
      "Total params: 24,059,569\n",
      "Trainable params: 387,169\n",
      "Non-trainable params: 23,672,400\n",
      "__________________________________________________________________________________________________\n"
     ]
    }
   ],
   "source": [
    "def get_model(embedding_matrix, sequence_length, dropout_rate, recurrent_units, dense_size):\n",
    "    \n",
    "    nontext = Input(shape=[X_train_nontextpart.shape[1]], name=\"nontext\")\n",
    "    nontext1 = Dense(64, activation='relu')(nontext)\n",
    "    nontext1 = Dense(128, activation='relu')(nontext1) \n",
    "    \n",
    "    textpart = Input(shape=(sequence_length,),name=\"text\")\n",
    "    \n",
    "    embed_layer = Embedding(embedding_matrix.shape[0], embedding_matrix.shape[1],\n",
    "                                weights=[embedding_matrix], trainable=False)(textpart)\n",
    "    embed_layer = SpatialDropout1D(rate_drop_dense)(embed_layer)\n",
    "\n",
    "    x_text = Bidirectional(\n",
    "        GRU(gru_len, activation='relu', dropout=dropout_p, recurrent_dropout=dropout_p, return_sequences=True))(\n",
    "        embed_layer)\n",
    "    capsule = Capsule(num_capsule=Num_capsule, dim_capsule=Dim_capsule, routings=Routings,\n",
    "                      share_weights=True)(x_text)\n",
    "    capsule = Flatten()(capsule)\n",
    "    capsule = Dropout(dropout_p)(capsule)\n",
    "    \n",
    "    X = concatenate([\n",
    "        nontext1,\n",
    "        capsule,\n",
    "    ])    \n",
    "    \n",
    "    output = Dense(1, activation='sigmoid')(X)\n",
    "    model = Model(inputs=[nontext, textpart], outputs=output)\n",
    "    model.compile(\n",
    "        loss='binary_crossentropy',\n",
    "        optimizer='adam',\n",
    "        metrics=['accuracy'])\n",
    "    return model\n",
    "\n",
    "model2=get_model(\n",
    "    embedding_matrix,\n",
    "    sentences_length,\n",
    "    dropout_rate,\n",
    "    recurrent_units,\n",
    "    dense_size)\n",
    "\n",
    "model2.summary()"
   ]
  },
  {
   "cell_type": "code",
   "execution_count": 36,
   "metadata": {},
   "outputs": [
    {
     "name": "stdout",
     "output_type": "stream",
     "text": [
      "Train on 145664 samples, validate on 36416 samples\n",
      "Epoch 1/6\n",
      " 51712/145664 [=========>....................] - ETA: 1:40:23 - loss: 0.4522 - acc: 0.89 - ETA: 59:40 - loss: 0.4533 - acc: 0.8711 - ETA: 46:15 - loss: 0.4560 - acc: 0.86 - ETA: 39:12 - loss: 0.4581 - acc: 0.86 - ETA: 34:58 - loss: 0.4534 - acc: 0.86 - ETA: 32:13 - loss: 0.4484 - acc: 0.85 - ETA: 30:17 - loss: 0.4494 - acc: 0.85 - ETA: 28:46 - loss: 0.4456 - acc: 0.85 - ETA: 27:43 - loss: 0.4437 - acc: 0.85 - ETA: 26:47 - loss: 0.4397 - acc: 0.85 - ETA: 25:59 - loss: 0.4382 - acc: 0.85 - ETA: 25:16 - loss: 0.4378 - acc: 0.85 - ETA: 24:44 - loss: 0.4430 - acc: 0.85 - ETA: 24:19 - loss: 0.4406 - acc: 0.85 - ETA: 23:57 - loss: 0.4441 - acc: 0.85 - ETA: 23:34 - loss: 0.4450 - acc: 0.85 - ETA: 23:11 - loss: 0.4411 - acc: 0.85 - ETA: 22:55 - loss: 0.4407 - acc: 0.85 - ETA: 22:39 - loss: 0.4389 - acc: 0.85 - ETA: 22:23 - loss: 0.4362 - acc: 0.85 - ETA: 22:07 - loss: 0.4344 - acc: 0.85 - ETA: 21:56 - loss: 0.4324 - acc: 0.85 - ETA: 21:47 - loss: 0.4317 - acc: 0.85 - ETA: 21:34 - loss: 0.4302 - acc: 0.85 - ETA: 21:21 - loss: 0.4266 - acc: 0.85 - ETA: 21:12 - loss: 0.4240 - acc: 0.85 - ETA: 21:05 - loss: 0.4247 - acc: 0.85 - ETA: 20:56 - loss: 0.4256 - acc: 0.85 - ETA: 20:48 - loss: 0.4268 - acc: 0.85 - ETA: 20:40 - loss: 0.4252 - acc: 0.85 - ETA: 20:31 - loss: 0.4260 - acc: 0.85 - ETA: 20:22 - loss: 0.4247 - acc: 0.85 - ETA: 20:15 - loss: 0.4257 - acc: 0.85 - ETA: 20:09 - loss: 0.4238 - acc: 0.85 - ETA: 20:02 - loss: 0.4231 - acc: 0.85 - ETA: 19:58 - loss: 0.4236 - acc: 0.85 - ETA: 19:52 - loss: 0.4243 - acc: 0.85 - ETA: 19:47 - loss: 0.4238 - acc: 0.85 - ETA: 19:40 - loss: 0.4236 - acc: 0.85 - ETA: 19:36 - loss: 0.4231 - acc: 0.85 - ETA: 19:32 - loss: 0.4222 - acc: 0.85 - ETA: 19:28 - loss: 0.4230 - acc: 0.85 - ETA: 19:23 - loss: 0.4229 - acc: 0.85 - ETA: 19:18 - loss: 0.4227 - acc: 0.85 - ETA: 19:14 - loss: 0.4240 - acc: 0.85 - ETA: 19:10 - loss: 0.4235 - acc: 0.85 - ETA: 19:05 - loss: 0.4244 - acc: 0.85 - ETA: 19:01 - loss: 0.4250 - acc: 0.85 - ETA: 18:57 - loss: 0.4245 - acc: 0.85 - ETA: 18:54 - loss: 0.4233 - acc: 0.85 - ETA: 18:51 - loss: 0.4242 - acc: 0.85 - ETA: 18:46 - loss: 0.4248 - acc: 0.85 - ETA: 18:42 - loss: 0.4248 - acc: 0.85 - ETA: 18:38 - loss: 0.4257 - acc: 0.85 - ETA: 18:34 - loss: 0.4270 - acc: 0.85 - ETA: 18:30 - loss: 0.4259 - acc: 0.85 - ETA: 18:27 - loss: 0.4259 - acc: 0.85 - ETA: 18:23 - loss: 0.4258 - acc: 0.85 - ETA: 18:20 - loss: 0.4256 - acc: 0.85 - ETA: 18:16 - loss: 0.4263 - acc: 0.85 - ETA: 18:12 - loss: 0.4258 - acc: 0.85 - ETA: 18:09 - loss: 0.4255 - acc: 0.85 - ETA: 18:05 - loss: 0.4249 - acc: 0.85 - ETA: 18:02 - loss: 0.4246 - acc: 0.85 - ETA: 17:59 - loss: 0.4255 - acc: 0.85 - ETA: 17:56 - loss: 0.4255 - acc: 0.85 - ETA: 17:52 - loss: 0.4264 - acc: 0.85 - ETA: 17:50 - loss: 0.4263 - acc: 0.85 - ETA: 17:47 - loss: 0.4270 - acc: 0.85 - ETA: 17:43 - loss: 0.4271 - acc: 0.85 - ETA: 17:41 - loss: 0.4265 - acc: 0.85 - ETA: 17:38 - loss: 0.4272 - acc: 0.85 - ETA: 17:34 - loss: 0.4274 - acc: 0.85 - ETA: 17:31 - loss: 0.4269 - acc: 0.85 - ETA: 17:29 - loss: 0.4269 - acc: 0.85 - ETA: 17:26 - loss: 0.4271 - acc: 0.85 - ETA: 17:23 - loss: 0.4265 - acc: 0.85 - ETA: 17:20 - loss: 0.4266 - acc: 0.85 - ETA: 17:17 - loss: 0.4268 - acc: 0.85 - ETA: 17:14 - loss: 0.4267 - acc: 0.85 - ETA: 17:11 - loss: 0.4269 - acc: 0.85 - ETA: 17:08 - loss: 0.4274 - acc: 0.85 - ETA: 17:06 - loss: 0.4274 - acc: 0.85 - ETA: 17:03 - loss: 0.4273 - acc: 0.85 - ETA: 17:00 - loss: 0.4270 - acc: 0.85 - ETA: 16:57 - loss: 0.4278 - acc: 0.85 - ETA: 16:54 - loss: 0.4273 - acc: 0.85 - ETA: 16:51 - loss: 0.4267 - acc: 0.85 - ETA: 16:48 - loss: 0.4263 - acc: 0.85 - ETA: 16:45 - loss: 0.4255 - acc: 0.85 - ETA: 16:42 - loss: 0.4253 - acc: 0.85 - ETA: 16:39 - loss: 0.4251 - acc: 0.85 - ETA: 16:37 - loss: 0.4253 - acc: 0.85 - ETA: 16:34 - loss: 0.4260 - acc: 0.85 - ETA: 16:31 - loss: 0.4263 - acc: 0.85 - ETA: 16:28 - loss: 0.4267 - acc: 0.85 - ETA: 16:26 - loss: 0.4263 - acc: 0.85 - ETA: 16:24 - loss: 0.4256 - acc: 0.85 - ETA: 16:21 - loss: 0.4257 - acc: 0.85 - ETA: 16:19 - loss: 0.4264 - acc: 0.85 - ETA: 16:16 - loss: 0.4269 - acc: 0.85 - ETA: 16:14 - loss: 0.4267 - acc: 0.85 - ETA: 16:11 - loss: 0.4264 - acc: 0.85 - ETA: 16:09 - loss: 0.4261 - acc: 0.85 - ETA: 16:06 - loss: 0.4254 - acc: 0.85 - ETA: 16:04 - loss: 0.4256 - acc: 0.85 - ETA: 16:01 - loss: 0.4255 - acc: 0.85 - ETA: 15:59 - loss: 0.4262 - acc: 0.85 - ETA: 15:56 - loss: 0.4264 - acc: 0.84 - ETA: 15:53 - loss: 0.4261 - acc: 0.85 - ETA: 15:51 - loss: 0.4268 - acc: 0.84 - ETA: 15:49 - loss: 0.4267 - acc: 0.84 - ETA: 15:46 - loss: 0.4266 - acc: 0.84 - ETA: 15:44 - loss: 0.4267 - acc: 0.84 - ETA: 15:41 - loss: 0.4265 - acc: 0.84 - ETA: 15:39 - loss: 0.4264 - acc: 0.84 - ETA: 15:37 - loss: 0.4264 - acc: 0.84 - ETA: 15:34 - loss: 0.4261 - acc: 0.84 - ETA: 15:32 - loss: 0.4258 - acc: 0.85 - ETA: 15:30 - loss: 0.4257 - acc: 0.85 - ETA: 15:28 - loss: 0.4260 - acc: 0.84 - ETA: 15:25 - loss: 0.4258 - acc: 0.85 - ETA: 15:23 - loss: 0.4262 - acc: 0.84 - ETA: 15:20 - loss: 0.4264 - acc: 0.84 - ETA: 15:18 - loss: 0.4263 - acc: 0.84 - ETA: 15:15 - loss: 0.4257 - acc: 0.85 - ETA: 15:13 - loss: 0.4259 - acc: 0.84 - ETA: 15:10 - loss: 0.4259 - acc: 0.84 - ETA: 15:08 - loss: 0.4258 - acc: 0.84 - ETA: 15:06 - loss: 0.4258 - acc: 0.84 - ETA: 15:04 - loss: 0.4260 - acc: 0.84 - ETA: 15:01 - loss: 0.4265 - acc: 0.84 - ETA: 14:59 - loss: 0.4263 - acc: 0.84 - ETA: 14:57 - loss: 0.4260 - acc: 0.84 - ETA: 14:54 - loss: 0.4262 - acc: 0.84 - ETA: 14:52 - loss: 0.4262 - acc: 0.84 - ETA: 14:50 - loss: 0.4260 - acc: 0.84 - ETA: 14:48 - loss: 0.4260 - acc: 0.84 - ETA: 14:45 - loss: 0.4266 - acc: 0.84 - ETA: 14:43 - loss: 0.4265 - acc: 0.84 - ETA: 14:41 - loss: 0.4264 - acc: 0.84 - ETA: 14:39 - loss: 0.4265 - acc: 0.84 - ETA: 14:36 - loss: 0.4270 - acc: 0.84 - ETA: 14:34 - loss: 0.4263 - acc: 0.84 - ETA: 14:32 - loss: 0.4263 - acc: 0.84 - ETA: 14:30 - loss: 0.4264 - acc: 0.84 - ETA: 14:27 - loss: 0.4264 - acc: 0.84 - ETA: 14:25 - loss: 0.4270 - acc: 0.84 - ETA: 14:23 - loss: 0.4266 - acc: 0.84 - ETA: 14:21 - loss: 0.4261 - acc: 0.84 - ETA: 14:18 - loss: 0.4261 - acc: 0.84 - ETA: 14:16 - loss: 0.4262 - acc: 0.84 - ETA: 14:14 - loss: 0.4258 - acc: 0.84 - ETA: 14:12 - loss: 0.4262 - acc: 0.84 - ETA: 14:10 - loss: 0.4262 - acc: 0.84 - ETA: 14:07 - loss: 0.4260 - acc: 0.84 - ETA: 14:05 - loss: 0.4258 - acc: 0.84 - ETA: 14:03 - loss: 0.4254 - acc: 0.84 - ETA: 14:01 - loss: 0.4254 - acc: 0.84 - ETA: 13:58 - loss: 0.4254 - acc: 0.84 - ETA: 13:56 - loss: 0.4252 - acc: 0.84 - ETA: 13:54 - loss: 0.4251 - acc: 0.84 - ETA: 13:52 - loss: 0.4253 - acc: 0.84 - ETA: 13:49 - loss: 0.4255 - acc: 0.84 - ETA: 13:47 - loss: 0.4258 - acc: 0.84 - ETA: 13:45 - loss: 0.4257 - acc: 0.84 - ETA: 13:43 - loss: 0.4258 - acc: 0.84 - ETA: 13:40 - loss: 0.4258 - acc: 0.84 - ETA: 13:38 - loss: 0.4255 - acc: 0.84 - ETA: 13:36 - loss: 0.4251 - acc: 0.84 - ETA: 13:34 - loss: 0.4253 - acc: 0.84 - ETA: 13:32 - loss: 0.4254 - acc: 0.84 - ETA: 13:29 - loss: 0.4253 - acc: 0.84 - ETA: 13:27 - loss: 0.4251 - acc: 0.84 - ETA: 13:25 - loss: 0.4252 - acc: 0.84 - ETA: 13:23 - loss: 0.4254 - acc: 0.84 - ETA: 13:21 - loss: 0.4252 - acc: 0.84 - ETA: 13:19 - loss: 0.4251 - acc: 0.84 - ETA: 13:17 - loss: 0.4250 - acc: 0.84 - ETA: 13:15 - loss: 0.4248 - acc: 0.84 - ETA: 13:12 - loss: 0.4246 - acc: 0.84 - ETA: 13:10 - loss: 0.4246 - acc: 0.84 - ETA: 13:08 - loss: 0.4245 - acc: 0.84 - ETA: 13:06 - loss: 0.4245 - acc: 0.84 - ETA: 13:04 - loss: 0.4242 - acc: 0.84 - ETA: 13:01 - loss: 0.4243 - acc: 0.84 - ETA: 12:59 - loss: 0.4244 - acc: 0.84 - ETA: 12:57 - loss: 0.4241 - acc: 0.84 - ETA: 12:55 - loss: 0.4240 - acc: 0.84 - ETA: 12:53 - loss: 0.4239 - acc: 0.84 - ETA: 12:51 - loss: 0.4236 - acc: 0.84 - ETA: 12:48 - loss: 0.4236 - acc: 0.84 - ETA: 12:46 - loss: 0.4232 - acc: 0.84 - ETA: 12:44 - loss: 0.4230 - acc: 0.84 - ETA: 12:42 - loss: 0.4232 - acc: 0.84 - ETA: 12:40 - loss: 0.4232 - acc: 0.84 - ETA: 12:38 - loss: 0.4234 - acc: 0.84 - ETA: 12:36 - loss: 0.4232 - acc: 0.84 - ETA: 12:34 - loss: 0.4231 - acc: 0.84 - ETA: 12:31 - loss: 0.4231 - acc: 0.84 - ETA: 12:29 - loss: 0.4232 - acc: 0.84 - ETA: 12:27 - loss: 0.4230 - acc: 0.84103936/145664 [====================>.........] - ETA: 12:25 - loss: 0.4231 - acc: 0.84 - ETA: 12:23 - loss: 0.4231 - acc: 0.84 - ETA: 12:21 - loss: 0.4232 - acc: 0.84 - ETA: 12:19 - loss: 0.4233 - acc: 0.84 - ETA: 12:16 - loss: 0.4233 - acc: 0.84 - ETA: 12:14 - loss: 0.4235 - acc: 0.84 - ETA: 12:12 - loss: 0.4237 - acc: 0.84 - ETA: 12:10 - loss: 0.4232 - acc: 0.84 - ETA: 12:08 - loss: 0.4232 - acc: 0.84 - ETA: 12:06 - loss: 0.4231 - acc: 0.84 - ETA: 12:04 - loss: 0.4233 - acc: 0.84 - ETA: 12:02 - loss: 0.4233 - acc: 0.84 - ETA: 11:59 - loss: 0.4231 - acc: 0.84 - ETA: 11:57 - loss: 0.4230 - acc: 0.84 - ETA: 11:55 - loss: 0.4227 - acc: 0.84 - ETA: 11:53 - loss: 0.4228 - acc: 0.84 - ETA: 11:51 - loss: 0.4226 - acc: 0.84 - ETA: 11:49 - loss: 0.4225 - acc: 0.84 - ETA: 11:47 - loss: 0.4227 - acc: 0.84 - ETA: 11:45 - loss: 0.4229 - acc: 0.84 - ETA: 11:43 - loss: 0.4225 - acc: 0.84 - ETA: 11:41 - loss: 0.4224 - acc: 0.84 - ETA: 11:38 - loss: 0.4222 - acc: 0.84 - ETA: 11:36 - loss: 0.4222 - acc: 0.84 - ETA: 11:34 - loss: 0.4217 - acc: 0.84 - ETA: 11:32 - loss: 0.4216 - acc: 0.84 - ETA: 11:30 - loss: 0.4216 - acc: 0.84 - ETA: 11:28 - loss: 0.4216 - acc: 0.84 - ETA: 11:26 - loss: 0.4212 - acc: 0.84 - ETA: 11:24 - loss: 0.4212 - acc: 0.84 - ETA: 11:22 - loss: 0.4212 - acc: 0.84 - ETA: 11:20 - loss: 0.4211 - acc: 0.84 - ETA: 11:18 - loss: 0.4209 - acc: 0.84 - ETA: 11:15 - loss: 0.4207 - acc: 0.84 - ETA: 11:13 - loss: 0.4206 - acc: 0.84 - ETA: 11:11 - loss: 0.4205 - acc: 0.84 - ETA: 11:09 - loss: 0.4206 - acc: 0.84 - ETA: 11:07 - loss: 0.4204 - acc: 0.84 - ETA: 11:05 - loss: 0.4203 - acc: 0.84 - ETA: 11:03 - loss: 0.4205 - acc: 0.84 - ETA: 11:01 - loss: 0.4206 - acc: 0.84 - ETA: 10:59 - loss: 0.4204 - acc: 0.84 - ETA: 10:57 - loss: 0.4207 - acc: 0.84 - ETA: 10:55 - loss: 0.4205 - acc: 0.84 - ETA: 10:52 - loss: 0.4203 - acc: 0.84 - ETA: 10:50 - loss: 0.4202 - acc: 0.84 - ETA: 10:48 - loss: 0.4199 - acc: 0.84 - ETA: 10:46 - loss: 0.4201 - acc: 0.84 - ETA: 10:44 - loss: 0.4201 - acc: 0.84 - ETA: 10:42 - loss: 0.4200 - acc: 0.84 - ETA: 10:40 - loss: 0.4198 - acc: 0.84 - ETA: 10:38 - loss: 0.4195 - acc: 0.84 - ETA: 10:36 - loss: 0.4196 - acc: 0.84 - ETA: 10:34 - loss: 0.4195 - acc: 0.84 - ETA: 10:32 - loss: 0.4192 - acc: 0.84 - ETA: 10:30 - loss: 0.4191 - acc: 0.84 - ETA: 10:28 - loss: 0.4191 - acc: 0.84 - ETA: 10:26 - loss: 0.4188 - acc: 0.84 - ETA: 10:24 - loss: 0.4189 - acc: 0.84 - ETA: 10:21 - loss: 0.4187 - acc: 0.84 - ETA: 10:19 - loss: 0.4185 - acc: 0.84 - ETA: 10:17 - loss: 0.4185 - acc: 0.84 - ETA: 10:15 - loss: 0.4182 - acc: 0.84 - ETA: 10:13 - loss: 0.4181 - acc: 0.84 - ETA: 10:11 - loss: 0.4180 - acc: 0.84 - ETA: 10:09 - loss: 0.4180 - acc: 0.84 - ETA: 10:07 - loss: 0.4180 - acc: 0.84 - ETA: 10:05 - loss: 0.4180 - acc: 0.84 - ETA: 10:03 - loss: 0.4181 - acc: 0.84 - ETA: 10:01 - loss: 0.4181 - acc: 0.84 - ETA: 9:59 - loss: 0.4181 - acc: 0.8488 - ETA: 9:57 - loss: 0.4182 - acc: 0.848 - ETA: 9:55 - loss: 0.4182 - acc: 0.848 - ETA: 9:53 - loss: 0.4181 - acc: 0.848 - ETA: 9:51 - loss: 0.4182 - acc: 0.848 - ETA: 9:49 - loss: 0.4181 - acc: 0.848 - ETA: 9:47 - loss: 0.4180 - acc: 0.848 - ETA: 9:45 - loss: 0.4180 - acc: 0.848 - ETA: 9:42 - loss: 0.4178 - acc: 0.848 - ETA: 9:40 - loss: 0.4176 - acc: 0.848 - ETA: 9:38 - loss: 0.4175 - acc: 0.848 - ETA: 9:36 - loss: 0.4176 - acc: 0.848 - ETA: 9:34 - loss: 0.4174 - acc: 0.848 - ETA: 9:32 - loss: 0.4174 - acc: 0.848 - ETA: 9:30 - loss: 0.4173 - acc: 0.848 - ETA: 9:28 - loss: 0.4171 - acc: 0.848 - ETA: 9:26 - loss: 0.4171 - acc: 0.848 - ETA: 9:24 - loss: 0.4174 - acc: 0.848 - ETA: 9:22 - loss: 0.4172 - acc: 0.848 - ETA: 9:20 - loss: 0.4170 - acc: 0.848 - ETA: 9:18 - loss: 0.4170 - acc: 0.848 - ETA: 9:16 - loss: 0.4169 - acc: 0.848 - ETA: 9:14 - loss: 0.4169 - acc: 0.848 - ETA: 9:12 - loss: 0.4168 - acc: 0.848 - ETA: 9:10 - loss: 0.4167 - acc: 0.848 - ETA: 9:08 - loss: 0.4165 - acc: 0.848 - ETA: 9:05 - loss: 0.4164 - acc: 0.848 - ETA: 9:03 - loss: 0.4160 - acc: 0.848 - ETA: 9:01 - loss: 0.4159 - acc: 0.848 - ETA: 8:59 - loss: 0.4157 - acc: 0.848 - ETA: 8:57 - loss: 0.4159 - acc: 0.848 - ETA: 8:55 - loss: 0.4160 - acc: 0.848 - ETA: 8:53 - loss: 0.4160 - acc: 0.848 - ETA: 8:51 - loss: 0.4161 - acc: 0.848 - ETA: 8:49 - loss: 0.4159 - acc: 0.848 - ETA: 8:47 - loss: 0.4158 - acc: 0.848 - ETA: 8:45 - loss: 0.4156 - acc: 0.848 - ETA: 8:43 - loss: 0.4157 - acc: 0.848 - ETA: 8:41 - loss: 0.4158 - acc: 0.848 - ETA: 8:39 - loss: 0.4156 - acc: 0.848 - ETA: 8:37 - loss: 0.4157 - acc: 0.848 - ETA: 8:35 - loss: 0.4156 - acc: 0.848 - ETA: 8:33 - loss: 0.4155 - acc: 0.848 - ETA: 8:30 - loss: 0.4154 - acc: 0.848 - ETA: 8:28 - loss: 0.4154 - acc: 0.848 - ETA: 8:26 - loss: 0.4152 - acc: 0.848 - ETA: 8:24 - loss: 0.4150 - acc: 0.848 - ETA: 8:22 - loss: 0.4150 - acc: 0.848 - ETA: 8:20 - loss: 0.4149 - acc: 0.848 - ETA: 8:18 - loss: 0.4151 - acc: 0.848 - ETA: 8:16 - loss: 0.4152 - acc: 0.848 - ETA: 8:14 - loss: 0.4151 - acc: 0.848 - ETA: 8:12 - loss: 0.4151 - acc: 0.848 - ETA: 8:10 - loss: 0.4148 - acc: 0.848 - ETA: 8:08 - loss: 0.4147 - acc: 0.848 - ETA: 8:06 - loss: 0.4147 - acc: 0.848 - ETA: 8:04 - loss: 0.4145 - acc: 0.848 - ETA: 8:02 - loss: 0.4144 - acc: 0.848 - ETA: 8:00 - loss: 0.4143 - acc: 0.848 - ETA: 7:58 - loss: 0.4144 - acc: 0.848 - ETA: 7:56 - loss: 0.4144 - acc: 0.848 - ETA: 7:54 - loss: 0.4140 - acc: 0.848 - ETA: 7:52 - loss: 0.4138 - acc: 0.848 - ETA: 7:50 - loss: 0.4136 - acc: 0.848 - ETA: 7:48 - loss: 0.4136 - acc: 0.848 - ETA: 7:45 - loss: 0.4135 - acc: 0.848 - ETA: 7:43 - loss: 0.4134 - acc: 0.848 - ETA: 7:41 - loss: 0.4132 - acc: 0.848 - ETA: 7:39 - loss: 0.4131 - acc: 0.848 - ETA: 7:37 - loss: 0.4131 - acc: 0.848 - ETA: 7:35 - loss: 0.4130 - acc: 0.848 - ETA: 7:33 - loss: 0.4129 - acc: 0.848 - ETA: 7:31 - loss: 0.4129 - acc: 0.848 - ETA: 7:29 - loss: 0.4127 - acc: 0.848 - ETA: 7:27 - loss: 0.4127 - acc: 0.848 - ETA: 7:25 - loss: 0.4126 - acc: 0.848 - ETA: 7:23 - loss: 0.4126 - acc: 0.848 - ETA: 7:21 - loss: 0.4126 - acc: 0.848 - ETA: 7:19 - loss: 0.4126 - acc: 0.848 - ETA: 7:17 - loss: 0.4127 - acc: 0.848 - ETA: 7:15 - loss: 0.4126 - acc: 0.848 - ETA: 7:13 - loss: 0.4124 - acc: 0.848 - ETA: 7:11 - loss: 0.4122 - acc: 0.848 - ETA: 7:09 - loss: 0.4122 - acc: 0.848 - ETA: 7:06 - loss: 0.4120 - acc: 0.848 - ETA: 7:04 - loss: 0.4118 - acc: 0.848 - ETA: 7:02 - loss: 0.4116 - acc: 0.848 - ETA: 7:00 - loss: 0.4115 - acc: 0.848 - ETA: 6:58 - loss: 0.4112 - acc: 0.848 - ETA: 6:56 - loss: 0.4110 - acc: 0.848 - ETA: 6:54 - loss: 0.4110 - acc: 0.848 - ETA: 6:52 - loss: 0.4111 - acc: 0.848 - ETA: 6:50 - loss: 0.4113 - acc: 0.848 - ETA: 6:48 - loss: 0.4112 - acc: 0.848 - ETA: 6:46 - loss: 0.4111 - acc: 0.848 - ETA: 6:44 - loss: 0.4111 - acc: 0.848 - ETA: 6:42 - loss: 0.4112 - acc: 0.848 - ETA: 6:40 - loss: 0.4111 - acc: 0.848 - ETA: 6:38 - loss: 0.4109 - acc: 0.848 - ETA: 6:36 - loss: 0.4109 - acc: 0.848 - ETA: 6:34 - loss: 0.4109 - acc: 0.848 - ETA: 6:32 - loss: 0.4108 - acc: 0.848 - ETA: 6:30 - loss: 0.4109 - acc: 0.848 - ETA: 6:28 - loss: 0.4108 - acc: 0.848 - ETA: 6:26 - loss: 0.4108 - acc: 0.848 - ETA: 6:24 - loss: 0.4106 - acc: 0.848 - ETA: 6:22 - loss: 0.4106 - acc: 0.848 - ETA: 6:20 - loss: 0.4107 - acc: 0.848 - ETA: 6:18 - loss: 0.4107 - acc: 0.848 - ETA: 6:16 - loss: 0.4106 - acc: 0.848 - ETA: 6:14 - loss: 0.4106 - acc: 0.848 - ETA: 6:12 - loss: 0.4105 - acc: 0.848 - ETA: 6:10 - loss: 0.4104 - acc: 0.848 - ETA: 6:08 - loss: 0.4104 - acc: 0.848 - ETA: 6:06 - loss: 0.4104 - acc: 0.848 - ETA: 6:04 - loss: 0.4104 - acc: 0.848 - ETA: 6:02 - loss: 0.4102 - acc: 0.848 - ETA: 6:00 - loss: 0.4103 - acc: 0.848 - ETA: 5:58 - loss: 0.4103 - acc: 0.848 - ETA: 5:56 - loss: 0.4103 - acc: 0.848 - ETA: 5:54 - loss: 0.4102 - acc: 0.848 - ETA: 5:52 - loss: 0.4101 - acc: 0.848 - ETA: 5:50 - loss: 0.4101 - acc: 0.848 - ETA: 5:48 - loss: 0.4101 - acc: 0.848 - ETA: 5:46 - loss: 0.4101 - acc: 0.848 - ETA: 5:43 - loss: 0.4100 - acc: 0.848 - ETA: 5:41 - loss: 0.4100 - acc: 0.848 - ETA: 5:39 - loss: 0.4100 - acc: 0.848 - ETA: 5:37 - loss: 0.4100 - acc: 0.848 - ETA: 5:35 - loss: 0.4098 - acc: 0.848 - ETA: 5:33 - loss: 0.4097 - acc: 0.848 - ETA: 5:31 - loss: 0.4096 - acc: 0.848 - ETA: 5:29 - loss: 0.4096 - acc: 0.848 - ETA: 5:27 - loss: 0.4096 - acc: 0.8480145664/145664 [==============================] - ETA: 5:25 - loss: 0.4094 - acc: 0.848 - ETA: 5:23 - loss: 0.4094 - acc: 0.848 - ETA: 5:21 - loss: 0.4093 - acc: 0.848 - ETA: 5:19 - loss: 0.4091 - acc: 0.848 - ETA: 5:17 - loss: 0.4091 - acc: 0.848 - ETA: 5:15 - loss: 0.4090 - acc: 0.848 - ETA: 5:13 - loss: 0.4090 - acc: 0.848 - ETA: 5:11 - loss: 0.4089 - acc: 0.848 - ETA: 5:09 - loss: 0.4088 - acc: 0.848 - ETA: 5:07 - loss: 0.4088 - acc: 0.848 - ETA: 5:05 - loss: 0.4089 - acc: 0.848 - ETA: 5:03 - loss: 0.4087 - acc: 0.848 - ETA: 5:01 - loss: 0.4087 - acc: 0.848 - ETA: 4:59 - loss: 0.4086 - acc: 0.848 - ETA: 4:57 - loss: 0.4084 - acc: 0.848 - ETA: 4:55 - loss: 0.4082 - acc: 0.848 - ETA: 4:53 - loss: 0.4081 - acc: 0.848 - ETA: 4:51 - loss: 0.4080 - acc: 0.848 - ETA: 4:49 - loss: 0.4078 - acc: 0.848 - ETA: 4:47 - loss: 0.4078 - acc: 0.848 - ETA: 4:45 - loss: 0.4077 - acc: 0.848 - ETA: 4:43 - loss: 0.4079 - acc: 0.848 - ETA: 4:41 - loss: 0.4078 - acc: 0.848 - ETA: 4:39 - loss: 0.4078 - acc: 0.848 - ETA: 4:37 - loss: 0.4077 - acc: 0.848 - ETA: 4:35 - loss: 0.4075 - acc: 0.848 - ETA: 4:33 - loss: 0.4075 - acc: 0.848 - ETA: 4:31 - loss: 0.4074 - acc: 0.848 - ETA: 4:29 - loss: 0.4073 - acc: 0.848 - ETA: 4:27 - loss: 0.4073 - acc: 0.848 - ETA: 4:25 - loss: 0.4071 - acc: 0.848 - ETA: 4:23 - loss: 0.4072 - acc: 0.848 - ETA: 4:21 - loss: 0.4072 - acc: 0.848 - ETA: 4:19 - loss: 0.4071 - acc: 0.848 - ETA: 4:17 - loss: 0.4071 - acc: 0.848 - ETA: 4:15 - loss: 0.4070 - acc: 0.848 - ETA: 4:13 - loss: 0.4071 - acc: 0.848 - ETA: 4:11 - loss: 0.4070 - acc: 0.848 - ETA: 4:09 - loss: 0.4070 - acc: 0.848 - ETA: 4:07 - loss: 0.4069 - acc: 0.848 - ETA: 4:05 - loss: 0.4067 - acc: 0.848 - ETA: 4:03 - loss: 0.4066 - acc: 0.848 - ETA: 4:01 - loss: 0.4065 - acc: 0.848 - ETA: 3:59 - loss: 0.4065 - acc: 0.848 - ETA: 3:56 - loss: 0.4064 - acc: 0.848 - ETA: 3:54 - loss: 0.4063 - acc: 0.848 - ETA: 3:52 - loss: 0.4064 - acc: 0.848 - ETA: 3:51 - loss: 0.4065 - acc: 0.848 - ETA: 3:48 - loss: 0.4064 - acc: 0.848 - ETA: 3:46 - loss: 0.4064 - acc: 0.848 - ETA: 3:44 - loss: 0.4063 - acc: 0.848 - ETA: 3:42 - loss: 0.4062 - acc: 0.848 - ETA: 3:40 - loss: 0.4063 - acc: 0.848 - ETA: 3:38 - loss: 0.4061 - acc: 0.848 - ETA: 3:36 - loss: 0.4062 - acc: 0.848 - ETA: 3:34 - loss: 0.4059 - acc: 0.848 - ETA: 3:32 - loss: 0.4058 - acc: 0.848 - ETA: 3:30 - loss: 0.4058 - acc: 0.848 - ETA: 3:28 - loss: 0.4058 - acc: 0.848 - ETA: 3:26 - loss: 0.4058 - acc: 0.848 - ETA: 3:24 - loss: 0.4058 - acc: 0.848 - ETA: 3:22 - loss: 0.4057 - acc: 0.848 - ETA: 3:20 - loss: 0.4057 - acc: 0.848 - ETA: 3:18 - loss: 0.4057 - acc: 0.848 - ETA: 3:16 - loss: 0.4057 - acc: 0.848 - ETA: 3:14 - loss: 0.4057 - acc: 0.848 - ETA: 3:12 - loss: 0.4057 - acc: 0.848 - ETA: 3:10 - loss: 0.4056 - acc: 0.848 - ETA: 3:08 - loss: 0.4057 - acc: 0.848 - ETA: 3:06 - loss: 0.4055 - acc: 0.848 - ETA: 3:04 - loss: 0.4054 - acc: 0.848 - ETA: 3:02 - loss: 0.4055 - acc: 0.848 - ETA: 3:00 - loss: 0.4055 - acc: 0.848 - ETA: 2:58 - loss: 0.4056 - acc: 0.848 - ETA: 2:56 - loss: 0.4054 - acc: 0.848 - ETA: 2:54 - loss: 0.4055 - acc: 0.848 - ETA: 2:52 - loss: 0.4056 - acc: 0.848 - ETA: 2:50 - loss: 0.4056 - acc: 0.848 - ETA: 2:48 - loss: 0.4056 - acc: 0.848 - ETA: 2:46 - loss: 0.4056 - acc: 0.848 - ETA: 2:44 - loss: 0.4055 - acc: 0.848 - ETA: 2:42 - loss: 0.4055 - acc: 0.848 - ETA: 2:40 - loss: 0.4054 - acc: 0.848 - ETA: 2:38 - loss: 0.4054 - acc: 0.848 - ETA: 2:36 - loss: 0.4054 - acc: 0.848 - ETA: 2:34 - loss: 0.4054 - acc: 0.848 - ETA: 2:32 - loss: 0.4054 - acc: 0.848 - ETA: 2:30 - loss: 0.4053 - acc: 0.848 - ETA: 2:28 - loss: 0.4051 - acc: 0.848 - ETA: 2:26 - loss: 0.4051 - acc: 0.848 - ETA: 2:24 - loss: 0.4052 - acc: 0.848 - ETA: 2:22 - loss: 0.4051 - acc: 0.848 - ETA: 2:20 - loss: 0.4050 - acc: 0.848 - ETA: 2:18 - loss: 0.4050 - acc: 0.848 - ETA: 2:16 - loss: 0.4050 - acc: 0.848 - ETA: 2:14 - loss: 0.4050 - acc: 0.848 - ETA: 2:12 - loss: 0.4049 - acc: 0.848 - ETA: 2:10 - loss: 0.4048 - acc: 0.848 - ETA: 2:08 - loss: 0.4048 - acc: 0.848 - ETA: 2:06 - loss: 0.4048 - acc: 0.848 - ETA: 2:04 - loss: 0.4047 - acc: 0.848 - ETA: 2:02 - loss: 0.4046 - acc: 0.848 - ETA: 2:00 - loss: 0.4046 - acc: 0.848 - ETA: 1:58 - loss: 0.4046 - acc: 0.848 - ETA: 1:56 - loss: 0.4044 - acc: 0.848 - ETA: 1:54 - loss: 0.4045 - acc: 0.848 - ETA: 1:52 - loss: 0.4044 - acc: 0.848 - ETA: 1:50 - loss: 0.4044 - acc: 0.848 - ETA: 1:48 - loss: 0.4043 - acc: 0.848 - ETA: 1:46 - loss: 0.4044 - acc: 0.848 - ETA: 1:44 - loss: 0.4043 - acc: 0.848 - ETA: 1:42 - loss: 0.4042 - acc: 0.848 - ETA: 1:40 - loss: 0.4041 - acc: 0.848 - ETA: 1:38 - loss: 0.4040 - acc: 0.848 - ETA: 1:36 - loss: 0.4040 - acc: 0.848 - ETA: 1:34 - loss: 0.4040 - acc: 0.848 - ETA: 1:32 - loss: 0.4039 - acc: 0.848 - ETA: 1:30 - loss: 0.4038 - acc: 0.848 - ETA: 1:28 - loss: 0.4037 - acc: 0.848 - ETA: 1:26 - loss: 0.4036 - acc: 0.848 - ETA: 1:24 - loss: 0.4036 - acc: 0.848 - ETA: 1:22 - loss: 0.4036 - acc: 0.848 - ETA: 1:20 - loss: 0.4036 - acc: 0.848 - ETA: 1:18 - loss: 0.4035 - acc: 0.848 - ETA: 1:16 - loss: 0.4035 - acc: 0.848 - ETA: 1:14 - loss: 0.4035 - acc: 0.848 - ETA: 1:12 - loss: 0.4033 - acc: 0.848 - ETA: 1:10 - loss: 0.4033 - acc: 0.848 - ETA: 1:08 - loss: 0.4033 - acc: 0.848 - ETA: 1:06 - loss: 0.4032 - acc: 0.848 - ETA: 1:04 - loss: 0.4033 - acc: 0.848 - ETA: 1:02 - loss: 0.4033 - acc: 0.848 - ETA: 1:00 - loss: 0.4033 - acc: 0.848 - ETA: 58s - loss: 0.4033 - acc: 0.848 - ETA: 56s - loss: 0.4031 - acc: 0.84 - ETA: 54s - loss: 0.4031 - acc: 0.84 - ETA: 52s - loss: 0.4031 - acc: 0.84 - ETA: 50s - loss: 0.4030 - acc: 0.84 - ETA: 48s - loss: 0.4028 - acc: 0.84 - ETA: 46s - loss: 0.4028 - acc: 0.84 - ETA: 44s - loss: 0.4027 - acc: 0.84 - ETA: 42s - loss: 0.4029 - acc: 0.84 - ETA: 40s - loss: 0.4028 - acc: 0.84 - ETA: 38s - loss: 0.4027 - acc: 0.84 - ETA: 36s - loss: 0.4026 - acc: 0.84 - ETA: 34s - loss: 0.4025 - acc: 0.84 - ETA: 32s - loss: 0.4026 - acc: 0.84 - ETA: 30s - loss: 0.4024 - acc: 0.84 - ETA: 28s - loss: 0.4024 - acc: 0.84 - ETA: 26s - loss: 0.4023 - acc: 0.84 - ETA: 24s - loss: 0.4022 - acc: 0.84 - ETA: 22s - loss: 0.4022 - acc: 0.84 - ETA: 20s - loss: 0.4022 - acc: 0.84 - ETA: 18s - loss: 0.4021 - acc: 0.84 - ETA: 16s - loss: 0.4021 - acc: 0.84 - ETA: 14s - loss: 0.4021 - acc: 0.84 - ETA: 12s - loss: 0.4020 - acc: 0.84 - ETA: 10s - loss: 0.4021 - acc: 0.84 - ETA: 8s - loss: 0.4020 - acc: 0.8491 - ETA: 6s - loss: 0.4020 - acc: 0.849 - ETA: 4s - loss: 0.4019 - acc: 0.849 - ETA: 2s - loss: 0.4018 - acc: 0.849 - 1256s 9ms/step - loss: 0.4020 - acc: 0.8491 - val_loss: 0.3694 - val_acc: 0.8539\n",
      "Epoch 2/6\n"
     ]
    },
    {
     "name": "stdout",
     "output_type": "stream",
     "text": [
      " 52224/145664 [=========>....................] - ETA: 18:32 - loss: 0.4522 - acc: 0.80 - ETA: 18:48 - loss: 0.4121 - acc: 0.83 - ETA: 18:47 - loss: 0.4025 - acc: 0.84 - ETA: 18:50 - loss: 0.3920 - acc: 0.84 - ETA: 18:40 - loss: 0.3912 - acc: 0.84 - ETA: 18:42 - loss: 0.3916 - acc: 0.84 - ETA: 18:40 - loss: 0.3863 - acc: 0.84 - ETA: 18:40 - loss: 0.3842 - acc: 0.84 - ETA: 18:36 - loss: 0.3836 - acc: 0.84 - ETA: 18:37 - loss: 0.3856 - acc: 0.84 - ETA: 18:38 - loss: 0.3817 - acc: 0.84 - ETA: 18:35 - loss: 0.3766 - acc: 0.85 - ETA: 18:30 - loss: 0.3811 - acc: 0.84 - ETA: 18:30 - loss: 0.3796 - acc: 0.84 - ETA: 18:29 - loss: 0.3744 - acc: 0.85 - ETA: 18:27 - loss: 0.3732 - acc: 0.85 - ETA: 18:22 - loss: 0.3772 - acc: 0.84 - ETA: 18:22 - loss: 0.3770 - acc: 0.84 - ETA: 18:20 - loss: 0.3757 - acc: 0.84 - ETA: 18:19 - loss: 0.3749 - acc: 0.84 - ETA: 18:18 - loss: 0.3730 - acc: 0.85 - ETA: 18:17 - loss: 0.3701 - acc: 0.85 - ETA: 18:17 - loss: 0.3709 - acc: 0.85 - ETA: 18:17 - loss: 0.3704 - acc: 0.85 - ETA: 18:15 - loss: 0.3690 - acc: 0.85 - ETA: 18:13 - loss: 0.3679 - acc: 0.85 - ETA: 18:13 - loss: 0.3679 - acc: 0.85 - ETA: 18:12 - loss: 0.3673 - acc: 0.85 - ETA: 18:08 - loss: 0.3672 - acc: 0.85 - ETA: 18:06 - loss: 0.3703 - acc: 0.85 - ETA: 18:07 - loss: 0.3736 - acc: 0.85 - ETA: 18:04 - loss: 0.3743 - acc: 0.85 - ETA: 18:02 - loss: 0.3737 - acc: 0.85 - ETA: 17:59 - loss: 0.3726 - acc: 0.85 - ETA: 17:57 - loss: 0.3722 - acc: 0.85 - ETA: 17:53 - loss: 0.3736 - acc: 0.85 - ETA: 17:52 - loss: 0.3749 - acc: 0.85 - ETA: 17:50 - loss: 0.3748 - acc: 0.85 - ETA: 17:49 - loss: 0.3752 - acc: 0.85 - ETA: 17:47 - loss: 0.3734 - acc: 0.85 - ETA: 17:43 - loss: 0.3734 - acc: 0.85 - ETA: 17:42 - loss: 0.3733 - acc: 0.85 - ETA: 17:40 - loss: 0.3745 - acc: 0.85 - ETA: 17:36 - loss: 0.3743 - acc: 0.85 - ETA: 17:35 - loss: 0.3733 - acc: 0.85 - ETA: 17:34 - loss: 0.3741 - acc: 0.85 - ETA: 17:33 - loss: 0.3733 - acc: 0.85 - ETA: 17:32 - loss: 0.3742 - acc: 0.85 - ETA: 17:28 - loss: 0.3744 - acc: 0.85 - ETA: 17:26 - loss: 0.3754 - acc: 0.85 - ETA: 17:25 - loss: 0.3772 - acc: 0.85 - ETA: 17:23 - loss: 0.3775 - acc: 0.85 - ETA: 17:19 - loss: 0.3779 - acc: 0.85 - ETA: 17:17 - loss: 0.3772 - acc: 0.85 - ETA: 17:16 - loss: 0.3768 - acc: 0.85 - ETA: 17:14 - loss: 0.3765 - acc: 0.85 - ETA: 17:13 - loss: 0.3775 - acc: 0.85 - ETA: 17:11 - loss: 0.3778 - acc: 0.85 - ETA: 17:09 - loss: 0.3785 - acc: 0.84 - ETA: 17:08 - loss: 0.3784 - acc: 0.84 - ETA: 17:05 - loss: 0.3790 - acc: 0.84 - ETA: 17:03 - loss: 0.3785 - acc: 0.85 - ETA: 17:01 - loss: 0.3782 - acc: 0.85 - ETA: 17:00 - loss: 0.3787 - acc: 0.85 - ETA: 16:57 - loss: 0.3787 - acc: 0.84 - ETA: 16:55 - loss: 0.3792 - acc: 0.84 - ETA: 16:53 - loss: 0.3791 - acc: 0.84 - ETA: 16:52 - loss: 0.3783 - acc: 0.84 - ETA: 16:50 - loss: 0.3779 - acc: 0.85 - ETA: 16:49 - loss: 0.3771 - acc: 0.85 - ETA: 16:47 - loss: 0.3770 - acc: 0.85 - ETA: 16:44 - loss: 0.3781 - acc: 0.85 - ETA: 16:42 - loss: 0.3779 - acc: 0.85 - ETA: 16:40 - loss: 0.3767 - acc: 0.85 - ETA: 16:39 - loss: 0.3769 - acc: 0.85 - ETA: 16:37 - loss: 0.3772 - acc: 0.85 - ETA: 16:35 - loss: 0.3777 - acc: 0.85 - ETA: 16:33 - loss: 0.3778 - acc: 0.85 - ETA: 16:32 - loss: 0.3778 - acc: 0.85 - ETA: 16:30 - loss: 0.3775 - acc: 0.85 - ETA: 16:27 - loss: 0.3766 - acc: 0.85 - ETA: 16:25 - loss: 0.3760 - acc: 0.85 - ETA: 16:23 - loss: 0.3757 - acc: 0.85 - ETA: 16:22 - loss: 0.3752 - acc: 0.85 - ETA: 16:21 - loss: 0.3763 - acc: 0.85 - ETA: 16:19 - loss: 0.3762 - acc: 0.85 - ETA: 16:17 - loss: 0.3768 - acc: 0.85 - ETA: 16:15 - loss: 0.3780 - acc: 0.85 - ETA: 16:13 - loss: 0.3777 - acc: 0.85 - ETA: 16:11 - loss: 0.3776 - acc: 0.85 - ETA: 16:09 - loss: 0.3778 - acc: 0.85 - ETA: 16:07 - loss: 0.3778 - acc: 0.85 - ETA: 16:05 - loss: 0.3786 - acc: 0.85 - ETA: 16:04 - loss: 0.3781 - acc: 0.85 - ETA: 16:02 - loss: 0.3779 - acc: 0.85 - ETA: 16:00 - loss: 0.3778 - acc: 0.85 - ETA: 15:58 - loss: 0.3782 - acc: 0.85 - ETA: 15:56 - loss: 0.3785 - acc: 0.85 - ETA: 15:54 - loss: 0.3786 - acc: 0.85 - ETA: 15:52 - loss: 0.3788 - acc: 0.85 - ETA: 15:50 - loss: 0.3785 - acc: 0.85 - ETA: 15:48 - loss: 0.3785 - acc: 0.85 - ETA: 15:47 - loss: 0.3788 - acc: 0.85 - ETA: 15:44 - loss: 0.3791 - acc: 0.85 - ETA: 15:42 - loss: 0.3790 - acc: 0.85 - ETA: 15:40 - loss: 0.3786 - acc: 0.85 - ETA: 15:38 - loss: 0.3783 - acc: 0.85 - ETA: 15:35 - loss: 0.3788 - acc: 0.85 - ETA: 15:33 - loss: 0.3792 - acc: 0.85 - ETA: 15:31 - loss: 0.3790 - acc: 0.85 - ETA: 15:29 - loss: 0.3782 - acc: 0.85 - ETA: 15:27 - loss: 0.3781 - acc: 0.85 - ETA: 15:24 - loss: 0.3777 - acc: 0.85 - ETA: 15:22 - loss: 0.3776 - acc: 0.85 - ETA: 15:20 - loss: 0.3777 - acc: 0.85 - ETA: 15:18 - loss: 0.3779 - acc: 0.85 - ETA: 15:16 - loss: 0.3780 - acc: 0.85 - ETA: 15:14 - loss: 0.3778 - acc: 0.85 - ETA: 15:12 - loss: 0.3775 - acc: 0.85 - ETA: 15:09 - loss: 0.3777 - acc: 0.85 - ETA: 15:07 - loss: 0.3777 - acc: 0.85 - ETA: 15:05 - loss: 0.3776 - acc: 0.85 - ETA: 15:02 - loss: 0.3774 - acc: 0.85 - ETA: 15:00 - loss: 0.3775 - acc: 0.85 - ETA: 14:58 - loss: 0.3773 - acc: 0.85 - ETA: 14:56 - loss: 0.3769 - acc: 0.85 - ETA: 14:54 - loss: 0.3770 - acc: 0.85 - ETA: 14:52 - loss: 0.3773 - acc: 0.85 - ETA: 14:50 - loss: 0.3775 - acc: 0.85 - ETA: 14:48 - loss: 0.3777 - acc: 0.85 - ETA: 14:46 - loss: 0.3780 - acc: 0.85 - ETA: 14:44 - loss: 0.3774 - acc: 0.85 - ETA: 14:42 - loss: 0.3776 - acc: 0.85 - ETA: 14:40 - loss: 0.3777 - acc: 0.85 - ETA: 14:37 - loss: 0.3778 - acc: 0.85 - ETA: 14:35 - loss: 0.3782 - acc: 0.85 - ETA: 14:33 - loss: 0.3783 - acc: 0.85 - ETA: 14:31 - loss: 0.3782 - acc: 0.85 - ETA: 14:29 - loss: 0.3782 - acc: 0.85 - ETA: 14:27 - loss: 0.3780 - acc: 0.85 - ETA: 14:25 - loss: 0.3778 - acc: 0.85 - ETA: 14:23 - loss: 0.3784 - acc: 0.85 - ETA: 14:21 - loss: 0.3787 - acc: 0.85 - ETA: 14:19 - loss: 0.3790 - acc: 0.85 - ETA: 14:17 - loss: 0.3792 - acc: 0.84 - ETA: 14:14 - loss: 0.3790 - acc: 0.85 - ETA: 14:12 - loss: 0.3791 - acc: 0.85 - ETA: 14:10 - loss: 0.3790 - acc: 0.85 - ETA: 14:08 - loss: 0.3791 - acc: 0.85 - ETA: 14:06 - loss: 0.3791 - acc: 0.85 - ETA: 14:04 - loss: 0.3792 - acc: 0.85 - ETA: 14:02 - loss: 0.3791 - acc: 0.85 - ETA: 14:00 - loss: 0.3790 - acc: 0.85 - ETA: 13:58 - loss: 0.3788 - acc: 0.85 - ETA: 13:55 - loss: 0.3785 - acc: 0.85 - ETA: 13:53 - loss: 0.3789 - acc: 0.85 - ETA: 13:51 - loss: 0.3792 - acc: 0.85 - ETA: 13:49 - loss: 0.3795 - acc: 0.84 - ETA: 13:47 - loss: 0.3792 - acc: 0.85 - ETA: 13:45 - loss: 0.3790 - acc: 0.85 - ETA: 13:43 - loss: 0.3790 - acc: 0.85 - ETA: 13:41 - loss: 0.3789 - acc: 0.85 - ETA: 13:38 - loss: 0.3787 - acc: 0.85 - ETA: 13:36 - loss: 0.3787 - acc: 0.85 - ETA: 13:35 - loss: 0.3786 - acc: 0.85 - ETA: 13:33 - loss: 0.3785 - acc: 0.85 - ETA: 13:30 - loss: 0.3785 - acc: 0.85 - ETA: 13:28 - loss: 0.3784 - acc: 0.85 - ETA: 13:26 - loss: 0.3784 - acc: 0.85 - ETA: 13:24 - loss: 0.3780 - acc: 0.85 - ETA: 13:22 - loss: 0.3780 - acc: 0.85 - ETA: 13:20 - loss: 0.3779 - acc: 0.85 - ETA: 13:18 - loss: 0.3778 - acc: 0.85 - ETA: 13:16 - loss: 0.3783 - acc: 0.85 - ETA: 13:14 - loss: 0.3783 - acc: 0.85 - ETA: 13:12 - loss: 0.3788 - acc: 0.85 - ETA: 13:10 - loss: 0.3787 - acc: 0.85 - ETA: 13:07 - loss: 0.3788 - acc: 0.85 - ETA: 13:05 - loss: 0.3788 - acc: 0.85 - ETA: 13:03 - loss: 0.3789 - acc: 0.85 - ETA: 13:01 - loss: 0.3788 - acc: 0.85 - ETA: 12:59 - loss: 0.3789 - acc: 0.85 - ETA: 12:57 - loss: 0.3790 - acc: 0.85 - ETA: 12:55 - loss: 0.3791 - acc: 0.85 - ETA: 12:53 - loss: 0.3793 - acc: 0.85 - ETA: 12:51 - loss: 0.3793 - acc: 0.85 - ETA: 12:49 - loss: 0.3799 - acc: 0.84 - ETA: 12:47 - loss: 0.3798 - acc: 0.84 - ETA: 12:45 - loss: 0.3796 - acc: 0.84 - ETA: 12:43 - loss: 0.3794 - acc: 0.84 - ETA: 12:41 - loss: 0.3795 - acc: 0.84 - ETA: 12:39 - loss: 0.3794 - acc: 0.84 - ETA: 12:37 - loss: 0.3792 - acc: 0.84 - ETA: 12:35 - loss: 0.3793 - acc: 0.84 - ETA: 12:33 - loss: 0.3791 - acc: 0.85 - ETA: 12:31 - loss: 0.3793 - acc: 0.85 - ETA: 12:29 - loss: 0.3794 - acc: 0.85 - ETA: 12:27 - loss: 0.3795 - acc: 0.85 - ETA: 12:25 - loss: 0.3794 - acc: 0.85 - ETA: 12:23 - loss: 0.3791 - acc: 0.85 - ETA: 12:21 - loss: 0.3791 - acc: 0.85 - ETA: 12:19 - loss: 0.3790 - acc: 0.85 - ETA: 12:17 - loss: 0.3788 - acc: 0.85 - ETA: 12:15 - loss: 0.3790 - acc: 0.8501"
     ]
    },
    {
     "name": "stdout",
     "output_type": "stream",
     "text": [
      "104448/145664 [====================>.........] - ETA: 12:13 - loss: 0.3787 - acc: 0.85 - ETA: 12:11 - loss: 0.3788 - acc: 0.85 - ETA: 12:08 - loss: 0.3789 - acc: 0.85 - ETA: 12:07 - loss: 0.3789 - acc: 0.85 - ETA: 12:04 - loss: 0.3784 - acc: 0.85 - ETA: 12:02 - loss: 0.3783 - acc: 0.85 - ETA: 12:00 - loss: 0.3781 - acc: 0.85 - ETA: 11:58 - loss: 0.3784 - acc: 0.85 - ETA: 11:56 - loss: 0.3784 - acc: 0.85 - ETA: 11:54 - loss: 0.3782 - acc: 0.85 - ETA: 11:52 - loss: 0.3777 - acc: 0.85 - ETA: 11:50 - loss: 0.3777 - acc: 0.85 - ETA: 11:48 - loss: 0.3777 - acc: 0.85 - ETA: 11:46 - loss: 0.3775 - acc: 0.85 - ETA: 11:44 - loss: 0.3775 - acc: 0.85 - ETA: 11:42 - loss: 0.3776 - acc: 0.85 - ETA: 11:40 - loss: 0.3776 - acc: 0.85 - ETA: 11:38 - loss: 0.3777 - acc: 0.85 - ETA: 11:36 - loss: 0.3775 - acc: 0.85 - ETA: 11:34 - loss: 0.3774 - acc: 0.85 - ETA: 11:32 - loss: 0.3773 - acc: 0.85 - ETA: 11:30 - loss: 0.3771 - acc: 0.85 - ETA: 11:28 - loss: 0.3770 - acc: 0.85 - ETA: 11:26 - loss: 0.3771 - acc: 0.85 - ETA: 11:24 - loss: 0.3769 - acc: 0.85 - ETA: 11:22 - loss: 0.3768 - acc: 0.85 - ETA: 11:20 - loss: 0.3769 - acc: 0.85 - ETA: 11:18 - loss: 0.3770 - acc: 0.85 - ETA: 11:16 - loss: 0.3771 - acc: 0.85 - ETA: 11:14 - loss: 0.3775 - acc: 0.85 - ETA: 11:12 - loss: 0.3774 - acc: 0.85 - ETA: 11:10 - loss: 0.3775 - acc: 0.85 - ETA: 11:08 - loss: 0.3777 - acc: 0.85 - ETA: 11:06 - loss: 0.3778 - acc: 0.85 - ETA: 11:04 - loss: 0.3776 - acc: 0.85 - ETA: 11:01 - loss: 0.3775 - acc: 0.85 - ETA: 10:59 - loss: 0.3772 - acc: 0.85 - ETA: 10:57 - loss: 0.3769 - acc: 0.85 - ETA: 10:55 - loss: 0.3767 - acc: 0.85 - ETA: 10:53 - loss: 0.3768 - acc: 0.85 - ETA: 10:51 - loss: 0.3767 - acc: 0.85 - ETA: 10:49 - loss: 0.3766 - acc: 0.85 - ETA: 10:47 - loss: 0.3767 - acc: 0.85 - ETA: 10:45 - loss: 0.3765 - acc: 0.85 - ETA: 10:43 - loss: 0.3766 - acc: 0.85 - ETA: 10:41 - loss: 0.3765 - acc: 0.85 - ETA: 10:39 - loss: 0.3765 - acc: 0.85 - ETA: 10:37 - loss: 0.3769 - acc: 0.85 - ETA: 10:35 - loss: 0.3767 - acc: 0.85 - ETA: 10:33 - loss: 0.3766 - acc: 0.85 - ETA: 10:31 - loss: 0.3762 - acc: 0.85 - ETA: 10:29 - loss: 0.3759 - acc: 0.85 - ETA: 10:27 - loss: 0.3759 - acc: 0.85 - ETA: 10:25 - loss: 0.3759 - acc: 0.85 - ETA: 10:23 - loss: 0.3759 - acc: 0.85 - ETA: 10:21 - loss: 0.3759 - acc: 0.85 - ETA: 10:19 - loss: 0.3760 - acc: 0.85 - ETA: 10:17 - loss: 0.3761 - acc: 0.85 - ETA: 10:15 - loss: 0.3759 - acc: 0.85 - ETA: 10:12 - loss: 0.3758 - acc: 0.85 - ETA: 10:10 - loss: 0.3758 - acc: 0.85 - ETA: 10:08 - loss: 0.3760 - acc: 0.85 - ETA: 10:06 - loss: 0.3762 - acc: 0.85 - ETA: 10:04 - loss: 0.3762 - acc: 0.85 - ETA: 10:02 - loss: 0.3761 - acc: 0.85 - ETA: 10:00 - loss: 0.3761 - acc: 0.85 - ETA: 9:58 - loss: 0.3763 - acc: 0.8515 - ETA: 9:56 - loss: 0.3762 - acc: 0.851 - ETA: 9:54 - loss: 0.3766 - acc: 0.851 - ETA: 9:52 - loss: 0.3764 - acc: 0.851 - ETA: 9:50 - loss: 0.3763 - acc: 0.851 - ETA: 9:48 - loss: 0.3762 - acc: 0.851 - ETA: 9:46 - loss: 0.3762 - acc: 0.851 - ETA: 9:44 - loss: 0.3763 - acc: 0.851 - ETA: 9:42 - loss: 0.3764 - acc: 0.851 - ETA: 9:40 - loss: 0.3763 - acc: 0.851 - ETA: 9:38 - loss: 0.3760 - acc: 0.851 - ETA: 9:36 - loss: 0.3759 - acc: 0.852 - ETA: 9:34 - loss: 0.3761 - acc: 0.851 - ETA: 9:32 - loss: 0.3758 - acc: 0.852 - ETA: 9:30 - loss: 0.3757 - acc: 0.852 - ETA: 9:28 - loss: 0.3756 - acc: 0.852 - ETA: 9:26 - loss: 0.3756 - acc: 0.852 - ETA: 9:24 - loss: 0.3755 - acc: 0.852 - ETA: 9:22 - loss: 0.3754 - acc: 0.852 - ETA: 9:20 - loss: 0.3755 - acc: 0.852 - ETA: 9:18 - loss: 0.3753 - acc: 0.852 - ETA: 9:16 - loss: 0.3753 - acc: 0.852 - ETA: 9:13 - loss: 0.3753 - acc: 0.852 - ETA: 9:11 - loss: 0.3751 - acc: 0.852 - ETA: 9:09 - loss: 0.3752 - acc: 0.852 - ETA: 9:07 - loss: 0.3749 - acc: 0.852 - ETA: 9:05 - loss: 0.3749 - acc: 0.852 - ETA: 9:03 - loss: 0.3752 - acc: 0.852 - ETA: 9:01 - loss: 0.3752 - acc: 0.852 - ETA: 8:59 - loss: 0.3751 - acc: 0.852 - ETA: 8:57 - loss: 0.3752 - acc: 0.852 - ETA: 8:55 - loss: 0.3754 - acc: 0.852 - ETA: 8:53 - loss: 0.3755 - acc: 0.852 - ETA: 8:51 - loss: 0.3754 - acc: 0.852 - ETA: 8:49 - loss: 0.3755 - acc: 0.852 - ETA: 8:47 - loss: 0.3756 - acc: 0.852 - ETA: 8:45 - loss: 0.3757 - acc: 0.852 - ETA: 8:43 - loss: 0.3755 - acc: 0.852 - ETA: 8:41 - loss: 0.3752 - acc: 0.852 - ETA: 8:39 - loss: 0.3753 - acc: 0.852 - ETA: 8:37 - loss: 0.3752 - acc: 0.852 - ETA: 8:35 - loss: 0.3754 - acc: 0.852 - ETA: 8:33 - loss: 0.3755 - acc: 0.852 - ETA: 8:31 - loss: 0.3753 - acc: 0.852 - ETA: 8:29 - loss: 0.3756 - acc: 0.852 - ETA: 8:27 - loss: 0.3756 - acc: 0.852 - ETA: 8:25 - loss: 0.3756 - acc: 0.852 - ETA: 8:23 - loss: 0.3756 - acc: 0.852 - ETA: 8:21 - loss: 0.3755 - acc: 0.852 - ETA: 8:19 - loss: 0.3755 - acc: 0.852 - ETA: 8:16 - loss: 0.3753 - acc: 0.852 - ETA: 8:15 - loss: 0.3753 - acc: 0.852 - ETA: 8:13 - loss: 0.3752 - acc: 0.852 - ETA: 8:11 - loss: 0.3751 - acc: 0.852 - ETA: 8:09 - loss: 0.3751 - acc: 0.852 - ETA: 8:07 - loss: 0.3749 - acc: 0.852 - ETA: 8:05 - loss: 0.3749 - acc: 0.852 - ETA: 8:03 - loss: 0.3749 - acc: 0.852 - ETA: 8:01 - loss: 0.3748 - acc: 0.852 - ETA: 7:58 - loss: 0.3749 - acc: 0.852 - ETA: 7:56 - loss: 0.3750 - acc: 0.852 - ETA: 7:54 - loss: 0.3752 - acc: 0.852 - ETA: 7:52 - loss: 0.3752 - acc: 0.852 - ETA: 7:50 - loss: 0.3751 - acc: 0.852 - ETA: 7:48 - loss: 0.3750 - acc: 0.852 - ETA: 7:46 - loss: 0.3749 - acc: 0.852 - ETA: 7:44 - loss: 0.3750 - acc: 0.852 - ETA: 7:42 - loss: 0.3751 - acc: 0.852 - ETA: 7:40 - loss: 0.3753 - acc: 0.852 - ETA: 7:38 - loss: 0.3752 - acc: 0.852 - ETA: 7:36 - loss: 0.3752 - acc: 0.852 - ETA: 7:34 - loss: 0.3752 - acc: 0.852 - ETA: 7:32 - loss: 0.3755 - acc: 0.852 - ETA: 7:30 - loss: 0.3756 - acc: 0.852 - ETA: 7:28 - loss: 0.3756 - acc: 0.852 - ETA: 7:26 - loss: 0.3757 - acc: 0.852 - ETA: 7:24 - loss: 0.3757 - acc: 0.852 - ETA: 7:22 - loss: 0.3755 - acc: 0.852 - ETA: 7:20 - loss: 0.3753 - acc: 0.852 - ETA: 7:18 - loss: 0.3753 - acc: 0.852 - ETA: 7:16 - loss: 0.3752 - acc: 0.852 - ETA: 7:14 - loss: 0.3752 - acc: 0.852 - ETA: 7:12 - loss: 0.3751 - acc: 0.852 - ETA: 7:10 - loss: 0.3753 - acc: 0.852 - ETA: 7:08 - loss: 0.3753 - acc: 0.852 - ETA: 7:06 - loss: 0.3754 - acc: 0.852 - ETA: 7:04 - loss: 0.3753 - acc: 0.852 - ETA: 7:02 - loss: 0.3751 - acc: 0.852 - ETA: 7:00 - loss: 0.3753 - acc: 0.852 - ETA: 6:58 - loss: 0.3752 - acc: 0.852 - ETA: 6:56 - loss: 0.3751 - acc: 0.852 - ETA: 6:54 - loss: 0.3750 - acc: 0.852 - ETA: 6:52 - loss: 0.3750 - acc: 0.852 - ETA: 6:50 - loss: 0.3750 - acc: 0.852 - ETA: 6:48 - loss: 0.3751 - acc: 0.852 - ETA: 6:46 - loss: 0.3751 - acc: 0.852 - ETA: 6:44 - loss: 0.3752 - acc: 0.852 - ETA: 6:42 - loss: 0.3754 - acc: 0.852 - ETA: 6:40 - loss: 0.3754 - acc: 0.852 - ETA: 6:38 - loss: 0.3754 - acc: 0.852 - ETA: 6:36 - loss: 0.3752 - acc: 0.852 - ETA: 6:34 - loss: 0.3752 - acc: 0.852 - ETA: 6:32 - loss: 0.3753 - acc: 0.852 - ETA: 6:30 - loss: 0.3752 - acc: 0.852 - ETA: 6:28 - loss: 0.3752 - acc: 0.852 - ETA: 6:26 - loss: 0.3753 - acc: 0.852 - ETA: 6:24 - loss: 0.3753 - acc: 0.852 - ETA: 6:22 - loss: 0.3753 - acc: 0.852 - ETA: 6:20 - loss: 0.3754 - acc: 0.852 - ETA: 6:18 - loss: 0.3754 - acc: 0.851 - ETA: 6:16 - loss: 0.3754 - acc: 0.851 - ETA: 6:14 - loss: 0.3752 - acc: 0.852 - ETA: 6:12 - loss: 0.3753 - acc: 0.851 - ETA: 6:10 - loss: 0.3752 - acc: 0.852 - ETA: 6:08 - loss: 0.3751 - acc: 0.852 - ETA: 6:06 - loss: 0.3751 - acc: 0.852 - ETA: 6:04 - loss: 0.3751 - acc: 0.852 - ETA: 6:02 - loss: 0.3751 - acc: 0.852 - ETA: 6:00 - loss: 0.3750 - acc: 0.852 - ETA: 5:57 - loss: 0.3750 - acc: 0.852 - ETA: 5:55 - loss: 0.3748 - acc: 0.852 - ETA: 5:53 - loss: 0.3749 - acc: 0.852 - ETA: 5:51 - loss: 0.3749 - acc: 0.852 - ETA: 5:49 - loss: 0.3750 - acc: 0.852 - ETA: 5:47 - loss: 0.3752 - acc: 0.852 - ETA: 5:45 - loss: 0.3751 - acc: 0.852 - ETA: 5:43 - loss: 0.3751 - acc: 0.852 - ETA: 5:41 - loss: 0.3750 - acc: 0.852 - ETA: 5:39 - loss: 0.3750 - acc: 0.852 - ETA: 5:37 - loss: 0.3749 - acc: 0.852 - ETA: 5:35 - loss: 0.3749 - acc: 0.852 - ETA: 5:33 - loss: 0.3748 - acc: 0.852 - ETA: 5:31 - loss: 0.3747 - acc: 0.852 - ETA: 5:29 - loss: 0.3747 - acc: 0.852 - ETA: 5:27 - loss: 0.3746 - acc: 0.852 - ETA: 5:25 - loss: 0.3745 - acc: 0.852 - ETA: 5:23 - loss: 0.3744 - acc: 0.852 - ETA: 5:21 - loss: 0.3745 - acc: 0.8523"
     ]
    },
    {
     "name": "stdout",
     "output_type": "stream",
     "text": [
      "145664/145664 [==============================] - ETA: 5:19 - loss: 0.3743 - acc: 0.852 - ETA: 5:17 - loss: 0.3743 - acc: 0.852 - ETA: 5:15 - loss: 0.3743 - acc: 0.852 - ETA: 5:13 - loss: 0.3742 - acc: 0.852 - ETA: 5:11 - loss: 0.3742 - acc: 0.852 - ETA: 5:09 - loss: 0.3741 - acc: 0.852 - ETA: 5:07 - loss: 0.3742 - acc: 0.852 - ETA: 5:05 - loss: 0.3743 - acc: 0.852 - ETA: 5:03 - loss: 0.3742 - acc: 0.852 - ETA: 5:01 - loss: 0.3741 - acc: 0.852 - ETA: 4:59 - loss: 0.3740 - acc: 0.852 - ETA: 4:57 - loss: 0.3741 - acc: 0.852 - ETA: 4:55 - loss: 0.3740 - acc: 0.852 - ETA: 4:53 - loss: 0.3740 - acc: 0.852 - ETA: 4:51 - loss: 0.3740 - acc: 0.852 - ETA: 4:49 - loss: 0.3741 - acc: 0.852 - ETA: 4:47 - loss: 0.3743 - acc: 0.852 - ETA: 4:45 - loss: 0.3743 - acc: 0.852 - ETA: 4:43 - loss: 0.3741 - acc: 0.852 - ETA: 4:41 - loss: 0.3742 - acc: 0.852 - ETA: 4:39 - loss: 0.3741 - acc: 0.852 - ETA: 4:37 - loss: 0.3742 - acc: 0.852 - ETA: 4:35 - loss: 0.3741 - acc: 0.852 - ETA: 4:33 - loss: 0.3741 - acc: 0.852 - ETA: 4:31 - loss: 0.3741 - acc: 0.852 - ETA: 4:29 - loss: 0.3739 - acc: 0.852 - ETA: 4:27 - loss: 0.3739 - acc: 0.852 - ETA: 4:25 - loss: 0.3738 - acc: 0.852 - ETA: 4:23 - loss: 0.3738 - acc: 0.852 - ETA: 4:21 - loss: 0.3741 - acc: 0.852 - ETA: 4:19 - loss: 0.3741 - acc: 0.852 - ETA: 4:17 - loss: 0.3741 - acc: 0.852 - ETA: 4:15 - loss: 0.3741 - acc: 0.852 - ETA: 4:13 - loss: 0.3742 - acc: 0.852 - ETA: 4:11 - loss: 0.3742 - acc: 0.852 - ETA: 4:09 - loss: 0.3742 - acc: 0.852 - ETA: 4:07 - loss: 0.3742 - acc: 0.852 - ETA: 4:05 - loss: 0.3742 - acc: 0.852 - ETA: 4:03 - loss: 0.3742 - acc: 0.852 - ETA: 4:01 - loss: 0.3741 - acc: 0.852 - ETA: 3:59 - loss: 0.3742 - acc: 0.852 - ETA: 3:57 - loss: 0.3741 - acc: 0.852 - ETA: 3:55 - loss: 0.3739 - acc: 0.852 - ETA: 3:53 - loss: 0.3739 - acc: 0.852 - ETA: 3:51 - loss: 0.3738 - acc: 0.852 - ETA: 3:49 - loss: 0.3738 - acc: 0.852 - ETA: 3:47 - loss: 0.3736 - acc: 0.852 - ETA: 3:45 - loss: 0.3737 - acc: 0.852 - ETA: 3:43 - loss: 0.3736 - acc: 0.852 - ETA: 3:41 - loss: 0.3734 - acc: 0.852 - ETA: 3:39 - loss: 0.3735 - acc: 0.852 - ETA: 3:37 - loss: 0.3734 - acc: 0.852 - ETA: 3:35 - loss: 0.3733 - acc: 0.852 - ETA: 3:33 - loss: 0.3733 - acc: 0.852 - ETA: 3:31 - loss: 0.3734 - acc: 0.852 - ETA: 3:29 - loss: 0.3733 - acc: 0.852 - ETA: 3:27 - loss: 0.3734 - acc: 0.852 - ETA: 3:25 - loss: 0.3733 - acc: 0.852 - ETA: 3:23 - loss: 0.3733 - acc: 0.852 - ETA: 3:21 - loss: 0.3732 - acc: 0.852 - ETA: 3:19 - loss: 0.3732 - acc: 0.852 - ETA: 3:17 - loss: 0.3732 - acc: 0.852 - ETA: 3:15 - loss: 0.3732 - acc: 0.852 - ETA: 3:13 - loss: 0.3730 - acc: 0.853 - ETA: 3:11 - loss: 0.3731 - acc: 0.852 - ETA: 3:09 - loss: 0.3732 - acc: 0.852 - ETA: 3:07 - loss: 0.3732 - acc: 0.852 - ETA: 3:05 - loss: 0.3732 - acc: 0.852 - ETA: 3:03 - loss: 0.3733 - acc: 0.852 - ETA: 3:01 - loss: 0.3734 - acc: 0.852 - ETA: 2:59 - loss: 0.3733 - acc: 0.852 - ETA: 2:57 - loss: 0.3734 - acc: 0.852 - ETA: 2:55 - loss: 0.3733 - acc: 0.852 - ETA: 2:53 - loss: 0.3733 - acc: 0.852 - ETA: 2:51 - loss: 0.3732 - acc: 0.852 - ETA: 2:49 - loss: 0.3734 - acc: 0.852 - ETA: 2:47 - loss: 0.3733 - acc: 0.852 - ETA: 2:45 - loss: 0.3733 - acc: 0.852 - ETA: 2:43 - loss: 0.3733 - acc: 0.852 - ETA: 2:41 - loss: 0.3733 - acc: 0.852 - ETA: 2:39 - loss: 0.3732 - acc: 0.852 - ETA: 2:37 - loss: 0.3732 - acc: 0.852 - ETA: 2:35 - loss: 0.3732 - acc: 0.852 - ETA: 2:33 - loss: 0.3732 - acc: 0.852 - ETA: 2:31 - loss: 0.3732 - acc: 0.852 - ETA: 2:29 - loss: 0.3732 - acc: 0.852 - ETA: 2:27 - loss: 0.3734 - acc: 0.852 - ETA: 2:25 - loss: 0.3733 - acc: 0.852 - ETA: 2:23 - loss: 0.3734 - acc: 0.852 - ETA: 2:21 - loss: 0.3735 - acc: 0.852 - ETA: 2:19 - loss: 0.3735 - acc: 0.852 - ETA: 2:17 - loss: 0.3735 - acc: 0.852 - ETA: 2:15 - loss: 0.3734 - acc: 0.852 - ETA: 2:13 - loss: 0.3734 - acc: 0.852 - ETA: 2:11 - loss: 0.3734 - acc: 0.852 - ETA: 2:09 - loss: 0.3733 - acc: 0.852 - ETA: 2:07 - loss: 0.3732 - acc: 0.852 - ETA: 2:05 - loss: 0.3731 - acc: 0.852 - ETA: 2:03 - loss: 0.3730 - acc: 0.852 - ETA: 2:01 - loss: 0.3729 - acc: 0.852 - ETA: 1:59 - loss: 0.3728 - acc: 0.853 - ETA: 1:57 - loss: 0.3729 - acc: 0.852 - ETA: 1:55 - loss: 0.3728 - acc: 0.853 - ETA: 1:53 - loss: 0.3728 - acc: 0.853 - ETA: 1:51 - loss: 0.3729 - acc: 0.853 - ETA: 1:49 - loss: 0.3730 - acc: 0.852 - ETA: 1:47 - loss: 0.3728 - acc: 0.853 - ETA: 1:45 - loss: 0.3728 - acc: 0.853 - ETA: 1:43 - loss: 0.3728 - acc: 0.853 - ETA: 1:41 - loss: 0.3729 - acc: 0.853 - ETA: 1:39 - loss: 0.3729 - acc: 0.852 - ETA: 1:37 - loss: 0.3728 - acc: 0.853 - ETA: 1:35 - loss: 0.3728 - acc: 0.853 - ETA: 1:33 - loss: 0.3728 - acc: 0.853 - ETA: 1:31 - loss: 0.3727 - acc: 0.853 - ETA: 1:29 - loss: 0.3727 - acc: 0.853 - ETA: 1:27 - loss: 0.3728 - acc: 0.852 - ETA: 1:25 - loss: 0.3728 - acc: 0.852 - ETA: 1:23 - loss: 0.3728 - acc: 0.852 - ETA: 1:21 - loss: 0.3728 - acc: 0.852 - ETA: 1:19 - loss: 0.3728 - acc: 0.852 - ETA: 1:17 - loss: 0.3729 - acc: 0.852 - ETA: 1:15 - loss: 0.3729 - acc: 0.852 - ETA: 1:13 - loss: 0.3729 - acc: 0.853 - ETA: 1:11 - loss: 0.3728 - acc: 0.853 - ETA: 1:09 - loss: 0.3728 - acc: 0.853 - ETA: 1:07 - loss: 0.3728 - acc: 0.853 - ETA: 1:05 - loss: 0.3729 - acc: 0.853 - ETA: 1:03 - loss: 0.3729 - acc: 0.853 - ETA: 1:01 - loss: 0.3729 - acc: 0.853 - ETA: 59s - loss: 0.3729 - acc: 0.852 - ETA: 57s - loss: 0.3729 - acc: 0.85 - ETA: 55s - loss: 0.3729 - acc: 0.85 - ETA: 53s - loss: 0.3730 - acc: 0.85 - ETA: 51s - loss: 0.3730 - acc: 0.85 - ETA: 49s - loss: 0.3729 - acc: 0.85 - ETA: 47s - loss: 0.3729 - acc: 0.85 - ETA: 45s - loss: 0.3728 - acc: 0.85 - ETA: 43s - loss: 0.3728 - acc: 0.85 - ETA: 41s - loss: 0.3728 - acc: 0.85 - ETA: 39s - loss: 0.3728 - acc: 0.85 - ETA: 37s - loss: 0.3727 - acc: 0.85 - ETA: 35s - loss: 0.3728 - acc: 0.85 - ETA: 33s - loss: 0.3729 - acc: 0.85 - ETA: 31s - loss: 0.3729 - acc: 0.85 - ETA: 29s - loss: 0.3730 - acc: 0.85 - ETA: 27s - loss: 0.3730 - acc: 0.85 - ETA: 25s - loss: 0.3730 - acc: 0.85 - ETA: 23s - loss: 0.3730 - acc: 0.85 - ETA: 21s - loss: 0.3731 - acc: 0.85 - ETA: 19s - loss: 0.3730 - acc: 0.85 - ETA: 17s - loss: 0.3731 - acc: 0.85 - ETA: 15s - loss: 0.3732 - acc: 0.85 - ETA: 13s - loss: 0.3732 - acc: 0.85 - ETA: 11s - loss: 0.3732 - acc: 0.85 - ETA: 9s - loss: 0.3730 - acc: 0.8528 - ETA: 7s - loss: 0.3730 - acc: 0.852 - ETA: 5s - loss: 0.3731 - acc: 0.852 - ETA: 3s - loss: 0.3731 - acc: 0.852 - ETA: 1s - loss: 0.3730 - acc: 0.852 - 1250s 9ms/step - loss: 0.3730 - acc: 0.8528 - val_loss: 0.3683 - val_acc: 0.8550\n",
      "Epoch 3/6\n"
     ]
    },
    {
     "name": "stdout",
     "output_type": "stream",
     "text": [
      " 52224/145664 [=========>....................] - ETA: 18:54 - loss: 0.3810 - acc: 0.84 - ETA: 18:35 - loss: 0.3824 - acc: 0.84 - ETA: 18:34 - loss: 0.3770 - acc: 0.84 - ETA: 18:35 - loss: 0.3856 - acc: 0.84 - ETA: 18:35 - loss: 0.3822 - acc: 0.84 - ETA: 18:24 - loss: 0.3694 - acc: 0.85 - ETA: 18:25 - loss: 0.3698 - acc: 0.85 - ETA: 18:25 - loss: 0.3688 - acc: 0.85 - ETA: 18:18 - loss: 0.3766 - acc: 0.85 - ETA: 18:15 - loss: 0.3758 - acc: 0.85 - ETA: 18:16 - loss: 0.3692 - acc: 0.85 - ETA: 18:15 - loss: 0.3696 - acc: 0.85 - ETA: 18:15 - loss: 0.3669 - acc: 0.85 - ETA: 18:14 - loss: 0.3669 - acc: 0.85 - ETA: 18:12 - loss: 0.3695 - acc: 0.85 - ETA: 18:07 - loss: 0.3693 - acc: 0.85 - ETA: 18:05 - loss: 0.3673 - acc: 0.85 - ETA: 18:05 - loss: 0.3675 - acc: 0.85 - ETA: 18:05 - loss: 0.3673 - acc: 0.85 - ETA: 18:04 - loss: 0.3654 - acc: 0.85 - ETA: 18:02 - loss: 0.3638 - acc: 0.85 - ETA: 18:02 - loss: 0.3639 - acc: 0.85 - ETA: 17:58 - loss: 0.3644 - acc: 0.85 - ETA: 17:55 - loss: 0.3657 - acc: 0.85 - ETA: 17:53 - loss: 0.3648 - acc: 0.85 - ETA: 17:49 - loss: 0.3630 - acc: 0.85 - ETA: 17:50 - loss: 0.3629 - acc: 0.85 - ETA: 17:49 - loss: 0.3635 - acc: 0.85 - ETA: 17:48 - loss: 0.3636 - acc: 0.85 - ETA: 17:45 - loss: 0.3644 - acc: 0.85 - ETA: 17:44 - loss: 0.3630 - acc: 0.85 - ETA: 17:42 - loss: 0.3631 - acc: 0.85 - ETA: 17:40 - loss: 0.3642 - acc: 0.85 - ETA: 17:39 - loss: 0.3639 - acc: 0.85 - ETA: 17:37 - loss: 0.3638 - acc: 0.85 - ETA: 17:35 - loss: 0.3637 - acc: 0.85 - ETA: 17:32 - loss: 0.3636 - acc: 0.85 - ETA: 17:31 - loss: 0.3627 - acc: 0.85 - ETA: 17:29 - loss: 0.3624 - acc: 0.85 - ETA: 17:28 - loss: 0.3635 - acc: 0.85 - ETA: 17:25 - loss: 0.3630 - acc: 0.85 - ETA: 17:24 - loss: 0.3630 - acc: 0.85 - ETA: 17:22 - loss: 0.3611 - acc: 0.85 - ETA: 17:20 - loss: 0.3606 - acc: 0.85 - ETA: 17:18 - loss: 0.3597 - acc: 0.85 - ETA: 17:16 - loss: 0.3596 - acc: 0.85 - ETA: 17:14 - loss: 0.3595 - acc: 0.85 - ETA: 17:12 - loss: 0.3602 - acc: 0.85 - ETA: 17:10 - loss: 0.3599 - acc: 0.85 - ETA: 17:09 - loss: 0.3592 - acc: 0.85 - ETA: 17:06 - loss: 0.3601 - acc: 0.85 - ETA: 17:04 - loss: 0.3600 - acc: 0.85 - ETA: 17:02 - loss: 0.3599 - acc: 0.85 - ETA: 16:59 - loss: 0.3599 - acc: 0.85 - ETA: 16:57 - loss: 0.3594 - acc: 0.85 - ETA: 16:55 - loss: 0.3598 - acc: 0.85 - ETA: 16:52 - loss: 0.3597 - acc: 0.85 - ETA: 16:51 - loss: 0.3596 - acc: 0.85 - ETA: 16:49 - loss: 0.3604 - acc: 0.85 - ETA: 16:47 - loss: 0.3609 - acc: 0.85 - ETA: 16:45 - loss: 0.3615 - acc: 0.85 - ETA: 16:44 - loss: 0.3605 - acc: 0.85 - ETA: 16:42 - loss: 0.3605 - acc: 0.85 - ETA: 16:40 - loss: 0.3605 - acc: 0.85 - ETA: 16:38 - loss: 0.3608 - acc: 0.85 - ETA: 16:36 - loss: 0.3607 - acc: 0.85 - ETA: 16:34 - loss: 0.3615 - acc: 0.85 - ETA: 16:33 - loss: 0.3611 - acc: 0.85 - ETA: 16:30 - loss: 0.3606 - acc: 0.85 - ETA: 16:29 - loss: 0.3619 - acc: 0.85 - ETA: 16:27 - loss: 0.3622 - acc: 0.85 - ETA: 16:24 - loss: 0.3618 - acc: 0.85 - ETA: 16:23 - loss: 0.3628 - acc: 0.85 - ETA: 16:21 - loss: 0.3632 - acc: 0.85 - ETA: 16:19 - loss: 0.3627 - acc: 0.85 - ETA: 16:17 - loss: 0.3628 - acc: 0.85 - ETA: 16:15 - loss: 0.3627 - acc: 0.85 - ETA: 16:14 - loss: 0.3632 - acc: 0.85 - ETA: 16:12 - loss: 0.3640 - acc: 0.85 - ETA: 16:10 - loss: 0.3643 - acc: 0.85 - ETA: 16:08 - loss: 0.3647 - acc: 0.85 - ETA: 16:06 - loss: 0.3647 - acc: 0.85 - ETA: 16:04 - loss: 0.3646 - acc: 0.85 - ETA: 16:02 - loss: 0.3645 - acc: 0.85 - ETA: 16:00 - loss: 0.3647 - acc: 0.85 - ETA: 15:59 - loss: 0.3647 - acc: 0.85 - ETA: 15:57 - loss: 0.3642 - acc: 0.85 - ETA: 15:54 - loss: 0.3646 - acc: 0.85 - ETA: 15:52 - loss: 0.3645 - acc: 0.85 - ETA: 15:50 - loss: 0.3652 - acc: 0.85 - ETA: 15:48 - loss: 0.3656 - acc: 0.85 - ETA: 15:46 - loss: 0.3658 - acc: 0.85 - ETA: 15:44 - loss: 0.3657 - acc: 0.85 - ETA: 15:41 - loss: 0.3658 - acc: 0.85 - ETA: 15:40 - loss: 0.3659 - acc: 0.85 - ETA: 15:38 - loss: 0.3649 - acc: 0.85 - ETA: 15:36 - loss: 0.3648 - acc: 0.85 - ETA: 15:34 - loss: 0.3649 - acc: 0.85 - ETA: 15:32 - loss: 0.3648 - acc: 0.85 - ETA: 15:30 - loss: 0.3652 - acc: 0.85 - ETA: 15:28 - loss: 0.3655 - acc: 0.85 - ETA: 15:26 - loss: 0.3661 - acc: 0.85 - ETA: 15:24 - loss: 0.3655 - acc: 0.85 - ETA: 15:22 - loss: 0.3654 - acc: 0.85 - ETA: 15:19 - loss: 0.3653 - acc: 0.85 - ETA: 15:17 - loss: 0.3657 - acc: 0.85 - ETA: 15:16 - loss: 0.3652 - acc: 0.85 - ETA: 15:14 - loss: 0.3654 - acc: 0.85 - ETA: 15:12 - loss: 0.3647 - acc: 0.85 - ETA: 15:10 - loss: 0.3645 - acc: 0.85 - ETA: 15:08 - loss: 0.3649 - acc: 0.85 - ETA: 15:06 - loss: 0.3652 - acc: 0.85 - ETA: 15:04 - loss: 0.3654 - acc: 0.85 - ETA: 15:02 - loss: 0.3651 - acc: 0.85 - ETA: 15:00 - loss: 0.3644 - acc: 0.85 - ETA: 14:58 - loss: 0.3642 - acc: 0.85 - ETA: 14:56 - loss: 0.3647 - acc: 0.85 - ETA: 14:54 - loss: 0.3649 - acc: 0.85 - ETA: 14:52 - loss: 0.3649 - acc: 0.85 - ETA: 14:50 - loss: 0.3649 - acc: 0.85 - ETA: 14:48 - loss: 0.3649 - acc: 0.85 - ETA: 14:46 - loss: 0.3647 - acc: 0.85 - ETA: 14:44 - loss: 0.3651 - acc: 0.85 - ETA: 14:42 - loss: 0.3657 - acc: 0.85 - ETA: 14:40 - loss: 0.3653 - acc: 0.85 - ETA: 14:38 - loss: 0.3650 - acc: 0.85 - ETA: 14:36 - loss: 0.3654 - acc: 0.85 - ETA: 14:34 - loss: 0.3654 - acc: 0.85 - ETA: 14:32 - loss: 0.3648 - acc: 0.85 - ETA: 14:30 - loss: 0.3652 - acc: 0.85 - ETA: 14:28 - loss: 0.3652 - acc: 0.85 - ETA: 14:26 - loss: 0.3652 - acc: 0.85 - ETA: 14:24 - loss: 0.3654 - acc: 0.85 - ETA: 14:22 - loss: 0.3653 - acc: 0.85 - ETA: 14:20 - loss: 0.3653 - acc: 0.85 - ETA: 14:18 - loss: 0.3650 - acc: 0.85 - ETA: 14:16 - loss: 0.3646 - acc: 0.85 - ETA: 14:14 - loss: 0.3644 - acc: 0.85 - ETA: 14:12 - loss: 0.3649 - acc: 0.85 - ETA: 14:10 - loss: 0.3645 - acc: 0.85 - ETA: 14:08 - loss: 0.3645 - acc: 0.85 - ETA: 14:07 - loss: 0.3643 - acc: 0.85 - ETA: 14:05 - loss: 0.3641 - acc: 0.85 - ETA: 14:03 - loss: 0.3643 - acc: 0.85 - ETA: 14:01 - loss: 0.3640 - acc: 0.85 - ETA: 13:59 - loss: 0.3642 - acc: 0.85 - ETA: 13:57 - loss: 0.3635 - acc: 0.85 - ETA: 13:55 - loss: 0.3632 - acc: 0.85 - ETA: 13:53 - loss: 0.3633 - acc: 0.85 - ETA: 13:51 - loss: 0.3630 - acc: 0.85 - ETA: 13:49 - loss: 0.3623 - acc: 0.85 - ETA: 13:47 - loss: 0.3623 - acc: 0.85 - ETA: 13:45 - loss: 0.3620 - acc: 0.85 - ETA: 13:43 - loss: 0.3619 - acc: 0.85 - ETA: 13:41 - loss: 0.3618 - acc: 0.85 - ETA: 13:39 - loss: 0.3621 - acc: 0.85 - ETA: 13:37 - loss: 0.3622 - acc: 0.85 - ETA: 13:35 - loss: 0.3626 - acc: 0.85 - ETA: 13:33 - loss: 0.3625 - acc: 0.85 - ETA: 13:31 - loss: 0.3628 - acc: 0.85 - ETA: 13:29 - loss: 0.3626 - acc: 0.85 - ETA: 13:27 - loss: 0.3626 - acc: 0.85 - ETA: 13:25 - loss: 0.3625 - acc: 0.85 - ETA: 13:23 - loss: 0.3627 - acc: 0.85 - ETA: 13:21 - loss: 0.3628 - acc: 0.85 - ETA: 13:19 - loss: 0.3629 - acc: 0.85 - ETA: 13:17 - loss: 0.3628 - acc: 0.85 - ETA: 13:15 - loss: 0.3628 - acc: 0.85 - ETA: 13:13 - loss: 0.3628 - acc: 0.85 - ETA: 13:11 - loss: 0.3628 - acc: 0.85 - ETA: 13:09 - loss: 0.3626 - acc: 0.85 - ETA: 13:07 - loss: 0.3624 - acc: 0.85 - ETA: 13:05 - loss: 0.3625 - acc: 0.85 - ETA: 13:03 - loss: 0.3629 - acc: 0.85 - ETA: 13:01 - loss: 0.3629 - acc: 0.85 - ETA: 12:59 - loss: 0.3632 - acc: 0.85 - ETA: 12:57 - loss: 0.3634 - acc: 0.85 - ETA: 12:55 - loss: 0.3637 - acc: 0.85 - ETA: 12:53 - loss: 0.3635 - acc: 0.85 - ETA: 12:51 - loss: 0.3635 - acc: 0.85 - ETA: 12:49 - loss: 0.3633 - acc: 0.85 - ETA: 12:47 - loss: 0.3632 - acc: 0.85 - ETA: 12:45 - loss: 0.3634 - acc: 0.85 - ETA: 12:43 - loss: 0.3633 - acc: 0.85 - ETA: 12:41 - loss: 0.3630 - acc: 0.85 - ETA: 12:39 - loss: 0.3630 - acc: 0.85 - ETA: 12:37 - loss: 0.3629 - acc: 0.85 - ETA: 12:35 - loss: 0.3629 - acc: 0.85 - ETA: 12:33 - loss: 0.3627 - acc: 0.85 - ETA: 12:31 - loss: 0.3627 - acc: 0.85 - ETA: 12:29 - loss: 0.3631 - acc: 0.85 - ETA: 12:28 - loss: 0.3632 - acc: 0.85 - ETA: 12:25 - loss: 0.3634 - acc: 0.85 - ETA: 12:24 - loss: 0.3634 - acc: 0.85 - ETA: 12:22 - loss: 0.3633 - acc: 0.85 - ETA: 12:20 - loss: 0.3636 - acc: 0.85 - ETA: 12:17 - loss: 0.3635 - acc: 0.85 - ETA: 12:15 - loss: 0.3634 - acc: 0.85 - ETA: 12:13 - loss: 0.3633 - acc: 0.85 - ETA: 12:11 - loss: 0.3632 - acc: 0.85 - ETA: 12:09 - loss: 0.3630 - acc: 0.85 - ETA: 12:07 - loss: 0.3630 - acc: 0.85 - ETA: 12:05 - loss: 0.3628 - acc: 0.85 - ETA: 12:03 - loss: 0.3629 - acc: 0.8556104448/145664 [====================>.........] - ETA: 12:01 - loss: 0.3626 - acc: 0.85 - ETA: 12:00 - loss: 0.3627 - acc: 0.85 - ETA: 11:57 - loss: 0.3628 - acc: 0.85 - ETA: 11:56 - loss: 0.3626 - acc: 0.85 - ETA: 11:54 - loss: 0.3629 - acc: 0.85 - ETA: 11:52 - loss: 0.3629 - acc: 0.85 - ETA: 11:50 - loss: 0.3625 - acc: 0.85 - ETA: 11:48 - loss: 0.3621 - acc: 0.85 - ETA: 11:46 - loss: 0.3621 - acc: 0.85 - ETA: 11:44 - loss: 0.3620 - acc: 0.85 - ETA: 11:42 - loss: 0.3620 - acc: 0.85 - ETA: 11:40 - loss: 0.3619 - acc: 0.85 - ETA: 11:38 - loss: 0.3623 - acc: 0.85 - ETA: 11:36 - loss: 0.3622 - acc: 0.85 - ETA: 11:34 - loss: 0.3622 - acc: 0.85 - ETA: 11:32 - loss: 0.3624 - acc: 0.85 - ETA: 11:30 - loss: 0.3622 - acc: 0.85 - ETA: 11:28 - loss: 0.3621 - acc: 0.85 - ETA: 11:26 - loss: 0.3622 - acc: 0.85 - ETA: 11:24 - loss: 0.3626 - acc: 0.85 - ETA: 11:22 - loss: 0.3627 - acc: 0.85 - ETA: 11:20 - loss: 0.3624 - acc: 0.85 - ETA: 11:18 - loss: 0.3626 - acc: 0.85 - ETA: 11:16 - loss: 0.3628 - acc: 0.85 - ETA: 11:14 - loss: 0.3628 - acc: 0.85 - ETA: 11:12 - loss: 0.3630 - acc: 0.85 - ETA: 11:10 - loss: 0.3627 - acc: 0.85 - ETA: 11:08 - loss: 0.3628 - acc: 0.85 - ETA: 11:06 - loss: 0.3625 - acc: 0.85 - ETA: 11:05 - loss: 0.3623 - acc: 0.85 - ETA: 11:03 - loss: 0.3622 - acc: 0.85 - ETA: 11:01 - loss: 0.3619 - acc: 0.85 - ETA: 10:59 - loss: 0.3618 - acc: 0.85 - ETA: 10:57 - loss: 0.3618 - acc: 0.85 - ETA: 10:55 - loss: 0.3622 - acc: 0.85 - ETA: 10:53 - loss: 0.3623 - acc: 0.85 - ETA: 10:51 - loss: 0.3621 - acc: 0.85 - ETA: 10:49 - loss: 0.3623 - acc: 0.85 - ETA: 10:47 - loss: 0.3620 - acc: 0.85 - ETA: 10:45 - loss: 0.3621 - acc: 0.85 - ETA: 10:43 - loss: 0.3619 - acc: 0.85 - ETA: 10:41 - loss: 0.3619 - acc: 0.85 - ETA: 10:39 - loss: 0.3623 - acc: 0.85 - ETA: 10:37 - loss: 0.3622 - acc: 0.85 - ETA: 10:35 - loss: 0.3620 - acc: 0.85 - ETA: 10:33 - loss: 0.3620 - acc: 0.85 - ETA: 10:31 - loss: 0.3618 - acc: 0.85 - ETA: 10:29 - loss: 0.3616 - acc: 0.85 - ETA: 10:27 - loss: 0.3616 - acc: 0.85 - ETA: 10:25 - loss: 0.3617 - acc: 0.85 - ETA: 10:23 - loss: 0.3619 - acc: 0.85 - ETA: 10:21 - loss: 0.3618 - acc: 0.85 - ETA: 10:19 - loss: 0.3620 - acc: 0.85 - ETA: 10:17 - loss: 0.3621 - acc: 0.85 - ETA: 10:15 - loss: 0.3621 - acc: 0.85 - ETA: 10:13 - loss: 0.3622 - acc: 0.85 - ETA: 10:11 - loss: 0.3624 - acc: 0.85 - ETA: 10:09 - loss: 0.3626 - acc: 0.85 - ETA: 10:07 - loss: 0.3629 - acc: 0.85 - ETA: 10:05 - loss: 0.3630 - acc: 0.85 - ETA: 10:03 - loss: 0.3630 - acc: 0.85 - ETA: 10:01 - loss: 0.3631 - acc: 0.85 - ETA: 9:59 - loss: 0.3632 - acc: 0.8556 - ETA: 9:57 - loss: 0.3632 - acc: 0.855 - ETA: 9:55 - loss: 0.3633 - acc: 0.855 - ETA: 9:53 - loss: 0.3633 - acc: 0.855 - ETA: 9:51 - loss: 0.3635 - acc: 0.855 - ETA: 9:49 - loss: 0.3635 - acc: 0.855 - ETA: 9:47 - loss: 0.3635 - acc: 0.855 - ETA: 9:45 - loss: 0.3634 - acc: 0.855 - ETA: 9:43 - loss: 0.3634 - acc: 0.855 - ETA: 9:41 - loss: 0.3634 - acc: 0.855 - ETA: 9:39 - loss: 0.3635 - acc: 0.855 - ETA: 9:37 - loss: 0.3635 - acc: 0.855 - ETA: 9:35 - loss: 0.3635 - acc: 0.855 - ETA: 9:33 - loss: 0.3632 - acc: 0.855 - ETA: 9:31 - loss: 0.3632 - acc: 0.855 - ETA: 9:29 - loss: 0.3632 - acc: 0.855 - ETA: 9:27 - loss: 0.3632 - acc: 0.855 - ETA: 9:25 - loss: 0.3631 - acc: 0.855 - ETA: 9:23 - loss: 0.3631 - acc: 0.855 - ETA: 9:22 - loss: 0.3633 - acc: 0.855 - ETA: 9:20 - loss: 0.3632 - acc: 0.855 - ETA: 9:18 - loss: 0.3633 - acc: 0.855 - ETA: 9:16 - loss: 0.3634 - acc: 0.855 - ETA: 9:14 - loss: 0.3633 - acc: 0.855 - ETA: 9:12 - loss: 0.3633 - acc: 0.855 - ETA: 9:10 - loss: 0.3634 - acc: 0.855 - ETA: 9:08 - loss: 0.3636 - acc: 0.855 - ETA: 9:06 - loss: 0.3636 - acc: 0.855 - ETA: 9:04 - loss: 0.3634 - acc: 0.855 - ETA: 9:02 - loss: 0.3634 - acc: 0.855 - ETA: 9:00 - loss: 0.3633 - acc: 0.855 - ETA: 8:58 - loss: 0.3633 - acc: 0.855 - ETA: 8:56 - loss: 0.3634 - acc: 0.855 - ETA: 8:54 - loss: 0.3633 - acc: 0.855 - ETA: 8:52 - loss: 0.3631 - acc: 0.855 - ETA: 8:50 - loss: 0.3632 - acc: 0.855 - ETA: 8:48 - loss: 0.3634 - acc: 0.855 - ETA: 8:46 - loss: 0.3634 - acc: 0.855 - ETA: 8:44 - loss: 0.3637 - acc: 0.855 - ETA: 8:42 - loss: 0.3637 - acc: 0.855 - ETA: 8:40 - loss: 0.3638 - acc: 0.855 - ETA: 8:38 - loss: 0.3636 - acc: 0.855 - ETA: 8:36 - loss: 0.3637 - acc: 0.855 - ETA: 8:34 - loss: 0.3637 - acc: 0.855 - ETA: 8:32 - loss: 0.3638 - acc: 0.855 - ETA: 8:30 - loss: 0.3640 - acc: 0.855 - ETA: 8:29 - loss: 0.3642 - acc: 0.855 - ETA: 8:27 - loss: 0.3642 - acc: 0.855 - ETA: 8:25 - loss: 0.3643 - acc: 0.855 - ETA: 8:23 - loss: 0.3644 - acc: 0.855 - ETA: 8:21 - loss: 0.3643 - acc: 0.855 - ETA: 8:19 - loss: 0.3643 - acc: 0.855 - ETA: 8:17 - loss: 0.3642 - acc: 0.855 - ETA: 8:15 - loss: 0.3641 - acc: 0.855 - ETA: 8:13 - loss: 0.3642 - acc: 0.855 - ETA: 8:11 - loss: 0.3639 - acc: 0.855 - ETA: 8:09 - loss: 0.3639 - acc: 0.855 - ETA: 8:07 - loss: 0.3637 - acc: 0.855 - ETA: 8:05 - loss: 0.3638 - acc: 0.855 - ETA: 8:03 - loss: 0.3637 - acc: 0.855 - ETA: 8:01 - loss: 0.3637 - acc: 0.855 - ETA: 7:59 - loss: 0.3637 - acc: 0.855 - ETA: 7:57 - loss: 0.3636 - acc: 0.855 - ETA: 7:55 - loss: 0.3636 - acc: 0.855 - ETA: 7:53 - loss: 0.3635 - acc: 0.855 - ETA: 7:51 - loss: 0.3634 - acc: 0.855 - ETA: 7:50 - loss: 0.3634 - acc: 0.855 - ETA: 7:47 - loss: 0.3633 - acc: 0.855 - ETA: 7:46 - loss: 0.3632 - acc: 0.855 - ETA: 7:44 - loss: 0.3634 - acc: 0.855 - ETA: 7:42 - loss: 0.3636 - acc: 0.855 - ETA: 7:40 - loss: 0.3635 - acc: 0.855 - ETA: 7:38 - loss: 0.3637 - acc: 0.855 - ETA: 7:36 - loss: 0.3636 - acc: 0.855 - ETA: 7:34 - loss: 0.3635 - acc: 0.855 - ETA: 7:32 - loss: 0.3636 - acc: 0.855 - ETA: 7:30 - loss: 0.3635 - acc: 0.855 - ETA: 7:28 - loss: 0.3635 - acc: 0.855 - ETA: 7:26 - loss: 0.3633 - acc: 0.856 - ETA: 7:24 - loss: 0.3635 - acc: 0.855 - ETA: 7:22 - loss: 0.3634 - acc: 0.856 - ETA: 7:20 - loss: 0.3633 - acc: 0.856 - ETA: 7:18 - loss: 0.3635 - acc: 0.855 - ETA: 7:16 - loss: 0.3635 - acc: 0.855 - ETA: 7:14 - loss: 0.3636 - acc: 0.855 - ETA: 7:12 - loss: 0.3637 - acc: 0.855 - ETA: 7:10 - loss: 0.3636 - acc: 0.855 - ETA: 7:08 - loss: 0.3637 - acc: 0.855 - ETA: 7:06 - loss: 0.3638 - acc: 0.855 - ETA: 7:05 - loss: 0.3638 - acc: 0.855 - ETA: 7:02 - loss: 0.3637 - acc: 0.855 - ETA: 7:00 - loss: 0.3636 - acc: 0.855 - ETA: 6:59 - loss: 0.3636 - acc: 0.855 - ETA: 6:57 - loss: 0.3636 - acc: 0.855 - ETA: 6:55 - loss: 0.3637 - acc: 0.855 - ETA: 6:53 - loss: 0.3637 - acc: 0.855 - ETA: 6:51 - loss: 0.3637 - acc: 0.855 - ETA: 6:49 - loss: 0.3638 - acc: 0.855 - ETA: 6:47 - loss: 0.3639 - acc: 0.855 - ETA: 6:45 - loss: 0.3640 - acc: 0.855 - ETA: 6:43 - loss: 0.3640 - acc: 0.855 - ETA: 6:41 - loss: 0.3640 - acc: 0.855 - ETA: 6:39 - loss: 0.3639 - acc: 0.855 - ETA: 6:37 - loss: 0.3638 - acc: 0.855 - ETA: 6:35 - loss: 0.3639 - acc: 0.855 - ETA: 6:33 - loss: 0.3639 - acc: 0.855 - ETA: 6:31 - loss: 0.3639 - acc: 0.855 - ETA: 6:29 - loss: 0.3640 - acc: 0.855 - ETA: 6:27 - loss: 0.3639 - acc: 0.855 - ETA: 6:25 - loss: 0.3641 - acc: 0.855 - ETA: 6:23 - loss: 0.3641 - acc: 0.855 - ETA: 6:21 - loss: 0.3643 - acc: 0.855 - ETA: 6:19 - loss: 0.3642 - acc: 0.855 - ETA: 6:17 - loss: 0.3643 - acc: 0.855 - ETA: 6:15 - loss: 0.3643 - acc: 0.855 - ETA: 6:13 - loss: 0.3643 - acc: 0.855 - ETA: 6:11 - loss: 0.3643 - acc: 0.855 - ETA: 6:09 - loss: 0.3642 - acc: 0.855 - ETA: 6:07 - loss: 0.3643 - acc: 0.855 - ETA: 6:05 - loss: 0.3643 - acc: 0.855 - ETA: 6:03 - loss: 0.3645 - acc: 0.855 - ETA: 6:01 - loss: 0.3644 - acc: 0.855 - ETA: 5:59 - loss: 0.3643 - acc: 0.855 - ETA: 5:57 - loss: 0.3644 - acc: 0.855 - ETA: 5:55 - loss: 0.3645 - acc: 0.855 - ETA: 5:53 - loss: 0.3644 - acc: 0.855 - ETA: 5:51 - loss: 0.3644 - acc: 0.855 - ETA: 5:49 - loss: 0.3644 - acc: 0.855 - ETA: 5:47 - loss: 0.3647 - acc: 0.855 - ETA: 5:45 - loss: 0.3648 - acc: 0.855 - ETA: 5:43 - loss: 0.3650 - acc: 0.855 - ETA: 5:41 - loss: 0.3650 - acc: 0.855 - ETA: 5:39 - loss: 0.3649 - acc: 0.855 - ETA: 5:37 - loss: 0.3649 - acc: 0.855 - ETA: 5:35 - loss: 0.3649 - acc: 0.855 - ETA: 5:33 - loss: 0.3649 - acc: 0.855 - ETA: 5:31 - loss: 0.3648 - acc: 0.855 - ETA: 5:29 - loss: 0.3649 - acc: 0.855 - ETA: 5:27 - loss: 0.3649 - acc: 0.855 - ETA: 5:25 - loss: 0.3647 - acc: 0.855 - ETA: 5:23 - loss: 0.3647 - acc: 0.855 - ETA: 5:21 - loss: 0.3645 - acc: 0.8557145664/145664 [==============================] - ETA: 5:19 - loss: 0.3644 - acc: 0.855 - ETA: 5:17 - loss: 0.3646 - acc: 0.855 - ETA: 5:15 - loss: 0.3646 - acc: 0.855 - ETA: 5:13 - loss: 0.3648 - acc: 0.855 - ETA: 5:11 - loss: 0.3649 - acc: 0.855 - ETA: 5:09 - loss: 0.3648 - acc: 0.855 - ETA: 5:07 - loss: 0.3648 - acc: 0.855 - ETA: 5:05 - loss: 0.3648 - acc: 0.855 - ETA: 5:03 - loss: 0.3648 - acc: 0.855 - ETA: 5:01 - loss: 0.3650 - acc: 0.855 - ETA: 4:59 - loss: 0.3650 - acc: 0.855 - ETA: 4:57 - loss: 0.3651 - acc: 0.855 - ETA: 4:55 - loss: 0.3650 - acc: 0.855 - ETA: 4:53 - loss: 0.3651 - acc: 0.855 - ETA: 4:51 - loss: 0.3650 - acc: 0.855 - ETA: 4:49 - loss: 0.3650 - acc: 0.855 - ETA: 4:47 - loss: 0.3651 - acc: 0.855 - ETA: 4:45 - loss: 0.3652 - acc: 0.855 - ETA: 4:43 - loss: 0.3652 - acc: 0.855 - ETA: 4:41 - loss: 0.3651 - acc: 0.855 - ETA: 4:39 - loss: 0.3650 - acc: 0.855 - ETA: 4:37 - loss: 0.3651 - acc: 0.855 - ETA: 4:35 - loss: 0.3651 - acc: 0.855 - ETA: 4:33 - loss: 0.3651 - acc: 0.855 - ETA: 4:31 - loss: 0.3651 - acc: 0.855 - ETA: 4:29 - loss: 0.3652 - acc: 0.855 - ETA: 4:27 - loss: 0.3652 - acc: 0.855 - ETA: 4:25 - loss: 0.3653 - acc: 0.855 - ETA: 4:23 - loss: 0.3653 - acc: 0.855 - ETA: 4:21 - loss: 0.3652 - acc: 0.855 - ETA: 4:19 - loss: 0.3652 - acc: 0.855 - ETA: 4:17 - loss: 0.3651 - acc: 0.855 - ETA: 4:15 - loss: 0.3652 - acc: 0.855 - ETA: 4:13 - loss: 0.3651 - acc: 0.855 - ETA: 4:11 - loss: 0.3650 - acc: 0.855 - ETA: 4:09 - loss: 0.3650 - acc: 0.855 - ETA: 4:07 - loss: 0.3650 - acc: 0.855 - ETA: 4:05 - loss: 0.3649 - acc: 0.855 - ETA: 4:03 - loss: 0.3650 - acc: 0.855 - ETA: 4:01 - loss: 0.3651 - acc: 0.855 - ETA: 3:59 - loss: 0.3650 - acc: 0.855 - ETA: 3:57 - loss: 0.3651 - acc: 0.855 - ETA: 3:55 - loss: 0.3652 - acc: 0.855 - ETA: 3:53 - loss: 0.3653 - acc: 0.855 - ETA: 3:51 - loss: 0.3652 - acc: 0.855 - ETA: 3:49 - loss: 0.3649 - acc: 0.855 - ETA: 3:47 - loss: 0.3649 - acc: 0.855 - ETA: 3:45 - loss: 0.3649 - acc: 0.855 - ETA: 3:43 - loss: 0.3648 - acc: 0.855 - ETA: 3:41 - loss: 0.3647 - acc: 0.855 - ETA: 3:39 - loss: 0.3649 - acc: 0.855 - ETA: 3:37 - loss: 0.3650 - acc: 0.855 - ETA: 3:35 - loss: 0.3650 - acc: 0.855 - ETA: 3:33 - loss: 0.3650 - acc: 0.855 - ETA: 3:31 - loss: 0.3650 - acc: 0.855 - ETA: 3:29 - loss: 0.3651 - acc: 0.855 - ETA: 3:27 - loss: 0.3650 - acc: 0.855 - ETA: 3:25 - loss: 0.3650 - acc: 0.855 - ETA: 3:23 - loss: 0.3649 - acc: 0.855 - ETA: 3:21 - loss: 0.3649 - acc: 0.855 - ETA: 3:19 - loss: 0.3648 - acc: 0.855 - ETA: 3:17 - loss: 0.3648 - acc: 0.855 - ETA: 3:15 - loss: 0.3649 - acc: 0.855 - ETA: 3:13 - loss: 0.3649 - acc: 0.855 - ETA: 3:11 - loss: 0.3650 - acc: 0.855 - ETA: 3:09 - loss: 0.3650 - acc: 0.855 - ETA: 3:07 - loss: 0.3648 - acc: 0.855 - ETA: 3:05 - loss: 0.3647 - acc: 0.855 - ETA: 3:03 - loss: 0.3648 - acc: 0.855 - ETA: 3:01 - loss: 0.3647 - acc: 0.855 - ETA: 2:59 - loss: 0.3646 - acc: 0.855 - ETA: 2:57 - loss: 0.3645 - acc: 0.855 - ETA: 2:55 - loss: 0.3644 - acc: 0.855 - ETA: 2:53 - loss: 0.3645 - acc: 0.855 - ETA: 2:51 - loss: 0.3646 - acc: 0.855 - ETA: 2:49 - loss: 0.3645 - acc: 0.855 - ETA: 2:47 - loss: 0.3645 - acc: 0.855 - ETA: 2:45 - loss: 0.3645 - acc: 0.855 - ETA: 2:43 - loss: 0.3644 - acc: 0.855 - ETA: 2:41 - loss: 0.3645 - acc: 0.855 - ETA: 2:39 - loss: 0.3646 - acc: 0.855 - ETA: 2:37 - loss: 0.3646 - acc: 0.855 - ETA: 2:35 - loss: 0.3645 - acc: 0.855 - ETA: 2:33 - loss: 0.3645 - acc: 0.855 - ETA: 2:31 - loss: 0.3645 - acc: 0.855 - ETA: 2:29 - loss: 0.3645 - acc: 0.855 - ETA: 2:27 - loss: 0.3646 - acc: 0.855 - ETA: 2:25 - loss: 0.3645 - acc: 0.855 - ETA: 2:23 - loss: 0.3645 - acc: 0.855 - ETA: 2:21 - loss: 0.3644 - acc: 0.855 - ETA: 2:19 - loss: 0.3644 - acc: 0.855 - ETA: 2:17 - loss: 0.3645 - acc: 0.855 - ETA: 2:15 - loss: 0.3646 - acc: 0.855 - ETA: 2:13 - loss: 0.3646 - acc: 0.855 - ETA: 2:11 - loss: 0.3645 - acc: 0.855 - ETA: 2:09 - loss: 0.3646 - acc: 0.855 - ETA: 2:07 - loss: 0.3646 - acc: 0.855 - ETA: 2:05 - loss: 0.3647 - acc: 0.855 - ETA: 2:03 - loss: 0.3646 - acc: 0.855 - ETA: 2:01 - loss: 0.3646 - acc: 0.855 - ETA: 1:59 - loss: 0.3645 - acc: 0.855 - ETA: 1:57 - loss: 0.3644 - acc: 0.855 - ETA: 1:55 - loss: 0.3644 - acc: 0.855 - ETA: 1:53 - loss: 0.3644 - acc: 0.855 - ETA: 1:51 - loss: 0.3643 - acc: 0.855 - ETA: 1:49 - loss: 0.3643 - acc: 0.855 - ETA: 1:47 - loss: 0.3643 - acc: 0.855 - ETA: 1:45 - loss: 0.3643 - acc: 0.855 - ETA: 1:43 - loss: 0.3643 - acc: 0.855 - ETA: 1:41 - loss: 0.3644 - acc: 0.855 - ETA: 1:39 - loss: 0.3643 - acc: 0.855 - ETA: 1:37 - loss: 0.3645 - acc: 0.855 - ETA: 1:35 - loss: 0.3645 - acc: 0.855 - ETA: 1:33 - loss: 0.3644 - acc: 0.855 - ETA: 1:31 - loss: 0.3644 - acc: 0.855 - ETA: 1:29 - loss: 0.3644 - acc: 0.855 - ETA: 1:27 - loss: 0.3644 - acc: 0.855 - ETA: 1:25 - loss: 0.3645 - acc: 0.855 - ETA: 1:23 - loss: 0.3645 - acc: 0.855 - ETA: 1:21 - loss: 0.3647 - acc: 0.855 - ETA: 1:19 - loss: 0.3647 - acc: 0.855 - ETA: 1:17 - loss: 0.3647 - acc: 0.855 - ETA: 1:15 - loss: 0.3646 - acc: 0.855 - ETA: 1:13 - loss: 0.3646 - acc: 0.855 - ETA: 1:11 - loss: 0.3646 - acc: 0.855 - ETA: 1:09 - loss: 0.3646 - acc: 0.855 - ETA: 1:07 - loss: 0.3647 - acc: 0.855 - ETA: 1:05 - loss: 0.3647 - acc: 0.855 - ETA: 1:03 - loss: 0.3647 - acc: 0.855 - ETA: 1:01 - loss: 0.3646 - acc: 0.855 - ETA: 59s - loss: 0.3647 - acc: 0.855 - ETA: 57s - loss: 0.3647 - acc: 0.85 - ETA: 55s - loss: 0.3646 - acc: 0.85 - ETA: 53s - loss: 0.3645 - acc: 0.85 - ETA: 51s - loss: 0.3645 - acc: 0.85 - ETA: 49s - loss: 0.3644 - acc: 0.85 - ETA: 47s - loss: 0.3647 - acc: 0.85 - ETA: 45s - loss: 0.3646 - acc: 0.85 - ETA: 43s - loss: 0.3645 - acc: 0.85 - ETA: 41s - loss: 0.3645 - acc: 0.85 - ETA: 39s - loss: 0.3643 - acc: 0.85 - ETA: 37s - loss: 0.3643 - acc: 0.85 - ETA: 35s - loss: 0.3643 - acc: 0.85 - ETA: 33s - loss: 0.3644 - acc: 0.85 - ETA: 31s - loss: 0.3644 - acc: 0.85 - ETA: 29s - loss: 0.3645 - acc: 0.85 - ETA: 27s - loss: 0.3644 - acc: 0.85 - ETA: 25s - loss: 0.3644 - acc: 0.85 - ETA: 23s - loss: 0.3645 - acc: 0.85 - ETA: 21s - loss: 0.3645 - acc: 0.85 - ETA: 19s - loss: 0.3645 - acc: 0.85 - ETA: 17s - loss: 0.3645 - acc: 0.85 - ETA: 15s - loss: 0.3646 - acc: 0.85 - ETA: 13s - loss: 0.3645 - acc: 0.85 - ETA: 11s - loss: 0.3645 - acc: 0.85 - ETA: 9s - loss: 0.3644 - acc: 0.8556 - ETA: 7s - loss: 0.3644 - acc: 0.855 - ETA: 5s - loss: 0.3645 - acc: 0.855 - ETA: 3s - loss: 0.3644 - acc: 0.855 - ETA: 1s - loss: 0.3645 - acc: 0.855 - 1251s 9ms/step - loss: 0.3647 - acc: 0.8554 - val_loss: 0.3608 - val_acc: 0.8562\n",
      "Epoch 4/6\n"
     ]
    },
    {
     "name": "stdout",
     "output_type": "stream",
     "text": [
      " 52224/145664 [=========>....................] - ETA: 19:20 - loss: 0.3725 - acc: 0.86 - ETA: 19:19 - loss: 0.3402 - acc: 0.86 - ETA: 19:14 - loss: 0.3580 - acc: 0.85 - ETA: 19:05 - loss: 0.3544 - acc: 0.85 - ETA: 18:53 - loss: 0.3562 - acc: 0.86 - ETA: 18:49 - loss: 0.3679 - acc: 0.85 - ETA: 18:50 - loss: 0.3575 - acc: 0.86 - ETA: 18:50 - loss: 0.3506 - acc: 0.86 - ETA: 18:38 - loss: 0.3475 - acc: 0.86 - ETA: 18:36 - loss: 0.3413 - acc: 0.86 - ETA: 18:32 - loss: 0.3459 - acc: 0.86 - ETA: 18:27 - loss: 0.3473 - acc: 0.86 - ETA: 18:26 - loss: 0.3514 - acc: 0.86 - ETA: 18:24 - loss: 0.3530 - acc: 0.86 - ETA: 18:22 - loss: 0.3581 - acc: 0.85 - ETA: 18:19 - loss: 0.3572 - acc: 0.85 - ETA: 18:18 - loss: 0.3552 - acc: 0.86 - ETA: 18:22 - loss: 0.3568 - acc: 0.85 - ETA: 18:19 - loss: 0.3571 - acc: 0.85 - ETA: 18:15 - loss: 0.3545 - acc: 0.85 - ETA: 18:13 - loss: 0.3549 - acc: 0.85 - ETA: 18:11 - loss: 0.3581 - acc: 0.85 - ETA: 18:09 - loss: 0.3592 - acc: 0.85 - ETA: 18:03 - loss: 0.3604 - acc: 0.85 - ETA: 18:04 - loss: 0.3585 - acc: 0.85 - ETA: 18:02 - loss: 0.3598 - acc: 0.85 - ETA: 17:58 - loss: 0.3600 - acc: 0.85 - ETA: 17:57 - loss: 0.3602 - acc: 0.85 - ETA: 17:56 - loss: 0.3599 - acc: 0.85 - ETA: 17:54 - loss: 0.3576 - acc: 0.85 - ETA: 17:50 - loss: 0.3560 - acc: 0.85 - ETA: 17:48 - loss: 0.3562 - acc: 0.85 - ETA: 17:47 - loss: 0.3573 - acc: 0.85 - ETA: 17:44 - loss: 0.3592 - acc: 0.85 - ETA: 17:42 - loss: 0.3585 - acc: 0.85 - ETA: 17:41 - loss: 0.3593 - acc: 0.85 - ETA: 17:39 - loss: 0.3605 - acc: 0.85 - ETA: 17:35 - loss: 0.3596 - acc: 0.85 - ETA: 17:33 - loss: 0.3593 - acc: 0.85 - ETA: 17:32 - loss: 0.3580 - acc: 0.85 - ETA: 17:30 - loss: 0.3570 - acc: 0.85 - ETA: 17:27 - loss: 0.3565 - acc: 0.85 - ETA: 17:26 - loss: 0.3565 - acc: 0.85 - ETA: 17:24 - loss: 0.3579 - acc: 0.85 - ETA: 17:21 - loss: 0.3593 - acc: 0.85 - ETA: 17:19 - loss: 0.3604 - acc: 0.85 - ETA: 17:16 - loss: 0.3616 - acc: 0.85 - ETA: 17:15 - loss: 0.3629 - acc: 0.85 - ETA: 17:12 - loss: 0.3637 - acc: 0.85 - ETA: 17:11 - loss: 0.3634 - acc: 0.85 - ETA: 17:09 - loss: 0.3634 - acc: 0.85 - ETA: 17:07 - loss: 0.3626 - acc: 0.85 - ETA: 17:07 - loss: 0.3628 - acc: 0.85 - ETA: 17:07 - loss: 0.3630 - acc: 0.85 - ETA: 17:06 - loss: 0.3624 - acc: 0.85 - ETA: 17:05 - loss: 0.3621 - acc: 0.85 - ETA: 17:04 - loss: 0.3634 - acc: 0.85 - ETA: 17:03 - loss: 0.3624 - acc: 0.85 - ETA: 17:02 - loss: 0.3611 - acc: 0.85 - ETA: 17:01 - loss: 0.3602 - acc: 0.85 - ETA: 16:59 - loss: 0.3599 - acc: 0.85 - ETA: 16:58 - loss: 0.3600 - acc: 0.85 - ETA: 16:57 - loss: 0.3608 - acc: 0.85 - ETA: 16:56 - loss: 0.3606 - acc: 0.85 - ETA: 16:55 - loss: 0.3610 - acc: 0.85 - ETA: 16:53 - loss: 0.3611 - acc: 0.85 - ETA: 16:51 - loss: 0.3614 - acc: 0.85 - ETA: 16:50 - loss: 0.3618 - acc: 0.85 - ETA: 16:47 - loss: 0.3607 - acc: 0.85 - ETA: 16:46 - loss: 0.3602 - acc: 0.85 - ETA: 16:45 - loss: 0.3603 - acc: 0.85 - ETA: 16:44 - loss: 0.3601 - acc: 0.85 - ETA: 16:42 - loss: 0.3600 - acc: 0.85 - ETA: 16:40 - loss: 0.3603 - acc: 0.85 - ETA: 16:37 - loss: 0.3594 - acc: 0.85 - ETA: 16:35 - loss: 0.3596 - acc: 0.85 - ETA: 16:33 - loss: 0.3608 - acc: 0.85 - ETA: 16:30 - loss: 0.3606 - acc: 0.85 - ETA: 16:29 - loss: 0.3608 - acc: 0.85 - ETA: 16:27 - loss: 0.3604 - acc: 0.85 - ETA: 16:25 - loss: 0.3605 - acc: 0.85 - ETA: 16:23 - loss: 0.3610 - acc: 0.85 - ETA: 16:20 - loss: 0.3611 - acc: 0.85 - ETA: 16:18 - loss: 0.3605 - acc: 0.85 - ETA: 16:16 - loss: 0.3602 - acc: 0.85 - ETA: 16:14 - loss: 0.3600 - acc: 0.85 - ETA: 16:11 - loss: 0.3598 - acc: 0.85 - ETA: 16:09 - loss: 0.3597 - acc: 0.85 - ETA: 16:07 - loss: 0.3602 - acc: 0.85 - ETA: 16:05 - loss: 0.3610 - acc: 0.85 - ETA: 16:03 - loss: 0.3611 - acc: 0.85 - ETA: 16:00 - loss: 0.3612 - acc: 0.85 - ETA: 15:58 - loss: 0.3615 - acc: 0.85 - ETA: 15:56 - loss: 0.3613 - acc: 0.85 - ETA: 15:53 - loss: 0.3613 - acc: 0.85 - ETA: 15:51 - loss: 0.3611 - acc: 0.85 - ETA: 15:48 - loss: 0.3619 - acc: 0.85 - ETA: 15:46 - loss: 0.3619 - acc: 0.85 - ETA: 15:43 - loss: 0.3616 - acc: 0.85 - ETA: 15:41 - loss: 0.3612 - acc: 0.85 - ETA: 15:39 - loss: 0.3610 - acc: 0.85 - ETA: 15:37 - loss: 0.3605 - acc: 0.85 - ETA: 15:35 - loss: 0.3611 - acc: 0.85 - ETA: 15:33 - loss: 0.3609 - acc: 0.85 - ETA: 15:30 - loss: 0.3615 - acc: 0.85 - ETA: 15:28 - loss: 0.3612 - acc: 0.85 - ETA: 15:27 - loss: 0.3612 - acc: 0.85 - ETA: 15:24 - loss: 0.3615 - acc: 0.85 - ETA: 15:22 - loss: 0.3616 - acc: 0.85 - ETA: 15:20 - loss: 0.3617 - acc: 0.85 - ETA: 15:18 - loss: 0.3616 - acc: 0.85 - ETA: 15:16 - loss: 0.3615 - acc: 0.85 - ETA: 15:14 - loss: 0.3621 - acc: 0.85 - ETA: 15:12 - loss: 0.3618 - acc: 0.85 - ETA: 15:10 - loss: 0.3614 - acc: 0.85 - ETA: 15:08 - loss: 0.3615 - acc: 0.85 - ETA: 15:06 - loss: 0.3618 - acc: 0.85 - ETA: 15:04 - loss: 0.3615 - acc: 0.85 - ETA: 15:03 - loss: 0.3613 - acc: 0.85 - ETA: 15:01 - loss: 0.3619 - acc: 0.85 - ETA: 15:00 - loss: 0.3615 - acc: 0.85 - ETA: 14:58 - loss: 0.3616 - acc: 0.85 - ETA: 14:57 - loss: 0.3618 - acc: 0.85 - ETA: 14:55 - loss: 0.3615 - acc: 0.85 - ETA: 14:54 - loss: 0.3617 - acc: 0.85 - ETA: 14:52 - loss: 0.3615 - acc: 0.85 - ETA: 14:51 - loss: 0.3612 - acc: 0.85 - ETA: 14:49 - loss: 0.3611 - acc: 0.85 - ETA: 14:48 - loss: 0.3608 - acc: 0.85 - ETA: 14:46 - loss: 0.3614 - acc: 0.85 - ETA: 14:45 - loss: 0.3617 - acc: 0.85 - ETA: 14:44 - loss: 0.3618 - acc: 0.85 - ETA: 14:43 - loss: 0.3624 - acc: 0.85 - ETA: 14:41 - loss: 0.3622 - acc: 0.85 - ETA: 14:40 - loss: 0.3624 - acc: 0.85 - ETA: 14:39 - loss: 0.3620 - acc: 0.85 - ETA: 14:38 - loss: 0.3620 - acc: 0.85 - ETA: 14:37 - loss: 0.3623 - acc: 0.85 - ETA: 14:35 - loss: 0.3620 - acc: 0.85 - ETA: 14:34 - loss: 0.3625 - acc: 0.85 - ETA: 14:33 - loss: 0.3624 - acc: 0.85 - ETA: 14:31 - loss: 0.3621 - acc: 0.85 - ETA: 14:30 - loss: 0.3621 - acc: 0.85 - ETA: 14:29 - loss: 0.3625 - acc: 0.85 - ETA: 14:27 - loss: 0.3624 - acc: 0.85 - ETA: 14:26 - loss: 0.3619 - acc: 0.85 - ETA: 14:25 - loss: 0.3614 - acc: 0.85 - ETA: 14:23 - loss: 0.3617 - acc: 0.85 - ETA: 14:22 - loss: 0.3615 - acc: 0.85 - ETA: 14:21 - loss: 0.3618 - acc: 0.85 - ETA: 14:19 - loss: 0.3617 - acc: 0.85 - ETA: 14:18 - loss: 0.3618 - acc: 0.85 - ETA: 14:17 - loss: 0.3616 - acc: 0.85 - ETA: 14:15 - loss: 0.3617 - acc: 0.85 - ETA: 14:14 - loss: 0.3617 - acc: 0.85 - ETA: 14:12 - loss: 0.3616 - acc: 0.85 - ETA: 14:11 - loss: 0.3613 - acc: 0.85 - ETA: 14:09 - loss: 0.3617 - acc: 0.85 - ETA: 14:08 - loss: 0.3621 - acc: 0.85 - ETA: 14:06 - loss: 0.3622 - acc: 0.85 - ETA: 14:05 - loss: 0.3621 - acc: 0.85 - ETA: 14:03 - loss: 0.3622 - acc: 0.85 - ETA: 14:02 - loss: 0.3624 - acc: 0.85 - ETA: 14:00 - loss: 0.3623 - acc: 0.85 - ETA: 13:59 - loss: 0.3620 - acc: 0.85 - ETA: 13:57 - loss: 0.3621 - acc: 0.85 - ETA: 13:55 - loss: 0.3620 - acc: 0.85 - ETA: 13:54 - loss: 0.3623 - acc: 0.85 - ETA: 13:53 - loss: 0.3621 - acc: 0.85 - ETA: 13:51 - loss: 0.3625 - acc: 0.85 - ETA: 13:50 - loss: 0.3624 - acc: 0.85 - ETA: 13:48 - loss: 0.3626 - acc: 0.85 - ETA: 13:46 - loss: 0.3627 - acc: 0.85 - ETA: 13:45 - loss: 0.3625 - acc: 0.85 - ETA: 13:43 - loss: 0.3627 - acc: 0.85 - ETA: 13:41 - loss: 0.3626 - acc: 0.85 - ETA: 13:40 - loss: 0.3626 - acc: 0.85 - ETA: 13:38 - loss: 0.3625 - acc: 0.85 - ETA: 13:37 - loss: 0.3622 - acc: 0.85 - ETA: 13:35 - loss: 0.3619 - acc: 0.85 - ETA: 13:33 - loss: 0.3616 - acc: 0.85 - ETA: 13:31 - loss: 0.3614 - acc: 0.85 - ETA: 13:30 - loss: 0.3614 - acc: 0.85 - ETA: 13:28 - loss: 0.3612 - acc: 0.85 - ETA: 13:27 - loss: 0.3614 - acc: 0.85 - ETA: 13:25 - loss: 0.3614 - acc: 0.85 - ETA: 13:23 - loss: 0.3616 - acc: 0.85 - ETA: 13:21 - loss: 0.3618 - acc: 0.85 - ETA: 13:19 - loss: 0.3619 - acc: 0.85 - ETA: 13:18 - loss: 0.3618 - acc: 0.85 - ETA: 13:16 - loss: 0.3617 - acc: 0.85 - ETA: 13:14 - loss: 0.3615 - acc: 0.85 - ETA: 13:13 - loss: 0.3615 - acc: 0.85 - ETA: 13:11 - loss: 0.3613 - acc: 0.85 - ETA: 13:09 - loss: 0.3613 - acc: 0.85 - ETA: 13:07 - loss: 0.3613 - acc: 0.85 - ETA: 13:05 - loss: 0.3617 - acc: 0.85 - ETA: 13:04 - loss: 0.3617 - acc: 0.85 - ETA: 13:02 - loss: 0.3614 - acc: 0.85 - ETA: 13:00 - loss: 0.3616 - acc: 0.85 - ETA: 12:58 - loss: 0.3618 - acc: 0.85 - ETA: 12:57 - loss: 0.3616 - acc: 0.85 - ETA: 12:55 - loss: 0.3619 - acc: 0.85 - ETA: 12:53 - loss: 0.3618 - acc: 0.8566104192/145664 [====================>.........] - ETA: 12:51 - loss: 0.3619 - acc: 0.85 - ETA: 12:49 - loss: 0.3621 - acc: 0.85 - ETA: 12:47 - loss: 0.3621 - acc: 0.85 - ETA: 12:46 - loss: 0.3621 - acc: 0.85 - ETA: 12:44 - loss: 0.3622 - acc: 0.85 - ETA: 12:42 - loss: 0.3622 - acc: 0.85 - ETA: 12:40 - loss: 0.3621 - acc: 0.85 - ETA: 12:38 - loss: 0.3618 - acc: 0.85 - ETA: 12:37 - loss: 0.3615 - acc: 0.85 - ETA: 12:35 - loss: 0.3614 - acc: 0.85 - ETA: 12:33 - loss: 0.3614 - acc: 0.85 - ETA: 12:31 - loss: 0.3614 - acc: 0.85 - ETA: 12:29 - loss: 0.3616 - acc: 0.85 - ETA: 12:27 - loss: 0.3618 - acc: 0.85 - ETA: 12:25 - loss: 0.3614 - acc: 0.85 - ETA: 12:24 - loss: 0.3612 - acc: 0.85 - ETA: 12:22 - loss: 0.3610 - acc: 0.85 - ETA: 12:20 - loss: 0.3609 - acc: 0.85 - ETA: 12:18 - loss: 0.3609 - acc: 0.85 - ETA: 12:16 - loss: 0.3610 - acc: 0.85 - ETA: 12:14 - loss: 0.3611 - acc: 0.85 - ETA: 12:12 - loss: 0.3609 - acc: 0.85 - ETA: 12:10 - loss: 0.3609 - acc: 0.85 - ETA: 12:08 - loss: 0.3607 - acc: 0.85 - ETA: 12:07 - loss: 0.3605 - acc: 0.85 - ETA: 12:05 - loss: 0.3608 - acc: 0.85 - ETA: 12:03 - loss: 0.3605 - acc: 0.85 - ETA: 12:01 - loss: 0.3604 - acc: 0.85 - ETA: 11:59 - loss: 0.3604 - acc: 0.85 - ETA: 11:57 - loss: 0.3602 - acc: 0.85 - ETA: 11:55 - loss: 0.3601 - acc: 0.85 - ETA: 11:53 - loss: 0.3602 - acc: 0.85 - ETA: 11:51 - loss: 0.3604 - acc: 0.85 - ETA: 11:49 - loss: 0.3602 - acc: 0.85 - ETA: 11:47 - loss: 0.3602 - acc: 0.85 - ETA: 11:45 - loss: 0.3602 - acc: 0.85 - ETA: 11:44 - loss: 0.3604 - acc: 0.85 - ETA: 11:42 - loss: 0.3604 - acc: 0.85 - ETA: 11:40 - loss: 0.3608 - acc: 0.85 - ETA: 11:38 - loss: 0.3607 - acc: 0.85 - ETA: 11:36 - loss: 0.3607 - acc: 0.85 - ETA: 11:34 - loss: 0.3608 - acc: 0.85 - ETA: 11:32 - loss: 0.3608 - acc: 0.85 - ETA: 11:30 - loss: 0.3609 - acc: 0.85 - ETA: 11:28 - loss: 0.3607 - acc: 0.85 - ETA: 11:26 - loss: 0.3608 - acc: 0.85 - ETA: 11:24 - loss: 0.3610 - acc: 0.85 - ETA: 11:22 - loss: 0.3611 - acc: 0.85 - ETA: 11:20 - loss: 0.3611 - acc: 0.85 - ETA: 11:18 - loss: 0.3609 - acc: 0.85 - ETA: 11:16 - loss: 0.3612 - acc: 0.85 - ETA: 11:14 - loss: 0.3611 - acc: 0.85 - ETA: 11:12 - loss: 0.3610 - acc: 0.85 - ETA: 11:10 - loss: 0.3610 - acc: 0.85 - ETA: 11:08 - loss: 0.3609 - acc: 0.85 - ETA: 11:06 - loss: 0.3609 - acc: 0.85 - ETA: 11:04 - loss: 0.3608 - acc: 0.85 - ETA: 11:02 - loss: 0.3609 - acc: 0.85 - ETA: 11:00 - loss: 0.3607 - acc: 0.85 - ETA: 10:58 - loss: 0.3608 - acc: 0.85 - ETA: 10:56 - loss: 0.3607 - acc: 0.85 - ETA: 10:54 - loss: 0.3607 - acc: 0.85 - ETA: 10:52 - loss: 0.3608 - acc: 0.85 - ETA: 10:50 - loss: 0.3606 - acc: 0.85 - ETA: 10:48 - loss: 0.3606 - acc: 0.85 - ETA: 10:46 - loss: 0.3609 - acc: 0.85 - ETA: 10:44 - loss: 0.3609 - acc: 0.85 - ETA: 10:42 - loss: 0.3610 - acc: 0.85 - ETA: 10:39 - loss: 0.3609 - acc: 0.85 - ETA: 1:06:46 - loss: 0.3609 - acc: 0.85 - ETA: 1:06:21 - loss: 0.3605 - acc: 0.85 - ETA: 1:05:55 - loss: 0.3605 - acc: 0.85 - ETA: 1:05:28 - loss: 0.3605 - acc: 0.85 - ETA: 1:05:02 - loss: 0.3606 - acc: 0.85 - ETA: 1:04:36 - loss: 0.3605 - acc: 0.85 - ETA: 1:04:10 - loss: 0.3603 - acc: 0.85 - ETA: 1:03:44 - loss: 0.3601 - acc: 0.85 - ETA: 1:03:18 - loss: 0.3602 - acc: 0.85 - ETA: 1:02:53 - loss: 0.3600 - acc: 0.85 - ETA: 1:02:27 - loss: 0.3604 - acc: 0.85 - ETA: 1:02:02 - loss: 0.3603 - acc: 0.85 - ETA: 1:01:37 - loss: 0.3601 - acc: 0.85 - ETA: 1:01:12 - loss: 0.3599 - acc: 0.85 - ETA: 1:00:48 - loss: 0.3598 - acc: 0.85 - ETA: 1:00:23 - loss: 0.3598 - acc: 0.85 - ETA: 59:59 - loss: 0.3597 - acc: 0.8579 - ETA: 59:35 - loss: 0.3597 - acc: 0.85 - ETA: 59:11 - loss: 0.3598 - acc: 0.85 - ETA: 58:47 - loss: 0.3597 - acc: 0.85 - ETA: 58:23 - loss: 0.3601 - acc: 0.85 - ETA: 58:00 - loss: 0.3601 - acc: 0.85 - ETA: 57:36 - loss: 0.3600 - acc: 0.85 - ETA: 57:13 - loss: 0.3600 - acc: 0.85 - ETA: 56:50 - loss: 0.3599 - acc: 0.85 - ETA: 56:27 - loss: 0.3600 - acc: 0.85 - ETA: 56:04 - loss: 0.3603 - acc: 0.85 - ETA: 55:42 - loss: 0.3601 - acc: 0.85 - ETA: 55:19 - loss: 0.3602 - acc: 0.85 - ETA: 54:57 - loss: 0.3601 - acc: 0.85 - ETA: 54:34 - loss: 0.3600 - acc: 0.85 - ETA: 54:12 - loss: 0.3601 - acc: 0.85 - ETA: 53:50 - loss: 0.3604 - acc: 0.85 - ETA: 53:28 - loss: 0.3603 - acc: 0.85 - ETA: 53:07 - loss: 0.3599 - acc: 0.85 - ETA: 52:45 - loss: 0.3599 - acc: 0.85 - ETA: 52:24 - loss: 0.3597 - acc: 0.85 - ETA: 52:02 - loss: 0.3596 - acc: 0.85 - ETA: 51:41 - loss: 0.3598 - acc: 0.85 - ETA: 51:20 - loss: 0.3596 - acc: 0.85 - ETA: 50:59 - loss: 0.3597 - acc: 0.85 - ETA: 50:38 - loss: 0.3598 - acc: 0.85 - ETA: 50:17 - loss: 0.3596 - acc: 0.85 - ETA: 49:57 - loss: 0.3598 - acc: 0.85 - ETA: 49:36 - loss: 0.3599 - acc: 0.85 - ETA: 49:16 - loss: 0.3597 - acc: 0.85 - ETA: 48:56 - loss: 0.3596 - acc: 0.85 - ETA: 48:36 - loss: 0.3598 - acc: 0.85 - ETA: 48:16 - loss: 0.3598 - acc: 0.85 - ETA: 47:56 - loss: 0.3599 - acc: 0.85 - ETA: 47:36 - loss: 0.3597 - acc: 0.85 - ETA: 47:17 - loss: 0.3596 - acc: 0.85 - ETA: 46:57 - loss: 0.3596 - acc: 0.85 - ETA: 46:38 - loss: 0.3596 - acc: 0.85 - ETA: 46:18 - loss: 0.3596 - acc: 0.85 - ETA: 45:59 - loss: 0.3596 - acc: 0.85 - ETA: 45:40 - loss: 0.3596 - acc: 0.85 - ETA: 45:21 - loss: 0.3595 - acc: 0.85 - ETA: 45:02 - loss: 0.3596 - acc: 0.85 - ETA: 44:44 - loss: 0.3595 - acc: 0.85 - ETA: 44:25 - loss: 0.3596 - acc: 0.85 - ETA: 44:06 - loss: 0.3595 - acc: 0.85 - ETA: 43:48 - loss: 0.3593 - acc: 0.85 - ETA: 43:30 - loss: 0.3592 - acc: 0.85 - ETA: 43:11 - loss: 0.3594 - acc: 0.85 - ETA: 42:53 - loss: 0.3594 - acc: 0.85 - ETA: 42:35 - loss: 0.3594 - acc: 0.85 - ETA: 42:17 - loss: 0.3592 - acc: 0.85 - ETA: 41:59 - loss: 0.3593 - acc: 0.85 - ETA: 41:42 - loss: 0.3592 - acc: 0.85 - ETA: 41:24 - loss: 0.3593 - acc: 0.85 - ETA: 41:07 - loss: 0.3594 - acc: 0.85 - ETA: 40:49 - loss: 0.3596 - acc: 0.85 - ETA: 40:32 - loss: 0.3597 - acc: 0.85 - ETA: 40:14 - loss: 0.3598 - acc: 0.85 - ETA: 39:57 - loss: 0.3597 - acc: 0.85 - ETA: 39:40 - loss: 0.3598 - acc: 0.85 - ETA: 39:23 - loss: 0.3598 - acc: 0.85 - ETA: 39:06 - loss: 0.3598 - acc: 0.85 - ETA: 38:50 - loss: 0.3598 - acc: 0.85 - ETA: 38:33 - loss: 0.3597 - acc: 0.85 - ETA: 38:16 - loss: 0.3596 - acc: 0.85 - ETA: 38:00 - loss: 0.3597 - acc: 0.85 - ETA: 37:43 - loss: 0.3596 - acc: 0.85 - ETA: 37:27 - loss: 0.3596 - acc: 0.85 - ETA: 37:11 - loss: 0.3595 - acc: 0.85 - ETA: 36:54 - loss: 0.3595 - acc: 0.85 - ETA: 36:38 - loss: 0.3596 - acc: 0.85 - ETA: 36:22 - loss: 0.3595 - acc: 0.85 - ETA: 36:06 - loss: 0.3595 - acc: 0.85 - ETA: 35:50 - loss: 0.3595 - acc: 0.85 - ETA: 35:35 - loss: 0.3594 - acc: 0.85 - ETA: 35:19 - loss: 0.3594 - acc: 0.85 - ETA: 35:03 - loss: 0.3594 - acc: 0.85 - ETA: 34:48 - loss: 0.3594 - acc: 0.85 - ETA: 34:32 - loss: 0.3594 - acc: 0.85 - ETA: 34:17 - loss: 0.3594 - acc: 0.85 - ETA: 34:02 - loss: 0.3593 - acc: 0.85 - ETA: 33:46 - loss: 0.3592 - acc: 0.85 - ETA: 33:31 - loss: 0.3592 - acc: 0.85 - ETA: 33:16 - loss: 0.3592 - acc: 0.85 - ETA: 33:01 - loss: 0.3591 - acc: 0.85 - ETA: 32:46 - loss: 0.3590 - acc: 0.85 - ETA: 32:31 - loss: 0.3588 - acc: 0.85 - ETA: 32:17 - loss: 0.3588 - acc: 0.85 - ETA: 32:02 - loss: 0.3587 - acc: 0.85 - ETA: 31:47 - loss: 0.3589 - acc: 0.85 - ETA: 31:33 - loss: 0.3589 - acc: 0.85 - ETA: 31:18 - loss: 0.3589 - acc: 0.85 - ETA: 31:04 - loss: 0.3588 - acc: 0.85 - ETA: 30:50 - loss: 0.3587 - acc: 0.85 - ETA: 30:35 - loss: 0.3587 - acc: 0.85 - ETA: 30:21 - loss: 0.3585 - acc: 0.85 - ETA: 30:07 - loss: 0.3587 - acc: 0.85 - ETA: 29:53 - loss: 0.3587 - acc: 0.85 - ETA: 29:39 - loss: 0.3588 - acc: 0.85 - ETA: 29:25 - loss: 0.3587 - acc: 0.85 - ETA: 29:11 - loss: 0.3587 - acc: 0.85 - ETA: 28:57 - loss: 0.3587 - acc: 0.85 - ETA: 28:43 - loss: 0.3587 - acc: 0.85 - ETA: 28:30 - loss: 0.3586 - acc: 0.85 - ETA: 28:16 - loss: 0.3588 - acc: 0.85 - ETA: 28:03 - loss: 0.3588 - acc: 0.85 - ETA: 27:49 - loss: 0.3589 - acc: 0.85 - ETA: 27:36 - loss: 0.3590 - acc: 0.85 - ETA: 27:22 - loss: 0.3589 - acc: 0.85 - ETA: 27:09 - loss: 0.3588 - acc: 0.85 - ETA: 26:56 - loss: 0.3589 - acc: 0.85 - ETA: 26:43 - loss: 0.3588 - acc: 0.85 - ETA: 26:29 - loss: 0.3589 - acc: 0.85 - ETA: 26:16 - loss: 0.3591 - acc: 0.85 - ETA: 26:03 - loss: 0.3590 - acc: 0.85 - ETA: 25:50 - loss: 0.3590 - acc: 0.85 - ETA: 25:37 - loss: 0.3588 - acc: 0.8576"
     ]
    },
    {
     "name": "stdout",
     "output_type": "stream",
     "text": [
      "145664/145664 [==============================] - ETA: 25:25 - loss: 0.3589 - acc: 0.85 - ETA: 25:12 - loss: 0.3590 - acc: 0.85 - ETA: 24:59 - loss: 0.3589 - acc: 0.85 - ETA: 24:46 - loss: 0.3589 - acc: 0.85 - ETA: 24:34 - loss: 0.3589 - acc: 0.85 - ETA: 24:21 - loss: 0.3589 - acc: 0.85 - ETA: 24:09 - loss: 0.3588 - acc: 0.85 - ETA: 23:56 - loss: 0.3588 - acc: 0.85 - ETA: 23:44 - loss: 0.3587 - acc: 0.85 - ETA: 23:32 - loss: 0.3587 - acc: 0.85 - ETA: 23:19 - loss: 0.3587 - acc: 0.85 - ETA: 23:07 - loss: 0.3586 - acc: 0.85 - ETA: 22:55 - loss: 0.3587 - acc: 0.85 - ETA: 22:43 - loss: 0.3586 - acc: 0.85 - ETA: 22:31 - loss: 0.3588 - acc: 0.85 - ETA: 22:19 - loss: 0.3588 - acc: 0.85 - ETA: 22:07 - loss: 0.3587 - acc: 0.85 - ETA: 21:55 - loss: 0.3588 - acc: 0.85 - ETA: 21:43 - loss: 0.3587 - acc: 0.85 - ETA: 21:31 - loss: 0.3587 - acc: 0.85 - ETA: 21:20 - loss: 0.3586 - acc: 0.85 - ETA: 21:08 - loss: 0.3586 - acc: 0.85 - ETA: 20:56 - loss: 0.3585 - acc: 0.85 - ETA: 20:45 - loss: 0.3584 - acc: 0.85 - ETA: 20:33 - loss: 0.3585 - acc: 0.85 - ETA: 20:21 - loss: 0.3584 - acc: 0.85 - ETA: 20:10 - loss: 0.3584 - acc: 0.85 - ETA: 19:59 - loss: 0.3585 - acc: 0.85 - ETA: 19:47 - loss: 0.3585 - acc: 0.85 - ETA: 19:36 - loss: 0.3585 - acc: 0.85 - ETA: 19:25 - loss: 0.3587 - acc: 0.85 - ETA: 19:13 - loss: 0.3586 - acc: 0.85 - ETA: 19:02 - loss: 0.3586 - acc: 0.85 - ETA: 18:51 - loss: 0.3586 - acc: 0.85 - ETA: 18:40 - loss: 0.3587 - acc: 0.85 - ETA: 18:29 - loss: 0.3586 - acc: 0.85 - ETA: 18:18 - loss: 0.3587 - acc: 0.85 - ETA: 18:07 - loss: 0.3586 - acc: 0.85 - ETA: 17:56 - loss: 0.3586 - acc: 0.85 - ETA: 17:45 - loss: 0.3584 - acc: 0.85 - ETA: 17:34 - loss: 0.3585 - acc: 0.85 - ETA: 17:24 - loss: 0.3585 - acc: 0.85 - ETA: 17:13 - loss: 0.3586 - acc: 0.85 - ETA: 17:02 - loss: 0.3586 - acc: 0.85 - ETA: 16:52 - loss: 0.3587 - acc: 0.85 - ETA: 16:41 - loss: 0.3589 - acc: 0.85 - ETA: 16:30 - loss: 0.3588 - acc: 0.85 - ETA: 16:20 - loss: 0.3588 - acc: 0.85 - ETA: 16:09 - loss: 0.3588 - acc: 0.85 - ETA: 15:59 - loss: 0.3588 - acc: 0.85 - ETA: 15:49 - loss: 0.3587 - acc: 0.85 - ETA: 15:38 - loss: 0.3586 - acc: 0.85 - ETA: 15:28 - loss: 0.3586 - acc: 0.85 - ETA: 15:18 - loss: 0.3587 - acc: 0.85 - ETA: 15:07 - loss: 0.3588 - acc: 0.85 - ETA: 14:57 - loss: 0.3588 - acc: 0.85 - ETA: 14:47 - loss: 0.3586 - acc: 0.85 - ETA: 14:37 - loss: 0.3587 - acc: 0.85 - ETA: 14:27 - loss: 0.3587 - acc: 0.85 - ETA: 14:17 - loss: 0.3586 - acc: 0.85 - ETA: 14:07 - loss: 0.3587 - acc: 0.85 - ETA: 13:57 - loss: 0.3588 - acc: 0.85 - ETA: 13:47 - loss: 0.3588 - acc: 0.85 - ETA: 13:37 - loss: 0.3588 - acc: 0.85 - ETA: 13:27 - loss: 0.3589 - acc: 0.85 - ETA: 13:17 - loss: 0.3587 - acc: 0.85 - ETA: 13:08 - loss: 0.3588 - acc: 0.85 - ETA: 12:58 - loss: 0.3587 - acc: 0.85 - ETA: 12:48 - loss: 0.3587 - acc: 0.85 - ETA: 12:39 - loss: 0.3587 - acc: 0.85 - ETA: 12:29 - loss: 0.3588 - acc: 0.85 - ETA: 12:19 - loss: 0.3590 - acc: 0.85 - ETA: 12:10 - loss: 0.3590 - acc: 0.85 - ETA: 12:00 - loss: 0.3590 - acc: 0.85 - ETA: 11:51 - loss: 0.3590 - acc: 0.85 - ETA: 11:41 - loss: 0.3590 - acc: 0.85 - ETA: 11:32 - loss: 0.3590 - acc: 0.85 - ETA: 11:23 - loss: 0.3589 - acc: 0.85 - ETA: 11:13 - loss: 0.3589 - acc: 0.85 - ETA: 11:04 - loss: 0.3587 - acc: 0.85 - ETA: 10:55 - loss: 0.3586 - acc: 0.85 - ETA: 10:45 - loss: 0.3586 - acc: 0.85 - ETA: 10:36 - loss: 0.3586 - acc: 0.85 - ETA: 10:27 - loss: 0.3586 - acc: 0.85 - ETA: 10:18 - loss: 0.3586 - acc: 0.85 - ETA: 10:09 - loss: 0.3586 - acc: 0.85 - ETA: 10:00 - loss: 0.3587 - acc: 0.85 - ETA: 9:51 - loss: 0.3588 - acc: 0.8575 - ETA: 9:42 - loss: 0.3587 - acc: 0.857 - ETA: 9:33 - loss: 0.3586 - acc: 0.857 - ETA: 9:24 - loss: 0.3587 - acc: 0.857 - ETA: 9:15 - loss: 0.3587 - acc: 0.857 - ETA: 9:06 - loss: 0.3588 - acc: 0.857 - ETA: 8:57 - loss: 0.3587 - acc: 0.857 - ETA: 8:48 - loss: 0.3587 - acc: 0.857 - ETA: 8:39 - loss: 0.3587 - acc: 0.857 - ETA: 8:31 - loss: 0.3587 - acc: 0.857 - ETA: 8:22 - loss: 0.3587 - acc: 0.857 - ETA: 8:13 - loss: 0.3588 - acc: 0.857 - ETA: 8:04 - loss: 0.3588 - acc: 0.857 - ETA: 7:56 - loss: 0.3589 - acc: 0.857 - ETA: 7:47 - loss: 0.3587 - acc: 0.857 - ETA: 7:39 - loss: 0.3588 - acc: 0.857 - ETA: 7:30 - loss: 0.3588 - acc: 0.857 - ETA: 7:22 - loss: 0.3587 - acc: 0.857 - ETA: 7:13 - loss: 0.3586 - acc: 0.857 - ETA: 7:05 - loss: 0.3585 - acc: 0.857 - ETA: 6:56 - loss: 0.3586 - acc: 0.857 - ETA: 6:48 - loss: 0.3585 - acc: 0.857 - ETA: 6:39 - loss: 0.3584 - acc: 0.857 - ETA: 6:31 - loss: 0.3584 - acc: 0.857 - ETA: 6:23 - loss: 0.3585 - acc: 0.857 - ETA: 6:14 - loss: 0.3584 - acc: 0.857 - ETA: 6:06 - loss: 0.3584 - acc: 0.857 - ETA: 5:58 - loss: 0.3584 - acc: 0.857 - ETA: 5:50 - loss: 0.3584 - acc: 0.857 - ETA: 5:42 - loss: 0.3584 - acc: 0.857 - ETA: 5:33 - loss: 0.3584 - acc: 0.857 - ETA: 5:25 - loss: 0.3584 - acc: 0.857 - ETA: 5:17 - loss: 0.3585 - acc: 0.857 - ETA: 5:09 - loss: 0.3585 - acc: 0.857 - ETA: 5:01 - loss: 0.3585 - acc: 0.857 - ETA: 4:53 - loss: 0.3585 - acc: 0.857 - ETA: 4:45 - loss: 0.3585 - acc: 0.857 - ETA: 4:37 - loss: 0.3585 - acc: 0.857 - ETA: 4:29 - loss: 0.3585 - acc: 0.857 - ETA: 4:21 - loss: 0.3585 - acc: 0.857 - ETA: 4:13 - loss: 0.3584 - acc: 0.857 - ETA: 4:05 - loss: 0.3583 - acc: 0.857 - ETA: 3:58 - loss: 0.3583 - acc: 0.857 - ETA: 3:50 - loss: 0.3583 - acc: 0.857 - ETA: 3:42 - loss: 0.3583 - acc: 0.857 - ETA: 3:34 - loss: 0.3584 - acc: 0.857 - ETA: 3:27 - loss: 0.3584 - acc: 0.857 - ETA: 3:19 - loss: 0.3585 - acc: 0.857 - ETA: 3:11 - loss: 0.3585 - acc: 0.857 - ETA: 3:03 - loss: 0.3585 - acc: 0.857 - ETA: 2:56 - loss: 0.3586 - acc: 0.857 - ETA: 2:48 - loss: 0.3586 - acc: 0.857 - ETA: 2:41 - loss: 0.3586 - acc: 0.857 - ETA: 2:33 - loss: 0.3586 - acc: 0.857 - ETA: 2:26 - loss: 0.3586 - acc: 0.857 - ETA: 2:18 - loss: 0.3585 - acc: 0.857 - ETA: 2:10 - loss: 0.3585 - acc: 0.857 - ETA: 2:03 - loss: 0.3585 - acc: 0.857 - ETA: 1:56 - loss: 0.3584 - acc: 0.857 - ETA: 1:48 - loss: 0.3584 - acc: 0.857 - ETA: 1:41 - loss: 0.3583 - acc: 0.857 - ETA: 1:33 - loss: 0.3583 - acc: 0.857 - ETA: 1:26 - loss: 0.3584 - acc: 0.857 - ETA: 1:19 - loss: 0.3584 - acc: 0.857 - ETA: 1:11 - loss: 0.3584 - acc: 0.857 - ETA: 1:04 - loss: 0.3585 - acc: 0.857 - ETA: 57s - loss: 0.3585 - acc: 0.857 - ETA: 50s - loss: 0.3585 - acc: 0.85 - ETA: 42s - loss: 0.3585 - acc: 0.85 - ETA: 35s - loss: 0.3586 - acc: 0.85 - ETA: 28s - loss: 0.3586 - acc: 0.85 - ETA: 21s - loss: 0.3587 - acc: 0.85 - ETA: 14s - loss: 0.3588 - acc: 0.85 - ETA: 7s - loss: 0.3588 - acc: 0.8574 - 4081s 28ms/step - loss: 0.3588 - acc: 0.8574 - val_loss: 0.3589 - val_acc: 0.8576\n",
      "Epoch 5/6\n"
     ]
    },
    {
     "name": "stdout",
     "output_type": "stream",
     "text": [
      " 52224/145664 [=========>....................] - ETA: 14:09 - loss: 0.3163 - acc: 0.86 - ETA: 11:57 - loss: 0.3317 - acc: 0.85 - ETA: 11:12 - loss: 0.3535 - acc: 0.84 - ETA: 10:49 - loss: 0.3562 - acc: 0.84 - ETA: 10:30 - loss: 0.3535 - acc: 0.84 - ETA: 10:14 - loss: 0.3580 - acc: 0.85 - ETA: 10:09 - loss: 0.3488 - acc: 0.85 - ETA: 10:06 - loss: 0.3487 - acc: 0.85 - ETA: 10:01 - loss: 0.3484 - acc: 0.85 - ETA: 9:58 - loss: 0.3537 - acc: 0.8562 - ETA: 9:51 - loss: 0.3496 - acc: 0.859 - ETA: 9:51 - loss: 0.3451 - acc: 0.862 - ETA: 9:48 - loss: 0.3441 - acc: 0.862 - ETA: 9:47 - loss: 0.3418 - acc: 0.863 - ETA: 9:45 - loss: 0.3447 - acc: 0.863 - ETA: 9:43 - loss: 0.3464 - acc: 0.862 - ETA: 9:39 - loss: 0.3487 - acc: 0.860 - ETA: 9:38 - loss: 0.3489 - acc: 0.859 - ETA: 9:35 - loss: 0.3526 - acc: 0.857 - ETA: 9:34 - loss: 0.3528 - acc: 0.858 - ETA: 9:33 - loss: 0.3518 - acc: 0.859 - ETA: 9:32 - loss: 0.3511 - acc: 0.860 - ETA: 9:28 - loss: 0.3523 - acc: 0.860 - ETA: 9:27 - loss: 0.3534 - acc: 0.860 - ETA: 9:25 - loss: 0.3556 - acc: 0.860 - ETA: 9:25 - loss: 0.3558 - acc: 0.861 - ETA: 9:24 - loss: 0.3572 - acc: 0.860 - ETA: 9:23 - loss: 0.3582 - acc: 0.858 - ETA: 9:20 - loss: 0.3583 - acc: 0.857 - ETA: 9:19 - loss: 0.3579 - acc: 0.858 - ETA: 9:18 - loss: 0.3568 - acc: 0.858 - ETA: 9:17 - loss: 0.3568 - acc: 0.858 - ETA: 9:16 - loss: 0.3571 - acc: 0.858 - ETA: 9:15 - loss: 0.3549 - acc: 0.858 - ETA: 9:14 - loss: 0.3555 - acc: 0.858 - ETA: 9:12 - loss: 0.3542 - acc: 0.858 - ETA: 9:11 - loss: 0.3543 - acc: 0.858 - ETA: 9:11 - loss: 0.3544 - acc: 0.858 - ETA: 9:10 - loss: 0.3551 - acc: 0.858 - ETA: 9:09 - loss: 0.3561 - acc: 0.857 - ETA: 9:08 - loss: 0.3561 - acc: 0.857 - ETA: 9:06 - loss: 0.3560 - acc: 0.857 - ETA: 9:05 - loss: 0.3562 - acc: 0.857 - ETA: 9:03 - loss: 0.3580 - acc: 0.856 - ETA: 9:02 - loss: 0.3575 - acc: 0.856 - ETA: 9:01 - loss: 0.3578 - acc: 0.856 - ETA: 9:00 - loss: 0.3568 - acc: 0.857 - ETA: 8:59 - loss: 0.3572 - acc: 0.857 - ETA: 8:58 - loss: 0.3568 - acc: 0.857 - ETA: 8:57 - loss: 0.3557 - acc: 0.857 - ETA: 8:56 - loss: 0.3550 - acc: 0.858 - ETA: 8:54 - loss: 0.3540 - acc: 0.858 - ETA: 8:53 - loss: 0.3543 - acc: 0.858 - ETA: 8:52 - loss: 0.3543 - acc: 0.858 - ETA: 8:50 - loss: 0.3546 - acc: 0.858 - ETA: 8:49 - loss: 0.3542 - acc: 0.858 - ETA: 8:48 - loss: 0.3539 - acc: 0.858 - ETA: 8:47 - loss: 0.3535 - acc: 0.858 - ETA: 8:46 - loss: 0.3532 - acc: 0.858 - ETA: 8:45 - loss: 0.3522 - acc: 0.858 - ETA: 8:44 - loss: 0.3523 - acc: 0.858 - ETA: 8:42 - loss: 0.3525 - acc: 0.858 - ETA: 8:41 - loss: 0.3518 - acc: 0.858 - ETA: 8:40 - loss: 0.3519 - acc: 0.858 - ETA: 8:39 - loss: 0.3515 - acc: 0.858 - ETA: 8:38 - loss: 0.3507 - acc: 0.858 - ETA: 8:37 - loss: 0.3506 - acc: 0.859 - ETA: 8:36 - loss: 0.3504 - acc: 0.859 - ETA: 8:35 - loss: 0.3502 - acc: 0.859 - ETA: 8:33 - loss: 0.3502 - acc: 0.859 - ETA: 8:33 - loss: 0.3503 - acc: 0.859 - ETA: 8:32 - loss: 0.3497 - acc: 0.860 - ETA: 8:31 - loss: 0.3490 - acc: 0.860 - ETA: 8:29 - loss: 0.3497 - acc: 0.860 - ETA: 8:28 - loss: 0.3506 - acc: 0.859 - ETA: 8:27 - loss: 0.3513 - acc: 0.859 - ETA: 8:26 - loss: 0.3517 - acc: 0.859 - ETA: 8:25 - loss: 0.3523 - acc: 0.859 - ETA: 8:24 - loss: 0.3522 - acc: 0.859 - ETA: 8:24 - loss: 0.3519 - acc: 0.859 - ETA: 8:22 - loss: 0.3518 - acc: 0.859 - ETA: 8:21 - loss: 0.3521 - acc: 0.859 - ETA: 8:20 - loss: 0.3522 - acc: 0.858 - ETA: 8:19 - loss: 0.3524 - acc: 0.858 - ETA: 8:18 - loss: 0.3524 - acc: 0.858 - ETA: 8:17 - loss: 0.3522 - acc: 0.858 - ETA: 8:16 - loss: 0.3515 - acc: 0.859 - ETA: 8:15 - loss: 0.3514 - acc: 0.859 - ETA: 8:14 - loss: 0.3517 - acc: 0.859 - ETA: 8:13 - loss: 0.3513 - acc: 0.859 - ETA: 8:11 - loss: 0.3508 - acc: 0.859 - ETA: 8:10 - loss: 0.3512 - acc: 0.859 - ETA: 8:09 - loss: 0.3516 - acc: 0.859 - ETA: 8:08 - loss: 0.3518 - acc: 0.859 - ETA: 8:07 - loss: 0.3515 - acc: 0.859 - ETA: 8:06 - loss: 0.3513 - acc: 0.859 - ETA: 8:05 - loss: 0.3514 - acc: 0.859 - ETA: 8:04 - loss: 0.3515 - acc: 0.859 - ETA: 8:03 - loss: 0.3520 - acc: 0.859 - ETA: 8:02 - loss: 0.3522 - acc: 0.859 - ETA: 8:01 - loss: 0.3520 - acc: 0.859 - ETA: 7:59 - loss: 0.3519 - acc: 0.859 - ETA: 7:58 - loss: 0.3520 - acc: 0.859 - ETA: 7:58 - loss: 0.3522 - acc: 0.858 - ETA: 7:57 - loss: 0.3519 - acc: 0.859 - ETA: 7:55 - loss: 0.3514 - acc: 0.859 - ETA: 7:54 - loss: 0.3505 - acc: 0.859 - ETA: 7:53 - loss: 0.3502 - acc: 0.860 - ETA: 7:52 - loss: 0.3505 - acc: 0.859 - ETA: 7:51 - loss: 0.3506 - acc: 0.859 - ETA: 7:50 - loss: 0.3503 - acc: 0.860 - ETA: 7:50 - loss: 0.3503 - acc: 0.859 - ETA: 7:49 - loss: 0.3508 - acc: 0.859 - ETA: 7:48 - loss: 0.3517 - acc: 0.859 - ETA: 7:46 - loss: 0.3522 - acc: 0.859 - ETA: 7:46 - loss: 0.3520 - acc: 0.859 - ETA: 7:45 - loss: 0.3522 - acc: 0.859 - ETA: 7:44 - loss: 0.3519 - acc: 0.859 - ETA: 7:43 - loss: 0.3515 - acc: 0.859 - ETA: 7:42 - loss: 0.3519 - acc: 0.859 - ETA: 7:40 - loss: 0.3516 - acc: 0.859 - ETA: 7:39 - loss: 0.3513 - acc: 0.860 - ETA: 7:38 - loss: 0.3514 - acc: 0.860 - ETA: 7:37 - loss: 0.3517 - acc: 0.859 - ETA: 7:36 - loss: 0.3514 - acc: 0.859 - ETA: 7:35 - loss: 0.3514 - acc: 0.859 - ETA: 7:34 - loss: 0.3516 - acc: 0.859 - ETA: 7:33 - loss: 0.3518 - acc: 0.859 - ETA: 7:32 - loss: 0.3518 - acc: 0.859 - ETA: 7:31 - loss: 0.3523 - acc: 0.859 - ETA: 7:30 - loss: 0.3530 - acc: 0.858 - ETA: 7:29 - loss: 0.3529 - acc: 0.858 - ETA: 7:27 - loss: 0.3528 - acc: 0.858 - ETA: 7:27 - loss: 0.3526 - acc: 0.858 - ETA: 7:26 - loss: 0.3522 - acc: 0.859 - ETA: 7:25 - loss: 0.3520 - acc: 0.859 - ETA: 7:24 - loss: 0.3523 - acc: 0.858 - ETA: 7:23 - loss: 0.3517 - acc: 0.859 - ETA: 7:21 - loss: 0.3514 - acc: 0.859 - ETA: 7:21 - loss: 0.3515 - acc: 0.859 - ETA: 7:19 - loss: 0.3512 - acc: 0.859 - ETA: 7:18 - loss: 0.3513 - acc: 0.859 - ETA: 7:17 - loss: 0.3509 - acc: 0.859 - ETA: 7:16 - loss: 0.3515 - acc: 0.859 - ETA: 7:15 - loss: 0.3516 - acc: 0.859 - ETA: 7:14 - loss: 0.3514 - acc: 0.859 - ETA: 7:13 - loss: 0.3512 - acc: 0.859 - ETA: 7:12 - loss: 0.3512 - acc: 0.859 - ETA: 7:11 - loss: 0.3516 - acc: 0.859 - ETA: 7:10 - loss: 0.3517 - acc: 0.859 - ETA: 7:09 - loss: 0.3514 - acc: 0.859 - ETA: 7:08 - loss: 0.3519 - acc: 0.859 - ETA: 7:07 - loss: 0.3527 - acc: 0.858 - ETA: 7:06 - loss: 0.3529 - acc: 0.858 - ETA: 7:05 - loss: 0.3533 - acc: 0.858 - ETA: 7:04 - loss: 0.3532 - acc: 0.858 - ETA: 7:03 - loss: 0.3532 - acc: 0.858 - ETA: 7:02 - loss: 0.3534 - acc: 0.858 - ETA: 7:00 - loss: 0.3534 - acc: 0.858 - ETA: 6:59 - loss: 0.3532 - acc: 0.858 - ETA: 6:58 - loss: 0.3535 - acc: 0.857 - ETA: 6:57 - loss: 0.3536 - acc: 0.857 - ETA: 6:56 - loss: 0.3540 - acc: 0.857 - ETA: 6:55 - loss: 0.3540 - acc: 0.857 - ETA: 6:54 - loss: 0.3537 - acc: 0.858 - ETA: 6:53 - loss: 0.3535 - acc: 0.858 - ETA: 6:52 - loss: 0.3541 - acc: 0.858 - ETA: 6:51 - loss: 0.3537 - acc: 0.858 - ETA: 6:50 - loss: 0.3538 - acc: 0.858 - ETA: 6:49 - loss: 0.3536 - acc: 0.858 - ETA: 6:48 - loss: 0.3538 - acc: 0.858 - ETA: 6:47 - loss: 0.3539 - acc: 0.858 - ETA: 6:46 - loss: 0.3537 - acc: 0.858 - ETA: 6:45 - loss: 0.3538 - acc: 0.858 - ETA: 6:44 - loss: 0.3540 - acc: 0.858 - ETA: 6:43 - loss: 0.3541 - acc: 0.858 - ETA: 6:41 - loss: 0.3543 - acc: 0.858 - ETA: 6:41 - loss: 0.3542 - acc: 0.858 - ETA: 6:39 - loss: 0.3539 - acc: 0.858 - ETA: 6:38 - loss: 0.3538 - acc: 0.858 - ETA: 6:37 - loss: 0.3536 - acc: 0.858 - ETA: 6:36 - loss: 0.3533 - acc: 0.858 - ETA: 6:35 - loss: 0.3530 - acc: 0.858 - ETA: 6:34 - loss: 0.3528 - acc: 0.858 - ETA: 6:33 - loss: 0.3529 - acc: 0.858 - ETA: 6:32 - loss: 0.3532 - acc: 0.858 - ETA: 6:31 - loss: 0.3531 - acc: 0.859 - ETA: 6:30 - loss: 0.3535 - acc: 0.858 - ETA: 6:29 - loss: 0.3533 - acc: 0.858 - ETA: 6:28 - loss: 0.3536 - acc: 0.858 - ETA: 6:27 - loss: 0.3533 - acc: 0.858 - ETA: 6:26 - loss: 0.3535 - acc: 0.858 - ETA: 6:25 - loss: 0.3533 - acc: 0.858 - ETA: 6:24 - loss: 0.3530 - acc: 0.859 - ETA: 6:23 - loss: 0.3531 - acc: 0.859 - ETA: 6:22 - loss: 0.3530 - acc: 0.859 - ETA: 6:20 - loss: 0.3530 - acc: 0.859 - ETA: 6:19 - loss: 0.3531 - acc: 0.859 - ETA: 6:18 - loss: 0.3534 - acc: 0.858 - ETA: 6:17 - loss: 0.3535 - acc: 0.858 - ETA: 6:16 - loss: 0.3534 - acc: 0.858 - ETA: 6:15 - loss: 0.3532 - acc: 0.859 - ETA: 6:14 - loss: 0.3532 - acc: 0.859 - ETA: 6:13 - loss: 0.3530 - acc: 0.8592104448/145664 [====================>.........] - ETA: 6:12 - loss: 0.3526 - acc: 0.859 - ETA: 6:11 - loss: 0.3528 - acc: 0.859 - ETA: 6:10 - loss: 0.3534 - acc: 0.859 - ETA: 6:09 - loss: 0.3535 - acc: 0.859 - ETA: 6:08 - loss: 0.3534 - acc: 0.859 - ETA: 6:07 - loss: 0.3532 - acc: 0.859 - ETA: 6:06 - loss: 0.3533 - acc: 0.859 - ETA: 6:05 - loss: 0.3534 - acc: 0.859 - ETA: 6:04 - loss: 0.3535 - acc: 0.859 - ETA: 6:03 - loss: 0.3535 - acc: 0.859 - ETA: 6:02 - loss: 0.3534 - acc: 0.859 - ETA: 6:01 - loss: 0.3534 - acc: 0.859 - ETA: 6:00 - loss: 0.3533 - acc: 0.859 - ETA: 5:59 - loss: 0.3534 - acc: 0.859 - ETA: 5:58 - loss: 0.3533 - acc: 0.859 - ETA: 5:57 - loss: 0.3533 - acc: 0.859 - ETA: 5:56 - loss: 0.3530 - acc: 0.859 - ETA: 5:55 - loss: 0.3534 - acc: 0.859 - ETA: 5:54 - loss: 0.3534 - acc: 0.859 - ETA: 5:53 - loss: 0.3538 - acc: 0.859 - ETA: 5:52 - loss: 0.3539 - acc: 0.859 - ETA: 5:51 - loss: 0.3540 - acc: 0.859 - ETA: 5:50 - loss: 0.3537 - acc: 0.859 - ETA: 5:49 - loss: 0.3536 - acc: 0.859 - ETA: 5:48 - loss: 0.3536 - acc: 0.859 - ETA: 5:47 - loss: 0.3534 - acc: 0.859 - ETA: 5:46 - loss: 0.3535 - acc: 0.859 - ETA: 5:45 - loss: 0.3533 - acc: 0.859 - ETA: 5:44 - loss: 0.3533 - acc: 0.859 - ETA: 5:43 - loss: 0.3533 - acc: 0.859 - ETA: 5:42 - loss: 0.3533 - acc: 0.859 - ETA: 5:41 - loss: 0.3532 - acc: 0.859 - ETA: 5:40 - loss: 0.3530 - acc: 0.859 - ETA: 5:38 - loss: 0.3530 - acc: 0.859 - ETA: 5:37 - loss: 0.3530 - acc: 0.859 - ETA: 5:36 - loss: 0.3531 - acc: 0.859 - ETA: 5:35 - loss: 0.3530 - acc: 0.859 - ETA: 5:35 - loss: 0.3531 - acc: 0.859 - ETA: 5:33 - loss: 0.3531 - acc: 0.859 - ETA: 5:32 - loss: 0.3531 - acc: 0.859 - ETA: 5:31 - loss: 0.3531 - acc: 0.859 - ETA: 5:30 - loss: 0.3532 - acc: 0.859 - ETA: 5:29 - loss: 0.3533 - acc: 0.859 - ETA: 5:28 - loss: 0.3531 - acc: 0.859 - ETA: 5:27 - loss: 0.3532 - acc: 0.859 - ETA: 5:26 - loss: 0.3529 - acc: 0.859 - ETA: 5:25 - loss: 0.3531 - acc: 0.859 - ETA: 5:24 - loss: 0.3531 - acc: 0.859 - ETA: 5:23 - loss: 0.3533 - acc: 0.859 - ETA: 5:22 - loss: 0.3533 - acc: 0.859 - ETA: 5:21 - loss: 0.3530 - acc: 0.859 - ETA: 5:20 - loss: 0.3528 - acc: 0.859 - ETA: 5:19 - loss: 0.3524 - acc: 0.859 - ETA: 5:18 - loss: 0.3524 - acc: 0.860 - ETA: 5:17 - loss: 0.3523 - acc: 0.859 - ETA: 5:16 - loss: 0.3522 - acc: 0.860 - ETA: 5:15 - loss: 0.3524 - acc: 0.859 - ETA: 5:14 - loss: 0.3523 - acc: 0.860 - ETA: 5:13 - loss: 0.3523 - acc: 0.860 - ETA: 5:12 - loss: 0.3523 - acc: 0.860 - ETA: 5:11 - loss: 0.3524 - acc: 0.860 - ETA: 5:10 - loss: 0.3524 - acc: 0.860 - ETA: 5:09 - loss: 0.3524 - acc: 0.860 - ETA: 5:08 - loss: 0.3524 - acc: 0.860 - ETA: 5:07 - loss: 0.3525 - acc: 0.859 - ETA: 5:06 - loss: 0.3524 - acc: 0.860 - ETA: 5:05 - loss: 0.3525 - acc: 0.859 - ETA: 5:04 - loss: 0.3524 - acc: 0.859 - ETA: 5:03 - loss: 0.3524 - acc: 0.859 - ETA: 5:02 - loss: 0.3526 - acc: 0.859 - ETA: 5:01 - loss: 0.3526 - acc: 0.859 - ETA: 5:00 - loss: 0.3525 - acc: 0.859 - ETA: 4:59 - loss: 0.3526 - acc: 0.859 - ETA: 4:58 - loss: 0.3524 - acc: 0.859 - ETA: 4:57 - loss: 0.3527 - acc: 0.859 - ETA: 4:56 - loss: 0.3529 - acc: 0.859 - ETA: 4:55 - loss: 0.3528 - acc: 0.859 - ETA: 4:53 - loss: 0.3531 - acc: 0.859 - ETA: 4:52 - loss: 0.3531 - acc: 0.859 - ETA: 4:51 - loss: 0.3530 - acc: 0.859 - ETA: 4:50 - loss: 0.3529 - acc: 0.859 - ETA: 4:49 - loss: 0.3529 - acc: 0.859 - ETA: 4:48 - loss: 0.3530 - acc: 0.859 - ETA: 4:47 - loss: 0.3531 - acc: 0.859 - ETA: 4:46 - loss: 0.3532 - acc: 0.859 - ETA: 4:45 - loss: 0.3533 - acc: 0.859 - ETA: 4:44 - loss: 0.3532 - acc: 0.859 - ETA: 4:43 - loss: 0.3533 - acc: 0.859 - ETA: 4:42 - loss: 0.3532 - acc: 0.859 - ETA: 4:41 - loss: 0.3530 - acc: 0.859 - ETA: 4:40 - loss: 0.3532 - acc: 0.859 - ETA: 4:39 - loss: 0.3532 - acc: 0.859 - ETA: 4:38 - loss: 0.3529 - acc: 0.859 - ETA: 4:37 - loss: 0.3530 - acc: 0.859 - ETA: 4:36 - loss: 0.3531 - acc: 0.859 - ETA: 4:35 - loss: 0.3531 - acc: 0.859 - ETA: 4:34 - loss: 0.3533 - acc: 0.859 - ETA: 4:33 - loss: 0.3533 - acc: 0.859 - ETA: 4:32 - loss: 0.3532 - acc: 0.859 - ETA: 4:31 - loss: 0.3531 - acc: 0.859 - ETA: 4:30 - loss: 0.3529 - acc: 0.859 - ETA: 4:29 - loss: 0.3529 - acc: 0.859 - ETA: 4:28 - loss: 0.3529 - acc: 0.859 - ETA: 4:27 - loss: 0.3529 - acc: 0.859 - ETA: 4:26 - loss: 0.3528 - acc: 0.859 - ETA: 4:25 - loss: 0.3528 - acc: 0.859 - ETA: 4:24 - loss: 0.3528 - acc: 0.859 - ETA: 4:23 - loss: 0.3528 - acc: 0.859 - ETA: 4:22 - loss: 0.3528 - acc: 0.859 - ETA: 4:21 - loss: 0.3528 - acc: 0.859 - ETA: 4:20 - loss: 0.3529 - acc: 0.859 - ETA: 4:19 - loss: 0.3527 - acc: 0.859 - ETA: 4:18 - loss: 0.3530 - acc: 0.859 - ETA: 4:17 - loss: 0.3530 - acc: 0.859 - ETA: 4:15 - loss: 0.3529 - acc: 0.859 - ETA: 4:15 - loss: 0.3526 - acc: 0.859 - ETA: 4:13 - loss: 0.3527 - acc: 0.859 - ETA: 4:12 - loss: 0.3527 - acc: 0.859 - ETA: 4:11 - loss: 0.3525 - acc: 0.859 - ETA: 4:10 - loss: 0.3526 - acc: 0.859 - ETA: 4:09 - loss: 0.3526 - acc: 0.859 - ETA: 4:08 - loss: 0.3526 - acc: 0.859 - ETA: 4:07 - loss: 0.3525 - acc: 0.859 - ETA: 4:06 - loss: 0.3524 - acc: 0.859 - ETA: 4:05 - loss: 0.3524 - acc: 0.859 - ETA: 4:04 - loss: 0.3527 - acc: 0.859 - ETA: 4:03 - loss: 0.3527 - acc: 0.859 - ETA: 4:02 - loss: 0.3527 - acc: 0.859 - ETA: 4:01 - loss: 0.3528 - acc: 0.859 - ETA: 4:00 - loss: 0.3529 - acc: 0.859 - ETA: 3:59 - loss: 0.3530 - acc: 0.859 - ETA: 3:58 - loss: 0.3531 - acc: 0.859 - ETA: 3:57 - loss: 0.3530 - acc: 0.859 - ETA: 3:56 - loss: 0.3530 - acc: 0.859 - ETA: 3:55 - loss: 0.3533 - acc: 0.859 - ETA: 3:54 - loss: 0.3532 - acc: 0.859 - ETA: 3:53 - loss: 0.3532 - acc: 0.859 - ETA: 3:52 - loss: 0.3533 - acc: 0.859 - ETA: 3:51 - loss: 0.3532 - acc: 0.859 - ETA: 3:50 - loss: 0.3531 - acc: 0.859 - ETA: 3:49 - loss: 0.3531 - acc: 0.859 - ETA: 3:48 - loss: 0.3532 - acc: 0.859 - ETA: 3:47 - loss: 0.3532 - acc: 0.859 - ETA: 3:46 - loss: 0.3531 - acc: 0.859 - ETA: 3:45 - loss: 0.3530 - acc: 0.859 - ETA: 3:44 - loss: 0.3528 - acc: 0.859 - ETA: 3:43 - loss: 0.3530 - acc: 0.859 - ETA: 3:42 - loss: 0.3529 - acc: 0.859 - ETA: 3:41 - loss: 0.3531 - acc: 0.859 - ETA: 3:40 - loss: 0.3535 - acc: 0.859 - ETA: 3:39 - loss: 0.3535 - acc: 0.859 - ETA: 3:38 - loss: 0.3534 - acc: 0.859 - ETA: 3:37 - loss: 0.3534 - acc: 0.859 - ETA: 3:36 - loss: 0.3534 - acc: 0.859 - ETA: 3:35 - loss: 0.3534 - acc: 0.859 - ETA: 3:34 - loss: 0.3533 - acc: 0.859 - ETA: 3:32 - loss: 0.3533 - acc: 0.859 - ETA: 3:31 - loss: 0.3533 - acc: 0.859 - ETA: 3:30 - loss: 0.3533 - acc: 0.859 - ETA: 3:29 - loss: 0.3532 - acc: 0.859 - ETA: 3:28 - loss: 0.3532 - acc: 0.859 - ETA: 3:27 - loss: 0.3531 - acc: 0.859 - ETA: 3:26 - loss: 0.3530 - acc: 0.859 - ETA: 3:25 - loss: 0.3529 - acc: 0.859 - ETA: 3:24 - loss: 0.3528 - acc: 0.859 - ETA: 3:23 - loss: 0.3529 - acc: 0.859 - ETA: 3:22 - loss: 0.3529 - acc: 0.859 - ETA: 3:21 - loss: 0.3529 - acc: 0.859 - ETA: 3:20 - loss: 0.3531 - acc: 0.859 - ETA: 3:19 - loss: 0.3530 - acc: 0.859 - ETA: 3:18 - loss: 0.3529 - acc: 0.859 - ETA: 3:17 - loss: 0.3530 - acc: 0.859 - ETA: 3:16 - loss: 0.3528 - acc: 0.859 - ETA: 3:15 - loss: 0.3528 - acc: 0.859 - ETA: 3:14 - loss: 0.3528 - acc: 0.859 - ETA: 3:13 - loss: 0.3529 - acc: 0.859 - ETA: 3:12 - loss: 0.3529 - acc: 0.859 - ETA: 3:11 - loss: 0.3532 - acc: 0.859 - ETA: 3:10 - loss: 0.3531 - acc: 0.859 - ETA: 3:09 - loss: 0.3533 - acc: 0.859 - ETA: 3:08 - loss: 0.3533 - acc: 0.859 - ETA: 3:07 - loss: 0.3532 - acc: 0.859 - ETA: 3:06 - loss: 0.3533 - acc: 0.859 - ETA: 3:05 - loss: 0.3534 - acc: 0.859 - ETA: 3:04 - loss: 0.3533 - acc: 0.859 - ETA: 3:03 - loss: 0.3532 - acc: 0.859 - ETA: 3:02 - loss: 0.3533 - acc: 0.859 - ETA: 3:01 - loss: 0.3534 - acc: 0.859 - ETA: 3:00 - loss: 0.3536 - acc: 0.859 - ETA: 2:59 - loss: 0.3535 - acc: 0.859 - ETA: 2:58 - loss: 0.3536 - acc: 0.859 - ETA: 2:57 - loss: 0.3536 - acc: 0.859 - ETA: 2:56 - loss: 0.3539 - acc: 0.858 - ETA: 2:55 - loss: 0.3539 - acc: 0.858 - ETA: 2:54 - loss: 0.3537 - acc: 0.859 - ETA: 2:53 - loss: 0.3539 - acc: 0.858 - ETA: 2:51 - loss: 0.3539 - acc: 0.858 - ETA: 2:50 - loss: 0.3539 - acc: 0.858 - ETA: 2:49 - loss: 0.3537 - acc: 0.859 - ETA: 2:48 - loss: 0.3536 - acc: 0.859 - ETA: 2:47 - loss: 0.3536 - acc: 0.859 - ETA: 2:46 - loss: 0.3535 - acc: 0.859 - ETA: 2:45 - loss: 0.3537 - acc: 0.858 - ETA: 2:44 - loss: 0.3539 - acc: 0.8588145664/145664 [==============================] - ETA: 2:43 - loss: 0.3543 - acc: 0.858 - ETA: 2:42 - loss: 0.3542 - acc: 0.858 - ETA: 2:41 - loss: 0.3542 - acc: 0.858 - ETA: 2:40 - loss: 0.3541 - acc: 0.858 - ETA: 2:39 - loss: 0.3541 - acc: 0.858 - ETA: 2:38 - loss: 0.3541 - acc: 0.858 - ETA: 2:37 - loss: 0.3540 - acc: 0.858 - ETA: 2:36 - loss: 0.3540 - acc: 0.858 - ETA: 2:35 - loss: 0.3538 - acc: 0.859 - ETA: 2:34 - loss: 0.3537 - acc: 0.859 - ETA: 2:33 - loss: 0.3536 - acc: 0.859 - ETA: 2:32 - loss: 0.3536 - acc: 0.859 - ETA: 2:31 - loss: 0.3534 - acc: 0.859 - ETA: 2:30 - loss: 0.3534 - acc: 0.859 - ETA: 2:29 - loss: 0.3532 - acc: 0.859 - ETA: 2:28 - loss: 0.3533 - acc: 0.859 - ETA: 2:27 - loss: 0.3532 - acc: 0.859 - ETA: 2:26 - loss: 0.3533 - acc: 0.859 - ETA: 2:25 - loss: 0.3533 - acc: 0.859 - ETA: 2:24 - loss: 0.3533 - acc: 0.859 - ETA: 2:23 - loss: 0.3533 - acc: 0.859 - ETA: 2:22 - loss: 0.3533 - acc: 0.859 - ETA: 2:21 - loss: 0.3533 - acc: 0.859 - ETA: 2:20 - loss: 0.3534 - acc: 0.859 - ETA: 2:19 - loss: 0.3534 - acc: 0.859 - ETA: 2:18 - loss: 0.3534 - acc: 0.859 - ETA: 2:17 - loss: 0.3535 - acc: 0.859 - ETA: 2:16 - loss: 0.3536 - acc: 0.859 - ETA: 2:15 - loss: 0.3536 - acc: 0.859 - ETA: 2:14 - loss: 0.3536 - acc: 0.859 - ETA: 2:13 - loss: 0.3535 - acc: 0.859 - ETA: 2:12 - loss: 0.3534 - acc: 0.859 - ETA: 2:10 - loss: 0.3534 - acc: 0.859 - ETA: 2:09 - loss: 0.3533 - acc: 0.859 - ETA: 2:08 - loss: 0.3534 - acc: 0.859 - ETA: 2:07 - loss: 0.3535 - acc: 0.859 - ETA: 2:06 - loss: 0.3534 - acc: 0.859 - ETA: 2:05 - loss: 0.3535 - acc: 0.859 - ETA: 2:04 - loss: 0.3534 - acc: 0.859 - ETA: 2:03 - loss: 0.3536 - acc: 0.859 - ETA: 2:02 - loss: 0.3538 - acc: 0.859 - ETA: 2:01 - loss: 0.3537 - acc: 0.859 - ETA: 2:00 - loss: 0.3538 - acc: 0.859 - ETA: 1:59 - loss: 0.3537 - acc: 0.859 - ETA: 1:58 - loss: 0.3539 - acc: 0.858 - ETA: 1:57 - loss: 0.3540 - acc: 0.858 - ETA: 1:56 - loss: 0.3540 - acc: 0.858 - ETA: 1:55 - loss: 0.3541 - acc: 0.858 - ETA: 1:54 - loss: 0.3540 - acc: 0.858 - ETA: 1:53 - loss: 0.3540 - acc: 0.858 - ETA: 1:52 - loss: 0.3539 - acc: 0.858 - ETA: 1:51 - loss: 0.3539 - acc: 0.858 - ETA: 1:50 - loss: 0.3538 - acc: 0.858 - ETA: 1:49 - loss: 0.3537 - acc: 0.859 - ETA: 1:48 - loss: 0.3537 - acc: 0.859 - ETA: 1:47 - loss: 0.3538 - acc: 0.859 - ETA: 1:46 - loss: 0.3538 - acc: 0.859 - ETA: 1:45 - loss: 0.3538 - acc: 0.859 - ETA: 1:44 - loss: 0.3537 - acc: 0.859 - ETA: 1:43 - loss: 0.3538 - acc: 0.858 - ETA: 1:42 - loss: 0.3539 - acc: 0.858 - ETA: 1:41 - loss: 0.3538 - acc: 0.858 - ETA: 1:40 - loss: 0.3539 - acc: 0.858 - ETA: 1:39 - loss: 0.3539 - acc: 0.858 - ETA: 1:38 - loss: 0.3539 - acc: 0.858 - ETA: 1:37 - loss: 0.3541 - acc: 0.858 - ETA: 1:36 - loss: 0.3541 - acc: 0.858 - ETA: 1:35 - loss: 0.3543 - acc: 0.858 - ETA: 1:34 - loss: 0.3542 - acc: 0.858 - ETA: 1:33 - loss: 0.3540 - acc: 0.858 - ETA: 1:32 - loss: 0.3542 - acc: 0.858 - ETA: 1:31 - loss: 0.3543 - acc: 0.858 - ETA: 1:30 - loss: 0.3543 - acc: 0.858 - ETA: 1:28 - loss: 0.3543 - acc: 0.858 - ETA: 1:27 - loss: 0.3545 - acc: 0.858 - ETA: 1:26 - loss: 0.3545 - acc: 0.858 - ETA: 1:25 - loss: 0.3545 - acc: 0.858 - ETA: 1:24 - loss: 0.3544 - acc: 0.858 - ETA: 1:23 - loss: 0.3544 - acc: 0.858 - ETA: 1:22 - loss: 0.3544 - acc: 0.858 - ETA: 1:21 - loss: 0.3544 - acc: 0.858 - ETA: 1:20 - loss: 0.3544 - acc: 0.858 - ETA: 1:19 - loss: 0.3545 - acc: 0.858 - ETA: 1:18 - loss: 0.3545 - acc: 0.858 - ETA: 1:17 - loss: 0.3546 - acc: 0.858 - ETA: 1:16 - loss: 0.3546 - acc: 0.858 - ETA: 1:15 - loss: 0.3545 - acc: 0.858 - ETA: 1:14 - loss: 0.3545 - acc: 0.858 - ETA: 1:13 - loss: 0.3545 - acc: 0.858 - ETA: 1:12 - loss: 0.3544 - acc: 0.858 - ETA: 1:11 - loss: 0.3544 - acc: 0.858 - ETA: 1:10 - loss: 0.3544 - acc: 0.858 - ETA: 1:09 - loss: 0.3544 - acc: 0.858 - ETA: 1:08 - loss: 0.3544 - acc: 0.858 - ETA: 1:07 - loss: 0.3545 - acc: 0.858 - ETA: 1:06 - loss: 0.3545 - acc: 0.858 - ETA: 1:05 - loss: 0.3545 - acc: 0.858 - ETA: 1:04 - loss: 0.3545 - acc: 0.858 - ETA: 1:03 - loss: 0.3544 - acc: 0.858 - ETA: 1:02 - loss: 0.3544 - acc: 0.858 - ETA: 1:01 - loss: 0.3545 - acc: 0.858 - ETA: 1:00 - loss: 0.3546 - acc: 0.858 - ETA: 59s - loss: 0.3545 - acc: 0.858 - ETA: 58s - loss: 0.3544 - acc: 0.85 - ETA: 57s - loss: 0.3546 - acc: 0.85 - ETA: 56s - loss: 0.3547 - acc: 0.85 - ETA: 55s - loss: 0.3545 - acc: 0.85 - ETA: 54s - loss: 0.3546 - acc: 0.85 - ETA: 53s - loss: 0.3546 - acc: 0.85 - ETA: 52s - loss: 0.3546 - acc: 0.85 - ETA: 51s - loss: 0.3547 - acc: 0.85 - ETA: 50s - loss: 0.3546 - acc: 0.85 - ETA: 49s - loss: 0.3545 - acc: 0.85 - ETA: 48s - loss: 0.3545 - acc: 0.85 - ETA: 47s - loss: 0.3545 - acc: 0.85 - ETA: 46s - loss: 0.3545 - acc: 0.85 - ETA: 45s - loss: 0.3544 - acc: 0.85 - ETA: 43s - loss: 0.3544 - acc: 0.85 - ETA: 42s - loss: 0.3544 - acc: 0.85 - ETA: 41s - loss: 0.3544 - acc: 0.85 - ETA: 40s - loss: 0.3544 - acc: 0.85 - ETA: 39s - loss: 0.3546 - acc: 0.85 - ETA: 38s - loss: 0.3544 - acc: 0.85 - ETA: 37s - loss: 0.3545 - acc: 0.85 - ETA: 36s - loss: 0.3545 - acc: 0.85 - ETA: 35s - loss: 0.3545 - acc: 0.85 - ETA: 34s - loss: 0.3546 - acc: 0.85 - ETA: 33s - loss: 0.3546 - acc: 0.85 - ETA: 32s - loss: 0.3546 - acc: 0.85 - ETA: 31s - loss: 0.3546 - acc: 0.85 - ETA: 30s - loss: 0.3545 - acc: 0.85 - ETA: 29s - loss: 0.3546 - acc: 0.85 - ETA: 28s - loss: 0.3546 - acc: 0.85 - ETA: 27s - loss: 0.3546 - acc: 0.85 - ETA: 26s - loss: 0.3546 - acc: 0.85 - ETA: 25s - loss: 0.3546 - acc: 0.85 - ETA: 24s - loss: 0.3546 - acc: 0.85 - ETA: 23s - loss: 0.3547 - acc: 0.85 - ETA: 22s - loss: 0.3548 - acc: 0.85 - ETA: 21s - loss: 0.3547 - acc: 0.85 - ETA: 20s - loss: 0.3548 - acc: 0.85 - ETA: 19s - loss: 0.3548 - acc: 0.85 - ETA: 18s - loss: 0.3549 - acc: 0.85 - ETA: 17s - loss: 0.3550 - acc: 0.85 - ETA: 16s - loss: 0.3550 - acc: 0.85 - ETA: 15s - loss: 0.3549 - acc: 0.85 - ETA: 14s - loss: 0.3549 - acc: 0.85 - ETA: 13s - loss: 0.3548 - acc: 0.85 - ETA: 12s - loss: 0.3549 - acc: 0.85 - ETA: 11s - loss: 0.3549 - acc: 0.85 - ETA: 10s - loss: 0.3548 - acc: 0.85 - ETA: 9s - loss: 0.3549 - acc: 0.8578 - ETA: 8s - loss: 0.3549 - acc: 0.857 - ETA: 7s - loss: 0.3550 - acc: 0.857 - ETA: 6s - loss: 0.3549 - acc: 0.857 - ETA: 5s - loss: 0.3549 - acc: 0.857 - ETA: 4s - loss: 0.3549 - acc: 0.857 - ETA: 3s - loss: 0.3550 - acc: 0.857 - ETA: 2s - loss: 0.3549 - acc: 0.857 - ETA: 1s - loss: 0.3550 - acc: 0.857 - 635s 4ms/step - loss: 0.3550 - acc: 0.8577 - val_loss: 0.3582 - val_acc: 0.8574\n",
      "Epoch 6/6\n"
     ]
    },
    {
     "name": "stdout",
     "output_type": "stream",
     "text": [
      " 52224/145664 [=========>....................] - ETA: 9:51 - loss: 0.3802 - acc: 0.832 - ETA: 9:43 - loss: 0.3571 - acc: 0.857 - ETA: 9:31 - loss: 0.3618 - acc: 0.856 - ETA: 9:33 - loss: 0.3660 - acc: 0.854 - ETA: 9:28 - loss: 0.3519 - acc: 0.859 - ETA: 9:29 - loss: 0.3497 - acc: 0.859 - ETA: 9:26 - loss: 0.3484 - acc: 0.861 - ETA: 9:26 - loss: 0.3539 - acc: 0.856 - ETA: 9:25 - loss: 0.3476 - acc: 0.859 - ETA: 9:27 - loss: 0.3552 - acc: 0.857 - ETA: 9:28 - loss: 0.3536 - acc: 0.859 - ETA: 9:28 - loss: 0.3502 - acc: 0.860 - ETA: 9:24 - loss: 0.3518 - acc: 0.859 - ETA: 9:22 - loss: 0.3528 - acc: 0.859 - ETA: 9:22 - loss: 0.3528 - acc: 0.857 - ETA: 9:22 - loss: 0.3562 - acc: 0.856 - ETA: 9:20 - loss: 0.3556 - acc: 0.856 - ETA: 9:19 - loss: 0.3506 - acc: 0.858 - ETA: 9:18 - loss: 0.3484 - acc: 0.859 - ETA: 9:18 - loss: 0.3505 - acc: 0.858 - ETA: 9:18 - loss: 0.3553 - acc: 0.856 - ETA: 9:18 - loss: 0.3583 - acc: 0.854 - ETA: 9:17 - loss: 0.3559 - acc: 0.855 - ETA: 9:15 - loss: 0.3538 - acc: 0.856 - ETA: 9:14 - loss: 0.3535 - acc: 0.857 - ETA: 9:14 - loss: 0.3520 - acc: 0.858 - ETA: 9:13 - loss: 0.3511 - acc: 0.857 - ETA: 9:12 - loss: 0.3505 - acc: 0.858 - ETA: 9:10 - loss: 0.3497 - acc: 0.858 - ETA: 9:09 - loss: 0.3499 - acc: 0.859 - ETA: 9:08 - loss: 0.3484 - acc: 0.860 - ETA: 9:08 - loss: 0.3489 - acc: 0.860 - ETA: 9:07 - loss: 0.3483 - acc: 0.860 - ETA: 9:06 - loss: 0.3487 - acc: 0.860 - ETA: 9:06 - loss: 0.3478 - acc: 0.861 - ETA: 9:04 - loss: 0.3486 - acc: 0.861 - ETA: 9:03 - loss: 0.3498 - acc: 0.861 - ETA: 9:02 - loss: 0.3505 - acc: 0.860 - ETA: 9:01 - loss: 0.3503 - acc: 0.860 - ETA: 9:00 - loss: 0.3502 - acc: 0.860 - ETA: 8:58 - loss: 0.3495 - acc: 0.860 - ETA: 8:58 - loss: 0.3498 - acc: 0.860 - ETA: 8:57 - loss: 0.3503 - acc: 0.859 - ETA: 8:56 - loss: 0.3508 - acc: 0.859 - ETA: 8:55 - loss: 0.3520 - acc: 0.858 - ETA: 8:54 - loss: 0.3527 - acc: 0.858 - ETA: 8:52 - loss: 0.3526 - acc: 0.858 - ETA: 8:51 - loss: 0.3518 - acc: 0.858 - ETA: 8:51 - loss: 0.3509 - acc: 0.859 - ETA: 8:49 - loss: 0.3500 - acc: 0.859 - ETA: 8:48 - loss: 0.3495 - acc: 0.860 - ETA: 8:47 - loss: 0.3490 - acc: 0.860 - ETA: 8:46 - loss: 0.3487 - acc: 0.860 - ETA: 8:45 - loss: 0.3477 - acc: 0.860 - ETA: 8:44 - loss: 0.3479 - acc: 0.860 - ETA: 8:43 - loss: 0.3488 - acc: 0.860 - ETA: 8:41 - loss: 0.3483 - acc: 0.860 - ETA: 8:40 - loss: 0.3468 - acc: 0.861 - ETA: 8:40 - loss: 0.3479 - acc: 0.860 - ETA: 8:38 - loss: 0.3481 - acc: 0.860 - ETA: 8:37 - loss: 0.3481 - acc: 0.861 - ETA: 8:36 - loss: 0.3483 - acc: 0.861 - ETA: 8:35 - loss: 0.3471 - acc: 0.861 - ETA: 8:34 - loss: 0.3462 - acc: 0.861 - ETA: 8:33 - loss: 0.3457 - acc: 0.862 - ETA: 8:32 - loss: 0.3466 - acc: 0.861 - ETA: 8:31 - loss: 0.3461 - acc: 0.861 - ETA: 8:30 - loss: 0.3468 - acc: 0.861 - ETA: 8:29 - loss: 0.3479 - acc: 0.860 - ETA: 8:28 - loss: 0.3474 - acc: 0.860 - ETA: 8:27 - loss: 0.3477 - acc: 0.860 - ETA: 8:26 - loss: 0.3474 - acc: 0.861 - ETA: 8:24 - loss: 0.3486 - acc: 0.860 - ETA: 8:23 - loss: 0.3497 - acc: 0.859 - ETA: 8:22 - loss: 0.3495 - acc: 0.859 - ETA: 8:21 - loss: 0.3494 - acc: 0.860 - ETA: 8:20 - loss: 0.3498 - acc: 0.859 - ETA: 8:19 - loss: 0.3494 - acc: 0.859 - ETA: 8:18 - loss: 0.3492 - acc: 0.859 - ETA: 8:17 - loss: 0.3486 - acc: 0.860 - ETA: 8:16 - loss: 0.3496 - acc: 0.859 - ETA: 8:15 - loss: 0.3492 - acc: 0.859 - ETA: 8:14 - loss: 0.3492 - acc: 0.860 - ETA: 8:13 - loss: 0.3492 - acc: 0.860 - ETA: 8:12 - loss: 0.3488 - acc: 0.860 - ETA: 8:11 - loss: 0.3485 - acc: 0.860 - ETA: 8:10 - loss: 0.3485 - acc: 0.860 - ETA: 8:09 - loss: 0.3484 - acc: 0.860 - ETA: 8:08 - loss: 0.3486 - acc: 0.860 - ETA: 8:07 - loss: 0.3495 - acc: 0.859 - ETA: 8:06 - loss: 0.3500 - acc: 0.859 - ETA: 8:05 - loss: 0.3492 - acc: 0.859 - ETA: 8:04 - loss: 0.3499 - acc: 0.859 - ETA: 8:03 - loss: 0.3504 - acc: 0.859 - ETA: 8:02 - loss: 0.3503 - acc: 0.859 - ETA: 8:01 - loss: 0.3503 - acc: 0.859 - ETA: 8:00 - loss: 0.3501 - acc: 0.859 - ETA: 7:59 - loss: 0.3502 - acc: 0.859 - ETA: 7:58 - loss: 0.3502 - acc: 0.859 - ETA: 7:57 - loss: 0.3504 - acc: 0.859 - ETA: 7:56 - loss: 0.3508 - acc: 0.859 - ETA: 7:55 - loss: 0.3515 - acc: 0.858 - ETA: 7:54 - loss: 0.3517 - acc: 0.858 - ETA: 7:53 - loss: 0.3520 - acc: 0.858 - ETA: 7:52 - loss: 0.3524 - acc: 0.858 - ETA: 7:51 - loss: 0.3522 - acc: 0.858 - ETA: 7:50 - loss: 0.3522 - acc: 0.858 - ETA: 7:49 - loss: 0.3519 - acc: 0.858 - ETA: 7:48 - loss: 0.3519 - acc: 0.858 - ETA: 7:47 - loss: 0.3521 - acc: 0.858 - ETA: 7:46 - loss: 0.3525 - acc: 0.858 - ETA: 7:45 - loss: 0.3528 - acc: 0.857 - ETA: 7:44 - loss: 0.3530 - acc: 0.857 - ETA: 7:43 - loss: 0.3524 - acc: 0.858 - ETA: 7:42 - loss: 0.3525 - acc: 0.858 - ETA: 7:41 - loss: 0.3525 - acc: 0.857 - ETA: 7:40 - loss: 0.3524 - acc: 0.857 - ETA: 7:39 - loss: 0.3524 - acc: 0.858 - ETA: 7:38 - loss: 0.3523 - acc: 0.858 - ETA: 7:37 - loss: 0.3521 - acc: 0.858 - ETA: 7:36 - loss: 0.3521 - acc: 0.858 - ETA: 7:35 - loss: 0.3521 - acc: 0.858 - ETA: 7:34 - loss: 0.3524 - acc: 0.858 - ETA: 7:33 - loss: 0.3527 - acc: 0.858 - ETA: 7:32 - loss: 0.3524 - acc: 0.858 - ETA: 7:31 - loss: 0.3520 - acc: 0.858 - ETA: 7:30 - loss: 0.3518 - acc: 0.858 - ETA: 7:29 - loss: 0.3515 - acc: 0.858 - ETA: 7:28 - loss: 0.3518 - acc: 0.858 - ETA: 7:27 - loss: 0.3517 - acc: 0.858 - ETA: 7:26 - loss: 0.3522 - acc: 0.858 - ETA: 7:25 - loss: 0.3519 - acc: 0.858 - ETA: 7:24 - loss: 0.3518 - acc: 0.858 - ETA: 7:23 - loss: 0.3519 - acc: 0.858 - ETA: 7:22 - loss: 0.3522 - acc: 0.858 - ETA: 7:21 - loss: 0.3524 - acc: 0.858 - ETA: 7:20 - loss: 0.3521 - acc: 0.858 - ETA: 7:19 - loss: 0.3517 - acc: 0.859 - ETA: 7:18 - loss: 0.3520 - acc: 0.859 - ETA: 7:17 - loss: 0.3516 - acc: 0.859 - ETA: 7:16 - loss: 0.3513 - acc: 0.859 - ETA: 7:15 - loss: 0.3509 - acc: 0.859 - ETA: 7:13 - loss: 0.3514 - acc: 0.859 - ETA: 7:12 - loss: 0.3518 - acc: 0.858 - ETA: 7:12 - loss: 0.3518 - acc: 0.858 - ETA: 7:10 - loss: 0.3517 - acc: 0.858 - ETA: 7:09 - loss: 0.3515 - acc: 0.859 - ETA: 7:08 - loss: 0.3515 - acc: 0.859 - ETA: 7:07 - loss: 0.3512 - acc: 0.859 - ETA: 7:06 - loss: 0.3514 - acc: 0.859 - ETA: 7:05 - loss: 0.3513 - acc: 0.859 - ETA: 7:04 - loss: 0.3513 - acc: 0.859 - ETA: 7:03 - loss: 0.3510 - acc: 0.859 - ETA: 7:02 - loss: 0.3512 - acc: 0.859 - ETA: 7:01 - loss: 0.3512 - acc: 0.859 - ETA: 7:00 - loss: 0.3513 - acc: 0.859 - ETA: 6:59 - loss: 0.3515 - acc: 0.859 - ETA: 6:58 - loss: 0.3516 - acc: 0.859 - ETA: 6:57 - loss: 0.3515 - acc: 0.859 - ETA: 6:56 - loss: 0.3519 - acc: 0.859 - ETA: 6:55 - loss: 0.3523 - acc: 0.858 - ETA: 6:54 - loss: 0.3525 - acc: 0.858 - ETA: 6:53 - loss: 0.3522 - acc: 0.859 - ETA: 6:52 - loss: 0.3523 - acc: 0.859 - ETA: 6:51 - loss: 0.3522 - acc: 0.859 - ETA: 6:50 - loss: 0.3527 - acc: 0.858 - ETA: 6:49 - loss: 0.3530 - acc: 0.858 - ETA: 6:48 - loss: 0.3533 - acc: 0.858 - ETA: 6:47 - loss: 0.3529 - acc: 0.858 - ETA: 6:46 - loss: 0.3530 - acc: 0.858 - ETA: 6:45 - loss: 0.3530 - acc: 0.858 - ETA: 6:44 - loss: 0.3532 - acc: 0.858 - ETA: 6:43 - loss: 0.3530 - acc: 0.858 - ETA: 6:42 - loss: 0.3527 - acc: 0.858 - ETA: 6:41 - loss: 0.3526 - acc: 0.858 - ETA: 6:40 - loss: 0.3529 - acc: 0.858 - ETA: 6:39 - loss: 0.3527 - acc: 0.858 - ETA: 6:38 - loss: 0.3530 - acc: 0.858 - ETA: 6:37 - loss: 0.3532 - acc: 0.858 - ETA: 6:36 - loss: 0.3538 - acc: 0.858 - ETA: 6:35 - loss: 0.3541 - acc: 0.857 - ETA: 6:34 - loss: 0.3539 - acc: 0.858 - ETA: 6:33 - loss: 0.3540 - acc: 0.858 - ETA: 6:32 - loss: 0.3540 - acc: 0.858 - ETA: 6:31 - loss: 0.3540 - acc: 0.858 - ETA: 6:30 - loss: 0.3540 - acc: 0.858 - ETA: 6:29 - loss: 0.3541 - acc: 0.857 - ETA: 6:28 - loss: 0.3541 - acc: 0.857 - ETA: 6:27 - loss: 0.3540 - acc: 0.858 - ETA: 6:25 - loss: 0.3541 - acc: 0.857 - ETA: 6:24 - loss: 0.3539 - acc: 0.858 - ETA: 6:23 - loss: 0.3539 - acc: 0.858 - ETA: 6:22 - loss: 0.3535 - acc: 0.858 - ETA: 6:21 - loss: 0.3535 - acc: 0.858 - ETA: 6:20 - loss: 0.3534 - acc: 0.858 - ETA: 6:19 - loss: 0.3533 - acc: 0.858 - ETA: 6:18 - loss: 0.3534 - acc: 0.858 - ETA: 6:17 - loss: 0.3534 - acc: 0.858 - ETA: 6:16 - loss: 0.3532 - acc: 0.858 - ETA: 6:15 - loss: 0.3531 - acc: 0.858 - ETA: 6:14 - loss: 0.3533 - acc: 0.858 - ETA: 6:13 - loss: 0.3535 - acc: 0.858 - ETA: 6:12 - loss: 0.3535 - acc: 0.858 - ETA: 6:12 - loss: 0.3536 - acc: 0.8581104448/145664 [====================>.........] - ETA: 6:10 - loss: 0.3533 - acc: 0.858 - ETA: 6:09 - loss: 0.3537 - acc: 0.858 - ETA: 6:08 - loss: 0.3539 - acc: 0.858 - ETA: 6:07 - loss: 0.3537 - acc: 0.858 - ETA: 6:06 - loss: 0.3538 - acc: 0.858 - ETA: 6:05 - loss: 0.3540 - acc: 0.857 - ETA: 6:04 - loss: 0.3538 - acc: 0.858 - ETA: 6:03 - loss: 0.3537 - acc: 0.858 - ETA: 6:02 - loss: 0.3535 - acc: 0.858 - ETA: 6:01 - loss: 0.3534 - acc: 0.858 - ETA: 6:00 - loss: 0.3536 - acc: 0.858 - ETA: 5:59 - loss: 0.3539 - acc: 0.857 - ETA: 5:58 - loss: 0.3539 - acc: 0.857 - ETA: 5:57 - loss: 0.3539 - acc: 0.857 - ETA: 5:56 - loss: 0.3541 - acc: 0.857 - ETA: 5:55 - loss: 0.3541 - acc: 0.857 - ETA: 5:54 - loss: 0.3539 - acc: 0.858 - ETA: 5:53 - loss: 0.3540 - acc: 0.858 - ETA: 5:52 - loss: 0.3535 - acc: 0.858 - ETA: 5:51 - loss: 0.3534 - acc: 0.858 - ETA: 5:50 - loss: 0.3532 - acc: 0.858 - ETA: 5:49 - loss: 0.3534 - acc: 0.858 - ETA: 5:48 - loss: 0.3533 - acc: 0.858 - ETA: 5:47 - loss: 0.3532 - acc: 0.858 - ETA: 5:46 - loss: 0.3532 - acc: 0.858 - ETA: 5:45 - loss: 0.3532 - acc: 0.858 - ETA: 5:44 - loss: 0.3531 - acc: 0.858 - ETA: 5:43 - loss: 0.3532 - acc: 0.858 - ETA: 5:42 - loss: 0.3535 - acc: 0.858 - ETA: 5:41 - loss: 0.3533 - acc: 0.858 - ETA: 5:40 - loss: 0.3531 - acc: 0.858 - ETA: 5:39 - loss: 0.3532 - acc: 0.858 - ETA: 5:38 - loss: 0.3533 - acc: 0.858 - ETA: 5:37 - loss: 0.3532 - acc: 0.858 - ETA: 5:36 - loss: 0.3534 - acc: 0.858 - ETA: 5:35 - loss: 0.3532 - acc: 0.858 - ETA: 5:34 - loss: 0.3533 - acc: 0.858 - ETA: 5:33 - loss: 0.3536 - acc: 0.858 - ETA: 5:32 - loss: 0.3535 - acc: 0.858 - ETA: 5:31 - loss: 0.3535 - acc: 0.858 - ETA: 5:30 - loss: 0.3532 - acc: 0.858 - ETA: 5:29 - loss: 0.3530 - acc: 0.858 - ETA: 5:28 - loss: 0.3530 - acc: 0.858 - ETA: 5:27 - loss: 0.3528 - acc: 0.858 - ETA: 5:26 - loss: 0.3527 - acc: 0.858 - ETA: 5:25 - loss: 0.3526 - acc: 0.858 - ETA: 5:24 - loss: 0.3527 - acc: 0.858 - ETA: 5:23 - loss: 0.3526 - acc: 0.858 - ETA: 5:22 - loss: 0.3526 - acc: 0.858 - ETA: 5:21 - loss: 0.3527 - acc: 0.858 - ETA: 5:20 - loss: 0.3527 - acc: 0.858 - ETA: 5:19 - loss: 0.3527 - acc: 0.858 - ETA: 5:18 - loss: 0.3528 - acc: 0.858 - ETA: 5:16 - loss: 0.3530 - acc: 0.858 - ETA: 5:15 - loss: 0.3529 - acc: 0.858 - ETA: 5:14 - loss: 0.3528 - acc: 0.858 - ETA: 5:13 - loss: 0.3526 - acc: 0.858 - ETA: 5:12 - loss: 0.3523 - acc: 0.859 - ETA: 5:11 - loss: 0.3523 - acc: 0.859 - ETA: 5:10 - loss: 0.3525 - acc: 0.859 - ETA: 5:09 - loss: 0.3524 - acc: 0.859 - ETA: 5:08 - loss: 0.3525 - acc: 0.858 - ETA: 5:07 - loss: 0.3527 - acc: 0.858 - ETA: 5:06 - loss: 0.3527 - acc: 0.858 - ETA: 5:05 - loss: 0.3527 - acc: 0.858 - ETA: 5:04 - loss: 0.3524 - acc: 0.859 - ETA: 5:03 - loss: 0.3525 - acc: 0.859 - ETA: 5:02 - loss: 0.3527 - acc: 0.858 - ETA: 5:01 - loss: 0.3526 - acc: 0.858 - ETA: 5:00 - loss: 0.3527 - acc: 0.858 - ETA: 4:59 - loss: 0.3527 - acc: 0.858 - ETA: 4:58 - loss: 0.3525 - acc: 0.858 - ETA: 4:57 - loss: 0.3525 - acc: 0.859 - ETA: 4:56 - loss: 0.3524 - acc: 0.859 - ETA: 4:55 - loss: 0.3523 - acc: 0.859 - ETA: 4:54 - loss: 0.3521 - acc: 0.859 - ETA: 4:53 - loss: 0.3521 - acc: 0.859 - ETA: 4:52 - loss: 0.3522 - acc: 0.859 - ETA: 4:51 - loss: 0.3520 - acc: 0.859 - ETA: 4:50 - loss: 0.3519 - acc: 0.859 - ETA: 4:49 - loss: 0.3518 - acc: 0.859 - ETA: 4:48 - loss: 0.3518 - acc: 0.859 - ETA: 4:47 - loss: 0.3520 - acc: 0.859 - ETA: 4:46 - loss: 0.3518 - acc: 0.859 - ETA: 4:45 - loss: 0.3518 - acc: 0.859 - ETA: 4:44 - loss: 0.3518 - acc: 0.859 - ETA: 4:43 - loss: 0.3514 - acc: 0.859 - ETA: 4:42 - loss: 0.3515 - acc: 0.859 - ETA: 4:41 - loss: 0.3515 - acc: 0.859 - ETA: 4:40 - loss: 0.3513 - acc: 0.859 - ETA: 4:39 - loss: 0.3515 - acc: 0.859 - ETA: 4:38 - loss: 0.3516 - acc: 0.859 - ETA: 4:36 - loss: 0.3517 - acc: 0.859 - ETA: 4:35 - loss: 0.3516 - acc: 0.859 - ETA: 4:34 - loss: 0.3515 - acc: 0.859 - ETA: 4:33 - loss: 0.3517 - acc: 0.859 - ETA: 4:32 - loss: 0.3518 - acc: 0.859 - ETA: 4:31 - loss: 0.3517 - acc: 0.859 - ETA: 4:30 - loss: 0.3517 - acc: 0.859 - ETA: 4:29 - loss: 0.3517 - acc: 0.859 - ETA: 4:28 - loss: 0.3518 - acc: 0.859 - ETA: 4:27 - loss: 0.3520 - acc: 0.859 - ETA: 4:26 - loss: 0.3519 - acc: 0.859 - ETA: 4:25 - loss: 0.3521 - acc: 0.859 - ETA: 4:24 - loss: 0.3522 - acc: 0.859 - ETA: 4:23 - loss: 0.3522 - acc: 0.859 - ETA: 4:22 - loss: 0.3523 - acc: 0.859 - ETA: 4:21 - loss: 0.3524 - acc: 0.859 - ETA: 4:20 - loss: 0.3525 - acc: 0.859 - ETA: 4:19 - loss: 0.3526 - acc: 0.859 - ETA: 4:18 - loss: 0.3525 - acc: 0.859 - ETA: 4:17 - loss: 0.3523 - acc: 0.859 - ETA: 4:16 - loss: 0.3524 - acc: 0.859 - ETA: 4:15 - loss: 0.3524 - acc: 0.859 - ETA: 4:14 - loss: 0.3524 - acc: 0.859 - ETA: 4:13 - loss: 0.3523 - acc: 0.859 - ETA: 4:12 - loss: 0.3525 - acc: 0.859 - ETA: 4:11 - loss: 0.3523 - acc: 0.859 - ETA: 4:10 - loss: 0.3524 - acc: 0.859 - ETA: 4:09 - loss: 0.3524 - acc: 0.859 - ETA: 4:08 - loss: 0.3525 - acc: 0.859 - ETA: 4:07 - loss: 0.3523 - acc: 0.859 - ETA: 4:06 - loss: 0.3524 - acc: 0.859 - ETA: 4:05 - loss: 0.3527 - acc: 0.859 - ETA: 4:04 - loss: 0.3527 - acc: 0.859 - ETA: 4:03 - loss: 0.3525 - acc: 0.859 - ETA: 4:02 - loss: 0.3525 - acc: 0.859 - ETA: 4:01 - loss: 0.3524 - acc: 0.859 - ETA: 4:00 - loss: 0.3524 - acc: 0.859 - ETA: 3:59 - loss: 0.3525 - acc: 0.859 - ETA: 3:58 - loss: 0.3525 - acc: 0.859 - ETA: 3:57 - loss: 0.3525 - acc: 0.859 - ETA: 3:56 - loss: 0.3524 - acc: 0.859 - ETA: 3:55 - loss: 0.3524 - acc: 0.859 - ETA: 3:54 - loss: 0.3521 - acc: 0.859 - ETA: 3:53 - loss: 0.3519 - acc: 0.859 - ETA: 3:52 - loss: 0.3520 - acc: 0.859 - ETA: 3:51 - loss: 0.3521 - acc: 0.859 - ETA: 3:50 - loss: 0.3521 - acc: 0.859 - ETA: 3:49 - loss: 0.3521 - acc: 0.859 - ETA: 3:48 - loss: 0.3521 - acc: 0.859 - ETA: 3:47 - loss: 0.3518 - acc: 0.859 - ETA: 3:46 - loss: 0.3520 - acc: 0.859 - ETA: 3:45 - loss: 0.3521 - acc: 0.859 - ETA: 3:44 - loss: 0.3523 - acc: 0.859 - ETA: 3:43 - loss: 0.3522 - acc: 0.859 - ETA: 3:42 - loss: 0.3522 - acc: 0.859 - ETA: 3:41 - loss: 0.3521 - acc: 0.859 - ETA: 3:40 - loss: 0.3520 - acc: 0.859 - ETA: 3:39 - loss: 0.3519 - acc: 0.859 - ETA: 3:38 - loss: 0.3519 - acc: 0.859 - ETA: 3:37 - loss: 0.3520 - acc: 0.859 - ETA: 3:36 - loss: 0.3518 - acc: 0.859 - ETA: 3:35 - loss: 0.3517 - acc: 0.859 - ETA: 3:34 - loss: 0.3518 - acc: 0.859 - ETA: 3:33 - loss: 0.3519 - acc: 0.859 - ETA: 3:32 - loss: 0.3518 - acc: 0.859 - ETA: 3:31 - loss: 0.3516 - acc: 0.859 - ETA: 3:29 - loss: 0.3514 - acc: 0.860 - ETA: 3:28 - loss: 0.3514 - acc: 0.860 - ETA: 3:27 - loss: 0.3515 - acc: 0.860 - ETA: 3:26 - loss: 0.3517 - acc: 0.860 - ETA: 3:25 - loss: 0.3517 - acc: 0.860 - ETA: 3:24 - loss: 0.3517 - acc: 0.860 - ETA: 3:23 - loss: 0.3519 - acc: 0.859 - ETA: 3:22 - loss: 0.3519 - acc: 0.859 - ETA: 3:21 - loss: 0.3518 - acc: 0.859 - ETA: 3:20 - loss: 0.3519 - acc: 0.859 - ETA: 3:19 - loss: 0.3518 - acc: 0.859 - ETA: 3:18 - loss: 0.3520 - acc: 0.859 - ETA: 3:17 - loss: 0.3520 - acc: 0.859 - ETA: 3:16 - loss: 0.3519 - acc: 0.859 - ETA: 3:15 - loss: 0.3519 - acc: 0.859 - ETA: 3:14 - loss: 0.3520 - acc: 0.859 - ETA: 3:13 - loss: 0.3520 - acc: 0.859 - ETA: 3:12 - loss: 0.3519 - acc: 0.859 - ETA: 3:11 - loss: 0.3519 - acc: 0.859 - ETA: 3:10 - loss: 0.3518 - acc: 0.859 - ETA: 3:09 - loss: 0.3519 - acc: 0.859 - ETA: 3:08 - loss: 0.3518 - acc: 0.859 - ETA: 3:07 - loss: 0.3518 - acc: 0.859 - ETA: 3:06 - loss: 0.3518 - acc: 0.859 - ETA: 3:05 - loss: 0.3519 - acc: 0.859 - ETA: 3:04 - loss: 0.3519 - acc: 0.859 - ETA: 3:03 - loss: 0.3519 - acc: 0.859 - ETA: 3:02 - loss: 0.3519 - acc: 0.859 - ETA: 3:01 - loss: 0.3520 - acc: 0.859 - ETA: 3:00 - loss: 0.3520 - acc: 0.859 - ETA: 2:59 - loss: 0.3520 - acc: 0.859 - ETA: 2:58 - loss: 0.3519 - acc: 0.859 - ETA: 2:57 - loss: 0.3520 - acc: 0.859 - ETA: 2:56 - loss: 0.3520 - acc: 0.859 - ETA: 2:55 - loss: 0.3521 - acc: 0.859 - ETA: 2:54 - loss: 0.3522 - acc: 0.859 - ETA: 2:53 - loss: 0.3523 - acc: 0.859 - ETA: 2:52 - loss: 0.3522 - acc: 0.859 - ETA: 2:51 - loss: 0.3522 - acc: 0.859 - ETA: 2:50 - loss: 0.3522 - acc: 0.859 - ETA: 2:49 - loss: 0.3521 - acc: 0.859 - ETA: 2:48 - loss: 0.3522 - acc: 0.859 - ETA: 2:47 - loss: 0.3521 - acc: 0.859 - ETA: 2:46 - loss: 0.3520 - acc: 0.859 - ETA: 2:45 - loss: 0.3520 - acc: 0.859 - ETA: 2:44 - loss: 0.3520 - acc: 0.8597"
     ]
    },
    {
     "name": "stdout",
     "output_type": "stream",
     "text": [
      "145664/145664 [==============================] - ETA: 2:43 - loss: 0.3520 - acc: 0.859 - ETA: 2:42 - loss: 0.3519 - acc: 0.859 - ETA: 2:41 - loss: 0.3520 - acc: 0.859 - ETA: 2:40 - loss: 0.3520 - acc: 0.859 - ETA: 2:39 - loss: 0.3520 - acc: 0.859 - ETA: 2:38 - loss: 0.3521 - acc: 0.859 - ETA: 2:37 - loss: 0.3521 - acc: 0.859 - ETA: 2:36 - loss: 0.3521 - acc: 0.859 - ETA: 2:35 - loss: 0.3520 - acc: 0.859 - ETA: 2:33 - loss: 0.3519 - acc: 0.859 - ETA: 2:32 - loss: 0.3520 - acc: 0.859 - ETA: 2:31 - loss: 0.3521 - acc: 0.859 - ETA: 2:30 - loss: 0.3521 - acc: 0.859 - ETA: 2:29 - loss: 0.3522 - acc: 0.859 - ETA: 2:28 - loss: 0.3522 - acc: 0.859 - ETA: 2:27 - loss: 0.3521 - acc: 0.859 - ETA: 2:26 - loss: 0.3521 - acc: 0.859 - ETA: 2:25 - loss: 0.3520 - acc: 0.859 - ETA: 2:24 - loss: 0.3522 - acc: 0.859 - ETA: 2:23 - loss: 0.3521 - acc: 0.859 - ETA: 2:22 - loss: 0.3520 - acc: 0.859 - ETA: 2:21 - loss: 0.3520 - acc: 0.859 - ETA: 2:20 - loss: 0.3520 - acc: 0.859 - ETA: 2:19 - loss: 0.3519 - acc: 0.859 - ETA: 2:18 - loss: 0.3519 - acc: 0.859 - ETA: 2:17 - loss: 0.3519 - acc: 0.859 - ETA: 2:16 - loss: 0.3518 - acc: 0.859 - ETA: 2:15 - loss: 0.3518 - acc: 0.860 - ETA: 2:14 - loss: 0.3516 - acc: 0.860 - ETA: 2:13 - loss: 0.3517 - acc: 0.860 - ETA: 2:12 - loss: 0.3516 - acc: 0.860 - ETA: 2:11 - loss: 0.3517 - acc: 0.860 - ETA: 2:10 - loss: 0.3516 - acc: 0.860 - ETA: 2:09 - loss: 0.3517 - acc: 0.860 - ETA: 2:08 - loss: 0.3516 - acc: 0.860 - ETA: 2:07 - loss: 0.3514 - acc: 0.860 - ETA: 2:06 - loss: 0.3514 - acc: 0.860 - ETA: 2:05 - loss: 0.3513 - acc: 0.860 - ETA: 2:04 - loss: 0.3513 - acc: 0.860 - ETA: 2:03 - loss: 0.3512 - acc: 0.860 - ETA: 2:02 - loss: 0.3513 - acc: 0.860 - ETA: 2:01 - loss: 0.3513 - acc: 0.860 - ETA: 2:00 - loss: 0.3513 - acc: 0.860 - ETA: 1:59 - loss: 0.3513 - acc: 0.860 - ETA: 1:58 - loss: 0.3513 - acc: 0.860 - ETA: 1:57 - loss: 0.3513 - acc: 0.860 - ETA: 1:56 - loss: 0.3512 - acc: 0.860 - ETA: 1:55 - loss: 0.3513 - acc: 0.860 - ETA: 1:54 - loss: 0.3512 - acc: 0.860 - ETA: 1:53 - loss: 0.3511 - acc: 0.860 - ETA: 1:52 - loss: 0.3512 - acc: 0.860 - ETA: 1:51 - loss: 0.3514 - acc: 0.860 - ETA: 1:50 - loss: 0.3514 - acc: 0.859 - ETA: 1:49 - loss: 0.3515 - acc: 0.859 - ETA: 1:48 - loss: 0.3514 - acc: 0.860 - ETA: 1:47 - loss: 0.3514 - acc: 0.860 - ETA: 1:46 - loss: 0.3515 - acc: 0.860 - ETA: 1:45 - loss: 0.3514 - acc: 0.860 - ETA: 1:44 - loss: 0.3514 - acc: 0.860 - ETA: 1:43 - loss: 0.3513 - acc: 0.860 - ETA: 1:42 - loss: 0.3512 - acc: 0.860 - ETA: 1:41 - loss: 0.3513 - acc: 0.860 - ETA: 1:40 - loss: 0.3514 - acc: 0.860 - ETA: 1:39 - loss: 0.3516 - acc: 0.859 - ETA: 1:38 - loss: 0.3516 - acc: 0.859 - ETA: 1:37 - loss: 0.3516 - acc: 0.860 - ETA: 1:36 - loss: 0.3515 - acc: 0.860 - ETA: 1:35 - loss: 0.3514 - acc: 0.860 - ETA: 1:34 - loss: 0.3513 - acc: 0.860 - ETA: 1:33 - loss: 0.3512 - acc: 0.860 - ETA: 1:31 - loss: 0.3513 - acc: 0.860 - ETA: 1:30 - loss: 0.3513 - acc: 0.860 - ETA: 1:29 - loss: 0.3511 - acc: 0.860 - ETA: 1:28 - loss: 0.3512 - acc: 0.860 - ETA: 1:27 - loss: 0.3512 - acc: 0.860 - ETA: 1:26 - loss: 0.3512 - acc: 0.860 - ETA: 1:25 - loss: 0.3512 - acc: 0.860 - ETA: 1:24 - loss: 0.3511 - acc: 0.860 - ETA: 1:23 - loss: 0.3511 - acc: 0.860 - ETA: 1:22 - loss: 0.3512 - acc: 0.860 - ETA: 1:21 - loss: 0.3511 - acc: 0.860 - ETA: 1:20 - loss: 0.3511 - acc: 0.860 - ETA: 1:19 - loss: 0.3512 - acc: 0.860 - ETA: 1:18 - loss: 0.3511 - acc: 0.860 - ETA: 1:17 - loss: 0.3511 - acc: 0.860 - ETA: 1:16 - loss: 0.3510 - acc: 0.860 - ETA: 1:15 - loss: 0.3511 - acc: 0.860 - ETA: 1:14 - loss: 0.3510 - acc: 0.860 - ETA: 1:13 - loss: 0.3509 - acc: 0.860 - ETA: 1:12 - loss: 0.3509 - acc: 0.860 - ETA: 1:11 - loss: 0.3509 - acc: 0.860 - ETA: 1:10 - loss: 0.3510 - acc: 0.860 - ETA: 1:09 - loss: 0.3510 - acc: 0.860 - ETA: 1:08 - loss: 0.3510 - acc: 0.860 - ETA: 1:07 - loss: 0.3509 - acc: 0.860 - ETA: 1:06 - loss: 0.3507 - acc: 0.860 - ETA: 1:05 - loss: 0.3507 - acc: 0.860 - ETA: 1:04 - loss: 0.3506 - acc: 0.860 - ETA: 1:03 - loss: 0.3506 - acc: 0.860 - ETA: 1:02 - loss: 0.3505 - acc: 0.860 - ETA: 1:01 - loss: 0.3505 - acc: 0.860 - ETA: 1:00 - loss: 0.3505 - acc: 0.860 - ETA: 59s - loss: 0.3504 - acc: 0.860 - ETA: 58s - loss: 0.3504 - acc: 0.86 - ETA: 57s - loss: 0.3504 - acc: 0.86 - ETA: 56s - loss: 0.3504 - acc: 0.86 - ETA: 55s - loss: 0.3503 - acc: 0.86 - ETA: 54s - loss: 0.3502 - acc: 0.86 - ETA: 53s - loss: 0.3503 - acc: 0.86 - ETA: 52s - loss: 0.3503 - acc: 0.86 - ETA: 51s - loss: 0.3503 - acc: 0.86 - ETA: 50s - loss: 0.3503 - acc: 0.86 - ETA: 49s - loss: 0.3503 - acc: 0.86 - ETA: 48s - loss: 0.3504 - acc: 0.86 - ETA: 47s - loss: 0.3503 - acc: 0.86 - ETA: 45s - loss: 0.3503 - acc: 0.86 - ETA: 44s - loss: 0.3502 - acc: 0.86 - ETA: 43s - loss: 0.3502 - acc: 0.86 - ETA: 42s - loss: 0.3501 - acc: 0.86 - ETA: 41s - loss: 0.3501 - acc: 0.86 - ETA: 40s - loss: 0.3500 - acc: 0.86 - ETA: 39s - loss: 0.3501 - acc: 0.86 - ETA: 38s - loss: 0.3500 - acc: 0.86 - ETA: 37s - loss: 0.3499 - acc: 0.86 - ETA: 36s - loss: 0.3500 - acc: 0.86 - ETA: 35s - loss: 0.3500 - acc: 0.86 - ETA: 34s - loss: 0.3500 - acc: 0.86 - ETA: 33s - loss: 0.3499 - acc: 0.86 - ETA: 32s - loss: 0.3500 - acc: 0.86 - ETA: 31s - loss: 0.3500 - acc: 0.86 - ETA: 30s - loss: 0.3499 - acc: 0.86 - ETA: 29s - loss: 0.3498 - acc: 0.86 - ETA: 28s - loss: 0.3498 - acc: 0.86 - ETA: 27s - loss: 0.3498 - acc: 0.86 - ETA: 26s - loss: 0.3498 - acc: 0.86 - ETA: 25s - loss: 0.3497 - acc: 0.86 - ETA: 24s - loss: 0.3498 - acc: 0.86 - ETA: 23s - loss: 0.3496 - acc: 0.86 - ETA: 22s - loss: 0.3496 - acc: 0.86 - ETA: 21s - loss: 0.3496 - acc: 0.86 - ETA: 20s - loss: 0.3495 - acc: 0.86 - ETA: 19s - loss: 0.3495 - acc: 0.86 - ETA: 18s - loss: 0.3493 - acc: 0.86 - ETA: 17s - loss: 0.3493 - acc: 0.86 - ETA: 16s - loss: 0.3494 - acc: 0.86 - ETA: 15s - loss: 0.3494 - acc: 0.86 - ETA: 14s - loss: 0.3494 - acc: 0.86 - ETA: 13s - loss: 0.3496 - acc: 0.86 - ETA: 12s - loss: 0.3497 - acc: 0.86 - ETA: 11s - loss: 0.3497 - acc: 0.86 - ETA: 10s - loss: 0.3498 - acc: 0.86 - ETA: 9s - loss: 0.3498 - acc: 0.8607 - ETA: 8s - loss: 0.3498 - acc: 0.860 - ETA: 7s - loss: 0.3499 - acc: 0.860 - ETA: 6s - loss: 0.3501 - acc: 0.860 - ETA: 5s - loss: 0.3502 - acc: 0.860 - ETA: 4s - loss: 0.3502 - acc: 0.860 - ETA: 3s - loss: 0.3503 - acc: 0.860 - ETA: 2s - loss: 0.3503 - acc: 0.860 - ETA: 1s - loss: 0.3503 - acc: 0.860 - 634s 4ms/step - loss: 0.3503 - acc: 0.8605 - val_loss: 0.3578 - val_acc: 0.8580\n"
     ]
    }
   ],
   "source": [
    "history_new=model2.fit([X_train_nontextpart, X_train_text], y_train, epochs=6, batch_size=256, validation_split=0.2, verbose=1)"
   ]
  },
  {
   "cell_type": "code",
   "execution_count": 39,
   "metadata": {
    "scrolled": true
   },
   "outputs": [
    {
     "data": {
      "image/png": "[encoded data removed]",
      "text/plain": [
       "<matplotlib.figure.Figure at 0x1f8fba19908>"
      ]
     },
     "metadata": {},
     "output_type": "display_data"
    },
    {
     "data": {
      "image/png": "[encoded data removed]",
      "text/plain": [
       "<matplotlib.figure.Figure at 0x1f8ecc67080>"
      ]
     },
     "metadata": {},
     "output_type": "display_data"
    }
   ],
   "source": [
    "%matplotlib inline\n",
    "import matplotlib.pyplot as plt\n",
    "acc = history_new.history['acc']\n",
    "val_acc = history_new.history['val_acc']\n",
    "loss = history_new.history['loss']\n",
    "val_loss = history_new.history['val_loss']\n",
    "\n",
    "epochs=range(1,len(acc)+1)\n",
    "\n",
    "plt.plot(epochs,acc,'bo',label='training acc')\n",
    "plt.plot(epochs,val_acc,'b',label='val acc')\n",
    "\n",
    "plt.title('accuracy')\n",
    "plt.legend()\n",
    "plt.figure()\n",
    "\n",
    "plt.plot(epochs,loss,'bo',label='training loss')\n",
    "plt.plot(epochs,val_loss,'b',label='val loss')\n",
    "\n",
    "plt.title('loss')\n",
    "plt.legend()\n",
    "\n",
    "plt.show()\n",
    "#8 epochs is best"
   ]
  },
  {
   "cell_type": "code",
   "execution_count": 41,
   "metadata": {},
   "outputs": [],
   "source": [
    "model2.save('model_new_6epochs.h5')"
   ]
  },
  {
   "cell_type": "code",
   "execution_count": 42,
   "metadata": {},
   "outputs": [
    {
     "name": "stdout",
     "output_type": "stream",
     "text": [
      "78035/78035 [==============================] - ETA: 5: - ETA: 3: - ETA: 3: - ETA: 2: - ETA: 2: - ETA: 2: - ETA: 2: - ETA: 2: - ETA: 2: - ETA: 2: - ETA: 2: - ETA: 2: - ETA: 2: - ETA: 2: - ETA: 2: - ETA: 2: - ETA: 2: - ETA: 1: - ETA: 1: - ETA: 1: - ETA: 1: - ETA: 1: - ETA: 1: - ETA: 1: - ETA: 1: - ETA: 1: - ETA: 1: - ETA: 1: - ETA: 1: - ETA: 1: - ETA: 1: - ETA: 1: - ETA: 1: - ETA: 1: - ETA: 1: - ETA: 1: - ETA: 1: - ETA: 1: - ETA: 1: - ETA: 1: - ETA: 1: - ETA: 1: - ETA: 1: - ETA: 1: - ETA: 1: - ETA: 1: - ETA: 1: - ETA: 1: - ETA: 1: - ETA: 1: - ETA: 1: - ETA: 1: - ETA: 1: - ETA: 1: - ETA: 1: - ETA: 1: - ETA: 1: - ETA: 1: - ETA: 1: - ETA: 1: - ETA: 1: - ETA: 1: - ETA: 1: - ETA: 1: - ETA: 1: - ETA: 1: - ETA: 1: - ETA: 1: - ETA: 1: - ETA: 1: - ETA: 1: - ETA: 1: - ETA: 1: - ETA: 1: - ETA: 1: - ETA: 1: - ETA: 1: - ETA: 1: - ETA: 1: - ETA: 1: - ETA: 1: - ETA: 1: - ETA: 1: - ETA: 1: - ETA: 1: - ETA: 1: - ETA: 1: - ETA: 1: - ETA: 1: - ETA: 1: - ETA: 1: - ETA: 1: - ETA: 1: - ETA: 1: - ETA: 1: - ETA: 1: - ETA: 1: - ETA: 1: - ETA: 1: - ETA: 1: - ETA: 1: - ETA: 1: - ETA: 1: - ETA: 1: - ETA: 1: - ETA: 1: - ETA: 1: - ETA: 1: - ETA: 1: - ETA: 1: - ETA: 1: - ETA: 1: - ETA: 1: - ETA: 1: - ETA: 1: - ETA: 1: - ETA: 1: - ETA: 1: - ETA: 1: - ETA: 1: - ETA: 1: - ETA: 1: - ETA: 1: - ETA: 1: - ETA: 1: - ETA: 1: - ETA: 1: - ETA: 1: - ETA: 1: - ETA: 1: - ETA: 1: - ETA: 1: - ETA: 1: - ETA: 1: - ETA: 1: - ETA: 1: - ETA: 1: - ETA: 1: - ETA: 1: - ETA: 1: - ETA: 1: - ETA: 1: - ETA: 1: - ETA: 1: - ETA: 59s - ETA: 59 - ETA: 59 - ETA: 58 - ETA: 58 - ETA: 58 - ETA: 57 - ETA: 57 - ETA: 56 - ETA: 56 - ETA: 56 - ETA: 55 - ETA: 55 - ETA: 55 - ETA: 54 - ETA: 54 - ETA: 53 - ETA: 53 - ETA: 53 - ETA: 52 - ETA: 52 - ETA: 52 - ETA: 51 - ETA: 51 - ETA: 50 - ETA: 50 - ETA: 50 - ETA: 49 - ETA: 49 - ETA: 49 - ETA: 48 - ETA: 48 - ETA: 47 - ETA: 47 - ETA: 47 - ETA: 46 - ETA: 46 - ETA: 46 - ETA: 45 - ETA: 45 - ETA: 44 - ETA: 44 - ETA: 44 - ETA: 43 - ETA: 43 - ETA: 43 - ETA: 42 - ETA: 42 - ETA: 41 - ETA: 41 - ETA: 41 - ETA: 40 - ETA: 40 - ETA: 40 - ETA: 39 - ETA: 39 - ETA: 38 - ETA: 38 - ETA: 38 - ETA: 37 - ETA: 37 - ETA: 37 - ETA: 36 - ETA: 36 - ETA: 35 - ETA: 35 - ETA: 35 - ETA: 34 - ETA: 34 - ETA: 34 - ETA: 33 - ETA: 33 - ETA: 32 - ETA: 32 - ETA: 32 - ETA: 31 - ETA: 31 - ETA: 31 - ETA: 30 - ETA: 30 - ETA: 29 - ETA: 29 - ETA: 29 - ETA: 28 - ETA: 28 - ETA: 28 - ETA: 27 - ETA: 27 - ETA: 26 - ETA: 26 - ETA: 26 - ETA: 25 - ETA: 25 - ETA: 25 - ETA: 24 - ETA: 24 - ETA: 23 - ETA: 23 - ETA: 23 - ETA: 22 - ETA: 22 - ETA: 22 - ETA: 21 - ETA: 21 - ETA: 20 - ETA: 20 - ETA: 20 - ETA: 19 - ETA: 19 - ETA: 19 - ETA: 18 - ETA: 18 - ETA: 17 - ETA: 17 - ETA: 17 - ETA: 16 - ETA: 16 - ETA: 16 - ETA: 15 - ETA: 15 - ETA: 14 - ETA: 14 - ETA: 14 - ETA: 13 - ETA: 13 - ETA: 13 - ETA: 12 - ETA: 12 - ETA: 11 - ETA: 11 - ETA: 11 - ETA: 10 - ETA: 10 - ETA: 10 - ETA: 9 - ETA:  - ETA:  - ETA:  - ETA:  - ETA:  - ETA:  - ETA:  - ETA:  - ETA:  - ETA:  - ETA:  - ETA:  - ETA:  - ETA:  - ETA:  - ETA:  - ETA:  - ETA:  - ETA:  - ETA:  - ETA:  - ETA:  - ETA:  - ETA:  - ETA:  - 114s 1ms/step\n"
     ]
    }
   ],
   "source": [
    "#from keras.models import load_model\n",
    "#import h5py\n",
    "#model1 = load_model('model1.h5')\n",
    "\n",
    "\n",
    "\n",
    "pred = model2.predict([X_test_nontextpart, X_test_text], batch_size=256, verbose=1)\n",
    "submission = pd.DataFrame({\n",
    "    \"id\": test[\"id\"],\n",
    "    \"project_is_approved\": pred.reshape(-1),\n",
    "})\n",
    "submission.to_csv('fiddle_6epoch_4-24.csv', index=False)"
   ]
  },
  {
   "cell_type": "markdown",
   "metadata": {},
   "source": [
    "# one more epoch"
   ]
  },
  {
   "cell_type": "code",
   "execution_count": 43,
   "metadata": {},
   "outputs": [
    {
     "name": "stdout",
     "output_type": "stream",
     "text": [
      "36416/36416 [==============================] - ETA: 2: - ETA: 1: - ETA: 1: - ETA: 1: - ETA: 1: - ETA: 1: - ETA: 1: - ETA: 58s - ETA: 56 - ETA: 56 - ETA: 55 - ETA: 54 - ETA: 53 - ETA: 52 - ETA: 52 - ETA: 51 - ETA: 50 - ETA: 49 - ETA: 49 - ETA: 48 - ETA: 48 - ETA: 47 - ETA: 47 - ETA: 46 - ETA: 46 - ETA: 45 - ETA: 45 - ETA: 44 - ETA: 44 - ETA: 43 - ETA: 43 - ETA: 42 - ETA: 42 - ETA: 42 - ETA: 41 - ETA: 41 - ETA: 40 - ETA: 40 - ETA: 39 - ETA: 39 - ETA: 39 - ETA: 38 - ETA: 38 - ETA: 37 - ETA: 37 - ETA: 37 - ETA: 36 - ETA: 36 - ETA: 35 - ETA: 35 - ETA: 34 - ETA: 34 - ETA: 34 - ETA: 33 - ETA: 33 - ETA: 32 - ETA: 32 - ETA: 32 - ETA: 31 - ETA: 31 - ETA: 30 - ETA: 30 - ETA: 30 - ETA: 29 - ETA: 29 - ETA: 28 - ETA: 28 - ETA: 28 - ETA: 27 - ETA: 27 - ETA: 26 - ETA: 26 - ETA: 26 - ETA: 25 - ETA: 25 - ETA: 25 - ETA: 24 - ETA: 24 - ETA: 23 - ETA: 23 - ETA: 23 - ETA: 22 - ETA: 22 - ETA: 21 - ETA: 21 - ETA: 21 - ETA: 20 - ETA: 20 - ETA: 20 - ETA: 19 - ETA: 19 - ETA: 18 - ETA: 18 - ETA: 18 - ETA: 17 - ETA: 17 - ETA: 17 - ETA: 16 - ETA: 16 - ETA: 15 - ETA: 15 - ETA: 15 - ETA: 14 - ETA: 14 - ETA: 13 - ETA: 13 - ETA: 13 - ETA: 12 - ETA: 12 - ETA: 12 - ETA: 11 - ETA: 11 - ETA: 10 - ETA: 10 - ETA: 10 - ETA: 9 - ETA:  - ETA:  - ETA:  - ETA:  - ETA:  - ETA:  - ETA:  - ETA:  - ETA:  - ETA:  - ETA:  - ETA:  - ETA:  - ETA:  - ETA:  - ETA:  - ETA:  - ETA:  - ETA:  - ETA:  - ETA:  - ETA:  - ETA:  - ETA:  - ETA:  - ETA:  - 53s 1ms/step\n"
     ]
    },
    {
     "data": {
      "text/plain": [
       "0.7724301297272691"
      ]
     },
     "execution_count": 43,
     "metadata": {},
     "output_type": "execute_result"
    }
   ],
   "source": [
    "pred_val = model2.predict([X_train_nontextpart[-36416:],X_train_text[-36416:]], batch_size=256, verbose=1)\n",
    "\n",
    "z=y_train[-36416:].reshape(-1,1)\n",
    "from sklearn.metrics import roc_auc_score\n",
    "roc_auc_score(z, pred_val, sample_weight=None)\n",
    "\n"
   ]
  },
  {
   "cell_type": "code",
   "execution_count": 44,
   "metadata": {},
   "outputs": [
    {
     "name": "stdout",
     "output_type": "stream",
     "text": [
      "182080/182080 [==============================] - ETA: 4: - ETA: 4: - ETA: 4: - ETA: 4: - ETA: 4: - ETA: 4: - ETA: 4: - ETA: 4: - ETA: 4: - ETA: 4: - ETA: 4: - ETA: 4: - ETA: 4: - ETA: 4: - ETA: 4: - ETA: 4: - ETA: 4: - ETA: 4: - ETA: 4: - ETA: 4: - ETA: 4: - ETA: 4: - ETA: 4: - ETA: 4: - ETA: 4: - ETA: 4: - ETA: 4: - ETA: 4: - ETA: 4: - ETA: 4: - ETA: 4: - ETA: 4: - ETA: 4: - ETA: 4: - ETA: 4: - ETA: 4: - ETA: 4: - ETA: 4: - ETA: 4: - ETA: 4: - ETA: 4: - ETA: 4: - ETA: 4: - ETA: 4: - ETA: 4: - ETA: 4: - ETA: 4: - ETA: 4: - ETA: 4: - ETA: 4: - ETA: 4: - ETA: 4: - ETA: 4: - ETA: 4: - ETA: 4: - ETA: 4: - ETA: 4: - ETA: 4: - ETA: 4: - ETA: 4: - ETA: 4: - ETA: 4: - ETA: 4: - ETA: 4: - ETA: 4: - ETA: 3: - ETA: 3: - ETA: 3: - ETA: 3: - ETA: 3: - ETA: 3: - ETA: 3: - ETA: 3: - ETA: 3: - ETA: 3: - ETA: 3: - ETA: 3: - ETA: 3: - ETA: 3: - ETA: 3: - ETA: 3: - ETA: 3: - ETA: 3: - ETA: 3: - ETA: 3: - ETA: 3: - ETA: 3: - ETA: 3: - ETA: 3: - ETA: 3: - ETA: 3: - ETA: 3: - ETA: 3: - ETA: 3: - ETA: 3: - ETA: 3: - ETA: 3: - ETA: 3: - ETA: 3: - ETA: 3: - ETA: 3: - ETA: 3: - ETA: 3: - ETA: 3: - ETA: 3: - ETA: 3: - ETA: 3: - ETA: 3: - ETA: 3: - ETA: 3: - ETA: 3: - ETA: 3: - ETA: 3: - ETA: 3: - ETA: 3: - ETA: 3: - ETA: 3: - ETA: 3: - ETA: 3: - ETA: 3: - ETA: 3: - ETA: 3: - ETA: 3: - ETA: 3: - ETA: 3: - ETA: 3: - ETA: 3: - ETA: 3: - ETA: 3: - ETA: 3: - ETA: 3: - ETA: 3: - ETA: 3: - ETA: 3: - ETA: 3: - ETA: 3: - ETA: 3: - ETA: 3: - ETA: 3: - ETA: 3: - ETA: 3: - ETA: 3: - ETA: 3: - ETA: 3: - ETA: 3: - ETA: 3: - ETA: 3: - ETA: 3: - ETA: 3: - ETA: 3: - ETA: 3: - ETA: 3: - ETA: 3: - ETA: 3: - ETA: 3: - ETA: 3: - ETA: 3: - ETA: 3: - ETA: 3: - ETA: 3: - ETA: 3: - ETA: 3: - ETA: 3: - ETA: 3: - ETA: 3: - ETA: 3: - ETA: 3: - ETA: 3: - ETA: 3: - ETA: 3: - ETA: 3: - ETA: 3: - ETA: 3: - ETA: 3: - ETA: 3: - ETA: 3: - ETA: 3: - ETA: 3: - ETA: 3: - ETA: 3: - ETA: 3: - ETA: 3: - ETA: 3: - ETA: 3: - ETA: 3: - ETA: 3: - ETA: 3: - ETA: 3: - ETA: 3: - ETA: 3: - ETA: 3: - ETA: 3: - ETA: 3: - ETA: 3: - ETA: 3: - ETA: 3: - ETA: 3: - ETA: 3: - ETA: 3: - ETA: 3: - ETA: 3: - ETA: 3: - ETA: 3: - ETA: 3: - ETA: 3: - ETA: 3: - ETA: 3: - ETA: 3: - ETA: 3: - ETA: 3: - ETA: 3: - ETA: 3: - ETA: 3: - ETA: 3: - ETA: 3: - ETA: 3: - ETA: 3: - ETA: 3: - ETA: 3: - ETA: 3: - ETA: 3: - ETA: 3: - ETA: 3: - ETA: 3: - ETA: 3: - ETA: 3: - ETA: 2: - ETA: 2: - ETA: 2: - ETA: 2: - ETA: 2: - ETA: 2: - ETA: 2: - ETA: 2: - ETA: 2: - ETA: 2: - ETA: 2: - ETA: 2: - ETA: 2: - ETA: 2: - ETA: 2: - ETA: 2: - ETA: 2: - ETA: 2: - ETA: 2: - ETA: 2: - ETA: 2: - ETA: 2: - ETA: 2: - ETA: 2: - ETA: 2: - ETA: 2: - ETA: 2: - ETA: 2: - ETA: 2: - ETA: 2: - ETA: 2: - ETA: 2: - ETA: 2: - ETA: 2: - ETA: 2: - ETA: 2: - ETA: 2: - ETA: 2: - ETA: 2: - ETA: 2: - ETA: 2: - ETA: 2: - ETA: 2: - ETA: 2: - ETA: 2: - ETA: 2: - ETA: 2: - ETA: 2: - ETA: 2: - ETA: 2: - ETA: 2: - ETA: 2: - ETA: 2: - ETA: 2: - ETA: 2: - ETA: 2: - ETA: 2: - ETA: 2: - ETA: 2: - ETA: 2: - ETA: 2: - ETA: 2: - ETA: 2: - ETA: 2: - ETA: 2: - ETA: 2: - ETA: 2: - ETA: 2: - ETA: 2: - ETA: 2: - ETA: 2: - ETA: 2: - ETA: 2: - ETA: 2: - ETA: 2: - ETA: 2: - ETA: 2: - ETA: 2: - ETA: 2: - ETA: 2: - ETA: 2: - ETA: 2: - ETA: 2: - ETA: 2: - ETA: 2: - ETA: 2: - ETA: 2: - ETA: 2: - ETA: 2: - ETA: 2: - ETA: 2: - ETA: 2: - ETA: 2: - ETA: 2: - ETA: 2: - ETA: 2: - ETA: 2: - ETA: 2: - ETA: 2: - ETA: 2: - ETA: 2: - ETA: 2: - ETA: 2: - ETA: 2: - ETA: 2: - ETA: 2: - ETA: 2: - ETA: 2: - ETA: 2: - ETA: 2: - ETA: 2: - ETA: 2: - ETA: 2: - ETA: 2: - ETA: 2: - ETA: 2: - ETA: 2: - ETA: 2: - ETA: 2: - ETA: 2: - ETA: 2: - ETA: 2: - ETA: 2: - ETA: 2: - ETA: 2: - ETA: 2: - ETA: 2: - ETA: 2: - ETA: 2: - ETA: 2: - ETA: 2: - ETA: 2: - ETA: 2: - ETA: 2: - ETA: 2: - ETA: 2: - ETA: 2: - ETA: 2: - ETA: 2: - ETA: 2: - ETA: 2: - ETA: 2: - ETA: 2: - ETA: 2: - ETA: 2: - ETA: 2: - ETA: 2: - ETA: 2: - ETA: 2: - ETA: 2: - ETA: 2: - ETA: 2: - ETA: 2: - ETA: 2: - ETA: 2: - ETA: 2: - ETA: 2: - ETA: 2: - ETA: 2: - ETA: 2: - ETA: 2: - ETA: 1: - ETA: 1: - ETA: 1: - ETA: 1: - ETA: 1: - ETA: 1: - ETA: 1: - ETA: 1: - ETA: 1: - ETA: 1: - ETA: 1: - ETA: 1: - ETA: 1: - ETA: 1: - ETA: 1: - ETA: 1: - ETA: 1: - ETA: 1: - ETA: 1: - ETA: 1: - ETA: 1: - ETA: 1: - ETA: 1: - ETA: 1: - ETA: 1: - ETA: 1: - ETA: 1: - ETA: 1: - ETA: 1: - ETA: 1: - ETA: 1: - ETA: 1: - ETA: 1: - ETA: 1: - ETA: 1: - ETA: 1: - ETA: 1: - ETA: 1: - ETA: 1: - ETA: 1: - ETA: 1: - ETA: 1: - ETA: 1: - ETA: 1: - ETA: 1: - ETA: 1: - ETA: 1: - ETA: 1: - ETA: 1: - ETA: 1: - ETA: 1: - ETA: 1: - ETA: 1: - ETA: 1: - ETA: 1: - ETA: 1: - ETA: 1: - ETA: 1: - ETA: 1: - ETA: 1: - ETA: 1: - ETA: 1: - ETA: 1: - ETA: 1: - ETA: 1: - ETA: 1: - ETA: 1: - ETA: 1: - ETA: 1: - ETA: 1: - ETA: 1: - ETA: 1: - ETA: 1: - ETA: 1: - ETA: 1: - ETA: 1: - ETA: 1: - ETA: 1: - ETA: 1: - ETA: 1: - ETA: 1: - ETA: 1: - ETA: 1: - ETA: 1: - ETA: 1: - ETA: 1: - ETA: 1: - ETA: 1: - ETA: 1: - ETA: 1: - ETA: 1: - ETA: 1: - ETA: 1: - ETA: 1: - ETA: 1: - ETA: 1: - ETA: 1: - ETA: 1: - ETA: 1: - ETA: 1: - ETA: 1: - ETA: 1: - ETA: 1: - ETA: 1: - ETA: 1: - ETA: 1: - ETA: 1: - ETA: 1: - ETA: 1: - ETA: 1: - ETA: 1: - ETA: 1: - ETA: 1: - ETA: 1: - ETA: 1: - ETA: 1: - ETA: 1: - ETA: 1: - ETA: 1: - ETA: 1: - ETA: 1: - ETA: 1: - ETA: 1: - ETA: 1: - ETA: 1: - ETA: 1: - ETA: 1: - ETA: 1: - ETA: 1: - ETA: 1: - ETA: 1: - ETA: 1: - ETA: 1: - ETA: 1: - ETA: 1: - ETA: 1: - ETA: 1: - ETA: 1: - ETA: 1: - ETA: 1: - ETA: 1: - ETA: 1: - ETA: 1: - ETA: 1: - ETA: 1: - ETA: 1: - ETA: 1: - ETA: 1: - ETA: 1: - ETA: 1: - ETA: 1: - ETA: 1: - ETA: 1: - ETA: 1: - ETA: 1: - ETA: 1: - ETA: 1: - ETA: 1: - ETA: 1: - ETA: 1: - ETA: 1: - ETA: 1: - ETA: 59s - ETA: 59 - ETA: 59 - ETA: 58 - ETA: 58 - ETA: 57 - ETA: 57 - ETA: 57 - ETA: 56 - ETA: 56 - ETA: 56 - ETA: 55 - ETA: 55 - ETA: 54 - ETA: 54 - ETA: 54 - ETA: 53 - ETA: 53 - ETA: 53 - ETA: 52 - ETA: 52 - ETA: 52 - ETA: 51 - ETA: 51 - ETA: 50 - ETA: 50 - ETA: 50 - ETA: 49 - ETA: 49 - ETA: 49 - ETA: 48 - ETA: 48 - ETA: 47 - ETA: 47 - ETA: 47 - ETA: 46 - ETA: 46 - ETA: 46 - ETA: 45 - ETA: 45 - ETA: 44 - ETA: 44 - ETA: 44 - ETA: 43 - ETA: 43 - ETA: 43 - ETA: 42 - ETA: 42 - ETA: 41 - ETA: 41 - ETA: 41 - ETA: 40 - ETA: 40 - ETA: 40 - ETA: 39 - ETA: 39 - ETA: 39 - ETA: 38 - ETA: 38 - ETA: 37 - ETA: 37 - ETA: 37 - ETA: 36 - ETA: 36 - ETA: 36 - ETA: 35 - ETA: 35 - ETA: 34 - ETA: 34 - ETA: 34 - ETA: 33 - ETA: 33 - ETA: 33 - ETA: 32 - ETA: 32 - ETA: 31 - ETA: 31 - ETA: 31 - ETA: 30 - ETA: 30 - ETA: 30 - ETA: 29 - ETA: 29 - ETA: 29 - ETA: 28 - ETA: 28 - ETA: 27 - ETA: 27 - ETA: 27 - ETA: 26 - ETA: 26 - ETA: 26 - ETA: 25 - ETA: 25 - ETA: 24 - ETA: 24 - ETA: 24 - ETA: 23 - ETA: 23 - ETA: 23 - ETA: 22 - ETA: 22 - ETA: 21 - ETA: 21 - ETA: 21 - ETA: 20 - ETA: 20 - ETA: 20 - ETA: 19 - ETA: 19 - ETA: 18 - ETA: 18 - ETA: 18 - ETA: 17 - ETA: 17 - ETA: 17 - ETA: 16 - ETA: 16 - ETA: 16 - ETA: 15 - ETA: 15 - ETA: 14 - ETA: 14 - ETA: 14 - ETA: 13 - ETA: 13 - ETA: 13 - ETA: 12 - ETA: 12 - ETA: 11 - ETA: 11 - ETA: 11 - ETA: 10 - ETA: 10 - ETA: 10 - ETA: 9 - ETA:  - ETA:  - ETA:  - ETA:  - ETA:  - ETA:  - ETA:  - ETA:  - ETA:  - ETA:  - ETA:  - ETA:  - ETA:  - ETA:  - ETA:  - ETA:  - ETA:  - ETA:  - ETA:  - ETA:  - ETA:  - ETA:  - ETA:  - ETA:  - ETA:  - ETA:  - 264s 1ms/step\n"
     ]
    },
    {
     "data": {
      "text/plain": [
       "0.80095623597973953"
      ]
     },
     "execution_count": 44,
     "metadata": {},
     "output_type": "execute_result"
    }
   ],
   "source": [
    "pred_val = model2.predict([X_train_nontextpart,X_train_text], batch_size=256, verbose=1)\n",
    "\n",
    "z=y_train.reshape(-1,1)\n",
    "\n",
    "roc_auc_score(z, pred_val, sample_weight=None)"
   ]
  },
  {
   "cell_type": "code",
   "execution_count": null,
   "metadata": {},
   "outputs": [],
   "source": []
  }
 ],
 "metadata": {
  "kernelspec": {
   "display_name": "Python 3",
   "language": "python",
   "name": "python3"
  },
  "language_info": {
   "codemirror_mode": {
    "name": "ipython",
    "version": 3
   },
   "file_extension": ".py",
   "mimetype": "text/x-python",
   "name": "python",
   "nbconvert_exporter": "python",
   "pygments_lexer": "ipython3",
   "version": "3.5.4"
  }
 },
 "nbformat": 4,
 "nbformat_minor": 2
}
